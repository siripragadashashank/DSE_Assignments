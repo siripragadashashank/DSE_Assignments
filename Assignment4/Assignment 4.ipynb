{
 "cells": [
  {
   "cell_type": "code",
   "execution_count": 545,
   "id": "ea60a2a1",
   "metadata": {},
   "outputs": [],
   "source": [
    "import numpy as np\n",
    "import pandas as pd\n",
    "import matplotlib.pyplot as plt\n",
    "from sklearn.ensemble import RandomForestRegressor\n",
    "from sklearn import metrics\n",
    "from sklearn.model_selection import train_test_split\n",
    "import seaborn as sns\n",
    "sns.set()\n",
    "\n",
    "import warnings\n",
    "warnings.filterwarnings('ignore')\n",
    "%matplotlib inline\n"
   ]
  },
  {
   "cell_type": "code",
   "execution_count": 546,
   "id": "fddb3115",
   "metadata": {},
   "outputs": [
    {
     "data": {
      "text/html": [
       "<div>\n",
       "<style scoped>\n",
       "    .dataframe tbody tr th:only-of-type {\n",
       "        vertical-align: middle;\n",
       "    }\n",
       "\n",
       "    .dataframe tbody tr th {\n",
       "        vertical-align: top;\n",
       "    }\n",
       "\n",
       "    .dataframe thead th {\n",
       "        text-align: right;\n",
       "    }\n",
       "</style>\n",
       "<table border=\"1\" class=\"dataframe\">\n",
       "  <thead>\n",
       "    <tr style=\"text-align: right;\">\n",
       "      <th></th>\n",
       "      <th>Open</th>\n",
       "      <th>High</th>\n",
       "      <th>Low</th>\n",
       "      <th>Close</th>\n",
       "      <th>Volume</th>\n",
       "      <th>Stock</th>\n",
       "    </tr>\n",
       "    <tr>\n",
       "      <th>Date</th>\n",
       "      <th></th>\n",
       "      <th></th>\n",
       "      <th></th>\n",
       "      <th></th>\n",
       "      <th></th>\n",
       "      <th></th>\n",
       "    </tr>\n",
       "  </thead>\n",
       "  <tbody>\n",
       "    <tr>\n",
       "      <th>1984-09-07</th>\n",
       "      <td>0.42388</td>\n",
       "      <td>0.42902</td>\n",
       "      <td>0.41874</td>\n",
       "      <td>0.42388</td>\n",
       "      <td>23220030</td>\n",
       "      <td>AAPL</td>\n",
       "    </tr>\n",
       "    <tr>\n",
       "      <th>1984-09-10</th>\n",
       "      <td>0.42388</td>\n",
       "      <td>0.42516</td>\n",
       "      <td>0.41366</td>\n",
       "      <td>0.42134</td>\n",
       "      <td>18022532</td>\n",
       "      <td>AAPL</td>\n",
       "    </tr>\n",
       "    <tr>\n",
       "      <th>1984-09-11</th>\n",
       "      <td>0.42516</td>\n",
       "      <td>0.43668</td>\n",
       "      <td>0.42516</td>\n",
       "      <td>0.42902</td>\n",
       "      <td>42498199</td>\n",
       "      <td>AAPL</td>\n",
       "    </tr>\n",
       "    <tr>\n",
       "      <th>1984-09-12</th>\n",
       "      <td>0.42902</td>\n",
       "      <td>0.43157</td>\n",
       "      <td>0.41618</td>\n",
       "      <td>0.41618</td>\n",
       "      <td>37125801</td>\n",
       "      <td>AAPL</td>\n",
       "    </tr>\n",
       "    <tr>\n",
       "      <th>1984-09-13</th>\n",
       "      <td>0.43927</td>\n",
       "      <td>0.44052</td>\n",
       "      <td>0.43927</td>\n",
       "      <td>0.43927</td>\n",
       "      <td>57822062</td>\n",
       "      <td>AAPL</td>\n",
       "    </tr>\n",
       "    <tr>\n",
       "      <th>...</th>\n",
       "      <td>...</td>\n",
       "      <td>...</td>\n",
       "      <td>...</td>\n",
       "      <td>...</td>\n",
       "      <td>...</td>\n",
       "      <td>...</td>\n",
       "    </tr>\n",
       "    <tr>\n",
       "      <th>2017-11-06</th>\n",
       "      <td>178.56000</td>\n",
       "      <td>180.45000</td>\n",
       "      <td>178.31000</td>\n",
       "      <td>180.17000</td>\n",
       "      <td>13275578</td>\n",
       "      <td>FB</td>\n",
       "    </tr>\n",
       "    <tr>\n",
       "      <th>2017-11-07</th>\n",
       "      <td>180.50000</td>\n",
       "      <td>180.74800</td>\n",
       "      <td>179.40300</td>\n",
       "      <td>180.25000</td>\n",
       "      <td>12903836</td>\n",
       "      <td>FB</td>\n",
       "    </tr>\n",
       "    <tr>\n",
       "      <th>2017-11-08</th>\n",
       "      <td>179.79000</td>\n",
       "      <td>180.35000</td>\n",
       "      <td>179.11000</td>\n",
       "      <td>179.56000</td>\n",
       "      <td>10467606</td>\n",
       "      <td>FB</td>\n",
       "    </tr>\n",
       "    <tr>\n",
       "      <th>2017-11-09</th>\n",
       "      <td>178.31000</td>\n",
       "      <td>179.40000</td>\n",
       "      <td>177.09000</td>\n",
       "      <td>179.30000</td>\n",
       "      <td>12602188</td>\n",
       "      <td>FB</td>\n",
       "    </tr>\n",
       "    <tr>\n",
       "      <th>2017-11-10</th>\n",
       "      <td>178.35000</td>\n",
       "      <td>179.10000</td>\n",
       "      <td>177.96000</td>\n",
       "      <td>178.46000</td>\n",
       "      <td>11060355</td>\n",
       "      <td>FB</td>\n",
       "    </tr>\n",
       "  </tbody>\n",
       "</table>\n",
       "<p>19586 rows × 6 columns</p>\n",
       "</div>"
      ],
      "text/plain": [
       "                 Open       High        Low      Close    Volume Stock\n",
       "Date                                                                  \n",
       "1984-09-07    0.42388    0.42902    0.41874    0.42388  23220030  AAPL\n",
       "1984-09-10    0.42388    0.42516    0.41366    0.42134  18022532  AAPL\n",
       "1984-09-11    0.42516    0.43668    0.42516    0.42902  42498199  AAPL\n",
       "1984-09-12    0.42902    0.43157    0.41618    0.41618  37125801  AAPL\n",
       "1984-09-13    0.43927    0.44052    0.43927    0.43927  57822062  AAPL\n",
       "...               ...        ...        ...        ...       ...   ...\n",
       "2017-11-06  178.56000  180.45000  178.31000  180.17000  13275578    FB\n",
       "2017-11-07  180.50000  180.74800  179.40300  180.25000  12903836    FB\n",
       "2017-11-08  179.79000  180.35000  179.11000  179.56000  10467606    FB\n",
       "2017-11-09  178.31000  179.40000  177.09000  179.30000  12602188    FB\n",
       "2017-11-10  178.35000  179.10000  177.96000  178.46000  11060355    FB\n",
       "\n",
       "[19586 rows x 6 columns]"
      ]
     },
     "execution_count": 546,
     "metadata": {},
     "output_type": "execute_result"
    }
   ],
   "source": [
    "data = pd.read_csv('data/stock_data.csv', index_col=['Date'], parse_dates=['Date'])\n",
    "data"
   ]
  },
  {
   "cell_type": "code",
   "execution_count": 547,
   "id": "b248e97d",
   "metadata": {},
   "outputs": [
    {
     "data": {
      "text/plain": [
       "array(['AAPL', 'TSLA', 'MSFT', 'FB'], dtype=object)"
      ]
     },
     "execution_count": 547,
     "metadata": {},
     "output_type": "execute_result"
    }
   ],
   "source": [
    "data.Stock.unique()"
   ]
  },
  {
   "cell_type": "code",
   "execution_count": 548,
   "id": "932db5b1",
   "metadata": {},
   "outputs": [
    {
     "data": {
      "text/plain": [
       "Index(['Open', 'High', 'Low', 'Close', 'Volume', 'Stock'], dtype='object')"
      ]
     },
     "execution_count": 548,
     "metadata": {},
     "output_type": "execute_result"
    }
   ],
   "source": [
    "data.columns"
   ]
  },
  {
   "cell_type": "code",
   "execution_count": 549,
   "id": "8a6ac933",
   "metadata": {},
   "outputs": [],
   "source": [
    "data_aapl = data[data.Stock == 'AAPL']\n",
    "data_msft = data[data.Stock == 'MSFT']\n",
    "data_fb = data[data.Stock == 'FB']\n",
    "data_tsla = data[data.Stock == 'TSLA']"
   ]
  },
  {
   "cell_type": "code",
   "execution_count": 550,
   "id": "62f19ef2",
   "metadata": {},
   "outputs": [
    {
     "data": {
      "text/html": [
       "<div>\n",
       "<style scoped>\n",
       "    .dataframe tbody tr th:only-of-type {\n",
       "        vertical-align: middle;\n",
       "    }\n",
       "\n",
       "    .dataframe tbody tr th {\n",
       "        vertical-align: top;\n",
       "    }\n",
       "\n",
       "    .dataframe thead th {\n",
       "        text-align: right;\n",
       "    }\n",
       "</style>\n",
       "<table border=\"1\" class=\"dataframe\">\n",
       "  <thead>\n",
       "    <tr style=\"text-align: right;\">\n",
       "      <th></th>\n",
       "      <th>Open</th>\n",
       "      <th>High</th>\n",
       "      <th>Low</th>\n",
       "      <th>Close</th>\n",
       "      <th>Volume</th>\n",
       "      <th>Stock</th>\n",
       "    </tr>\n",
       "    <tr>\n",
       "      <th>Date</th>\n",
       "      <th></th>\n",
       "      <th></th>\n",
       "      <th></th>\n",
       "      <th></th>\n",
       "      <th></th>\n",
       "      <th></th>\n",
       "    </tr>\n",
       "  </thead>\n",
       "  <tbody>\n",
       "    <tr>\n",
       "      <th>1986-03-13</th>\n",
       "      <td>0.06720</td>\n",
       "      <td>0.07533</td>\n",
       "      <td>0.06720</td>\n",
       "      <td>0.07533</td>\n",
       "      <td>1371330506</td>\n",
       "      <td>MSFT</td>\n",
       "    </tr>\n",
       "    <tr>\n",
       "      <th>1986-03-14</th>\n",
       "      <td>0.07533</td>\n",
       "      <td>0.07533</td>\n",
       "      <td>0.07533</td>\n",
       "      <td>0.07533</td>\n",
       "      <td>409569463</td>\n",
       "      <td>MSFT</td>\n",
       "    </tr>\n",
       "    <tr>\n",
       "      <th>1986-03-17</th>\n",
       "      <td>0.07533</td>\n",
       "      <td>0.07533</td>\n",
       "      <td>0.07533</td>\n",
       "      <td>0.07533</td>\n",
       "      <td>176995245</td>\n",
       "      <td>MSFT</td>\n",
       "    </tr>\n",
       "    <tr>\n",
       "      <th>1986-03-18</th>\n",
       "      <td>0.07533</td>\n",
       "      <td>0.07533</td>\n",
       "      <td>0.07533</td>\n",
       "      <td>0.07533</td>\n",
       "      <td>90067008</td>\n",
       "      <td>MSFT</td>\n",
       "    </tr>\n",
       "    <tr>\n",
       "      <th>1986-03-19</th>\n",
       "      <td>0.07533</td>\n",
       "      <td>0.07533</td>\n",
       "      <td>0.07533</td>\n",
       "      <td>0.07533</td>\n",
       "      <td>63655515</td>\n",
       "      <td>MSFT</td>\n",
       "    </tr>\n",
       "    <tr>\n",
       "      <th>...</th>\n",
       "      <td>...</td>\n",
       "      <td>...</td>\n",
       "      <td>...</td>\n",
       "      <td>...</td>\n",
       "      <td>...</td>\n",
       "      <td>...</td>\n",
       "    </tr>\n",
       "    <tr>\n",
       "      <th>2017-11-06</th>\n",
       "      <td>84.20000</td>\n",
       "      <td>84.70000</td>\n",
       "      <td>84.08250</td>\n",
       "      <td>84.47000</td>\n",
       "      <td>19852151</td>\n",
       "      <td>MSFT</td>\n",
       "    </tr>\n",
       "    <tr>\n",
       "      <th>2017-11-07</th>\n",
       "      <td>84.77000</td>\n",
       "      <td>84.90000</td>\n",
       "      <td>83.93000</td>\n",
       "      <td>84.26000</td>\n",
       "      <td>17927878</td>\n",
       "      <td>MSFT</td>\n",
       "    </tr>\n",
       "    <tr>\n",
       "      <th>2017-11-08</th>\n",
       "      <td>84.14000</td>\n",
       "      <td>84.61000</td>\n",
       "      <td>83.83000</td>\n",
       "      <td>84.56000</td>\n",
       "      <td>18029584</td>\n",
       "      <td>MSFT</td>\n",
       "    </tr>\n",
       "    <tr>\n",
       "      <th>2017-11-09</th>\n",
       "      <td>84.11000</td>\n",
       "      <td>84.27000</td>\n",
       "      <td>82.90000</td>\n",
       "      <td>84.09000</td>\n",
       "      <td>21175384</td>\n",
       "      <td>MSFT</td>\n",
       "    </tr>\n",
       "    <tr>\n",
       "      <th>2017-11-10</th>\n",
       "      <td>83.79000</td>\n",
       "      <td>84.09500</td>\n",
       "      <td>83.23000</td>\n",
       "      <td>83.87000</td>\n",
       "      <td>19396301</td>\n",
       "      <td>MSFT</td>\n",
       "    </tr>\n",
       "  </tbody>\n",
       "</table>\n",
       "<p>7983 rows × 6 columns</p>\n",
       "</div>"
      ],
      "text/plain": [
       "                Open      High       Low     Close      Volume Stock\n",
       "Date                                                                \n",
       "1986-03-13   0.06720   0.07533   0.06720   0.07533  1371330506  MSFT\n",
       "1986-03-14   0.07533   0.07533   0.07533   0.07533   409569463  MSFT\n",
       "1986-03-17   0.07533   0.07533   0.07533   0.07533   176995245  MSFT\n",
       "1986-03-18   0.07533   0.07533   0.07533   0.07533    90067008  MSFT\n",
       "1986-03-19   0.07533   0.07533   0.07533   0.07533    63655515  MSFT\n",
       "...              ...       ...       ...       ...         ...   ...\n",
       "2017-11-06  84.20000  84.70000  84.08250  84.47000    19852151  MSFT\n",
       "2017-11-07  84.77000  84.90000  83.93000  84.26000    17927878  MSFT\n",
       "2017-11-08  84.14000  84.61000  83.83000  84.56000    18029584  MSFT\n",
       "2017-11-09  84.11000  84.27000  82.90000  84.09000    21175384  MSFT\n",
       "2017-11-10  83.79000  84.09500  83.23000  83.87000    19396301  MSFT\n",
       "\n",
       "[7983 rows x 6 columns]"
      ]
     },
     "execution_count": 550,
     "metadata": {},
     "output_type": "execute_result"
    }
   ],
   "source": [
    "data_msft"
   ]
  },
  {
   "cell_type": "code",
   "execution_count": 551,
   "id": "78aca3b8",
   "metadata": {},
   "outputs": [
    {
     "data": {
      "image/png": "[encoded data removed]",
      "text/plain": [
       "<Figure size 1224x576 with 1 Axes>"
      ]
     },
     "metadata": {
      "needs_background": "light"
     },
     "output_type": "display_data"
    }
   ],
   "source": [
    "import matplotlib.pyplot as plt\n",
    "%matplotlib inline\n",
    "\n",
    "aapl_close = data_aapl['Close']\n",
    "msft_close = data_msft['Close']\n",
    "fb_close = data_fb['Close']\n",
    "tsla_close = data_tsla['Close']\n",
    "\n",
    "plt.figure(figsize=(17, 8))\n",
    "\n",
    "plt.plot(aapl_close, label='Apple')\n",
    "plt.plot(msft_close,label='Microsoft')\n",
    "plt.plot(fb_close,label='Facebook')\n",
    "plt.plot(tsla_close, label='Tesla')\n",
    "\n",
    "plt.xlabel(\"Date\")\n",
    "plt.ylabel(\"Close\")\n",
    "\n",
    "\n",
    "plt.legend()\n",
    "plt.show()"
   ]
  },
  {
   "cell_type": "code",
   "execution_count": 552,
   "id": "d4b5a49e",
   "metadata": {},
   "outputs": [
    {
     "data": {
      "text/html": [
       "<div>\n",
       "<style scoped>\n",
       "    .dataframe tbody tr th:only-of-type {\n",
       "        vertical-align: middle;\n",
       "    }\n",
       "\n",
       "    .dataframe tbody tr th {\n",
       "        vertical-align: top;\n",
       "    }\n",
       "\n",
       "    .dataframe thead th {\n",
       "        text-align: right;\n",
       "    }\n",
       "</style>\n",
       "<table border=\"1\" class=\"dataframe\">\n",
       "  <thead>\n",
       "    <tr style=\"text-align: right;\">\n",
       "      <th></th>\n",
       "      <th>Open</th>\n",
       "      <th>High</th>\n",
       "      <th>Low</th>\n",
       "      <th>Close</th>\n",
       "      <th>Volume</th>\n",
       "      <th>Stock</th>\n",
       "      <th>Close</th>\n",
       "    </tr>\n",
       "    <tr>\n",
       "      <th>Date</th>\n",
       "      <th></th>\n",
       "      <th></th>\n",
       "      <th></th>\n",
       "      <th></th>\n",
       "      <th></th>\n",
       "      <th></th>\n",
       "      <th></th>\n",
       "    </tr>\n",
       "  </thead>\n",
       "  <tbody>\n",
       "    <tr>\n",
       "      <th>1984-09-07</th>\n",
       "      <td>0.42388</td>\n",
       "      <td>0.42902</td>\n",
       "      <td>0.41874</td>\n",
       "      <td>0.42388</td>\n",
       "      <td>23220030</td>\n",
       "      <td>AAPL</td>\n",
       "      <td>0.42134</td>\n",
       "    </tr>\n",
       "    <tr>\n",
       "      <th>1984-09-10</th>\n",
       "      <td>0.42388</td>\n",
       "      <td>0.42516</td>\n",
       "      <td>0.41366</td>\n",
       "      <td>0.42134</td>\n",
       "      <td>18022532</td>\n",
       "      <td>AAPL</td>\n",
       "      <td>0.42902</td>\n",
       "    </tr>\n",
       "    <tr>\n",
       "      <th>1984-09-11</th>\n",
       "      <td>0.42516</td>\n",
       "      <td>0.43668</td>\n",
       "      <td>0.42516</td>\n",
       "      <td>0.42902</td>\n",
       "      <td>42498199</td>\n",
       "      <td>AAPL</td>\n",
       "      <td>0.41618</td>\n",
       "    </tr>\n",
       "    <tr>\n",
       "      <th>1984-09-12</th>\n",
       "      <td>0.42902</td>\n",
       "      <td>0.43157</td>\n",
       "      <td>0.41618</td>\n",
       "      <td>0.41618</td>\n",
       "      <td>37125801</td>\n",
       "      <td>AAPL</td>\n",
       "      <td>0.43927</td>\n",
       "    </tr>\n",
       "    <tr>\n",
       "      <th>1984-09-13</th>\n",
       "      <td>0.43927</td>\n",
       "      <td>0.44052</td>\n",
       "      <td>0.43927</td>\n",
       "      <td>0.43927</td>\n",
       "      <td>57822062</td>\n",
       "      <td>AAPL</td>\n",
       "      <td>0.44566</td>\n",
       "    </tr>\n",
       "    <tr>\n",
       "      <th>...</th>\n",
       "      <td>...</td>\n",
       "      <td>...</td>\n",
       "      <td>...</td>\n",
       "      <td>...</td>\n",
       "      <td>...</td>\n",
       "      <td>...</td>\n",
       "      <td>...</td>\n",
       "    </tr>\n",
       "    <tr>\n",
       "      <th>2017-11-06</th>\n",
       "      <td>171.75000</td>\n",
       "      <td>174.36000</td>\n",
       "      <td>171.10000</td>\n",
       "      <td>173.63000</td>\n",
       "      <td>34901241</td>\n",
       "      <td>AAPL</td>\n",
       "      <td>174.18000</td>\n",
       "    </tr>\n",
       "    <tr>\n",
       "      <th>2017-11-07</th>\n",
       "      <td>173.29000</td>\n",
       "      <td>174.51000</td>\n",
       "      <td>173.29000</td>\n",
       "      <td>174.18000</td>\n",
       "      <td>24424877</td>\n",
       "      <td>AAPL</td>\n",
       "      <td>175.61000</td>\n",
       "    </tr>\n",
       "    <tr>\n",
       "      <th>2017-11-08</th>\n",
       "      <td>174.03000</td>\n",
       "      <td>175.61000</td>\n",
       "      <td>173.71000</td>\n",
       "      <td>175.61000</td>\n",
       "      <td>24451166</td>\n",
       "      <td>AAPL</td>\n",
       "      <td>175.25000</td>\n",
       "    </tr>\n",
       "    <tr>\n",
       "      <th>2017-11-09</th>\n",
       "      <td>174.48000</td>\n",
       "      <td>175.46000</td>\n",
       "      <td>172.52000</td>\n",
       "      <td>175.25000</td>\n",
       "      <td>29533086</td>\n",
       "      <td>AAPL</td>\n",
       "      <td>174.67000</td>\n",
       "    </tr>\n",
       "    <tr>\n",
       "      <th>2017-11-10</th>\n",
       "      <td>175.11000</td>\n",
       "      <td>175.38000</td>\n",
       "      <td>174.27000</td>\n",
       "      <td>174.67000</td>\n",
       "      <td>25130494</td>\n",
       "      <td>AAPL</td>\n",
       "      <td>NaN</td>\n",
       "    </tr>\n",
       "  </tbody>\n",
       "</table>\n",
       "<p>8364 rows × 7 columns</p>\n",
       "</div>"
      ],
      "text/plain": [
       "                 Open       High        Low      Close    Volume Stock  \\\n",
       "Date                                                                     \n",
       "1984-09-07    0.42388    0.42902    0.41874    0.42388  23220030  AAPL   \n",
       "1984-09-10    0.42388    0.42516    0.41366    0.42134  18022532  AAPL   \n",
       "1984-09-11    0.42516    0.43668    0.42516    0.42902  42498199  AAPL   \n",
       "1984-09-12    0.42902    0.43157    0.41618    0.41618  37125801  AAPL   \n",
       "1984-09-13    0.43927    0.44052    0.43927    0.43927  57822062  AAPL   \n",
       "...               ...        ...        ...        ...       ...   ...   \n",
       "2017-11-06  171.75000  174.36000  171.10000  173.63000  34901241  AAPL   \n",
       "2017-11-07  173.29000  174.51000  173.29000  174.18000  24424877  AAPL   \n",
       "2017-11-08  174.03000  175.61000  173.71000  175.61000  24451166  AAPL   \n",
       "2017-11-09  174.48000  175.46000  172.52000  175.25000  29533086  AAPL   \n",
       "2017-11-10  175.11000  175.38000  174.27000  174.67000  25130494  AAPL   \n",
       "\n",
       "                Close  \n",
       "Date                   \n",
       "1984-09-07    0.42134  \n",
       "1984-09-10    0.42902  \n",
       "1984-09-11    0.41618  \n",
       "1984-09-12    0.43927  \n",
       "1984-09-13    0.44566  \n",
       "...               ...  \n",
       "2017-11-06  174.18000  \n",
       "2017-11-07  175.61000  \n",
       "2017-11-08  175.25000  \n",
       "2017-11-09  174.67000  \n",
       "2017-11-10        NaN  \n",
       "\n",
       "[8364 rows x 7 columns]"
      ]
     },
     "execution_count": 552,
     "metadata": {},
     "output_type": "execute_result"
    }
   ],
   "source": [
    "pd.concat([data_aapl, data_aapl.Close.shift(-1)], axis = 1)"
   ]
  },
  {
   "cell_type": "code",
   "execution_count": 553,
   "id": "ce0022f5",
   "metadata": {},
   "outputs": [
    {
     "data": {
      "text/html": [
       "<div>\n",
       "<style scoped>\n",
       "    .dataframe tbody tr th:only-of-type {\n",
       "        vertical-align: middle;\n",
       "    }\n",
       "\n",
       "    .dataframe tbody tr th {\n",
       "        vertical-align: top;\n",
       "    }\n",
       "\n",
       "    .dataframe thead th {\n",
       "        text-align: right;\n",
       "    }\n",
       "</style>\n",
       "<table border=\"1\" class=\"dataframe\">\n",
       "  <thead>\n",
       "    <tr style=\"text-align: right;\">\n",
       "      <th></th>\n",
       "      <th>Open</th>\n",
       "      <th>High</th>\n",
       "      <th>Low</th>\n",
       "      <th>Close</th>\n",
       "      <th>Volume</th>\n",
       "      <th>Stock</th>\n",
       "    </tr>\n",
       "  </thead>\n",
       "  <tbody>\n",
       "    <tr>\n",
       "      <th>0</th>\n",
       "      <td>0.42388</td>\n",
       "      <td>0.42902</td>\n",
       "      <td>0.41874</td>\n",
       "      <td>0.42388</td>\n",
       "      <td>23220030</td>\n",
       "      <td>AAPL</td>\n",
       "    </tr>\n",
       "    <tr>\n",
       "      <th>1</th>\n",
       "      <td>0.42388</td>\n",
       "      <td>0.42516</td>\n",
       "      <td>0.41366</td>\n",
       "      <td>0.42134</td>\n",
       "      <td>18022532</td>\n",
       "      <td>AAPL</td>\n",
       "    </tr>\n",
       "    <tr>\n",
       "      <th>2</th>\n",
       "      <td>0.42516</td>\n",
       "      <td>0.43668</td>\n",
       "      <td>0.42516</td>\n",
       "      <td>0.42902</td>\n",
       "      <td>42498199</td>\n",
       "      <td>AAPL</td>\n",
       "    </tr>\n",
       "    <tr>\n",
       "      <th>3</th>\n",
       "      <td>0.42902</td>\n",
       "      <td>0.43157</td>\n",
       "      <td>0.41618</td>\n",
       "      <td>0.41618</td>\n",
       "      <td>37125801</td>\n",
       "      <td>AAPL</td>\n",
       "    </tr>\n",
       "    <tr>\n",
       "      <th>4</th>\n",
       "      <td>0.43927</td>\n",
       "      <td>0.44052</td>\n",
       "      <td>0.43927</td>\n",
       "      <td>0.43927</td>\n",
       "      <td>57822062</td>\n",
       "      <td>AAPL</td>\n",
       "    </tr>\n",
       "    <tr>\n",
       "      <th>...</th>\n",
       "      <td>...</td>\n",
       "      <td>...</td>\n",
       "      <td>...</td>\n",
       "      <td>...</td>\n",
       "      <td>...</td>\n",
       "      <td>...</td>\n",
       "    </tr>\n",
       "    <tr>\n",
       "      <th>8359</th>\n",
       "      <td>171.75000</td>\n",
       "      <td>174.36000</td>\n",
       "      <td>171.10000</td>\n",
       "      <td>173.63000</td>\n",
       "      <td>34901241</td>\n",
       "      <td>AAPL</td>\n",
       "    </tr>\n",
       "    <tr>\n",
       "      <th>8360</th>\n",
       "      <td>173.29000</td>\n",
       "      <td>174.51000</td>\n",
       "      <td>173.29000</td>\n",
       "      <td>174.18000</td>\n",
       "      <td>24424877</td>\n",
       "      <td>AAPL</td>\n",
       "    </tr>\n",
       "    <tr>\n",
       "      <th>8361</th>\n",
       "      <td>174.03000</td>\n",
       "      <td>175.61000</td>\n",
       "      <td>173.71000</td>\n",
       "      <td>175.61000</td>\n",
       "      <td>24451166</td>\n",
       "      <td>AAPL</td>\n",
       "    </tr>\n",
       "    <tr>\n",
       "      <th>8362</th>\n",
       "      <td>174.48000</td>\n",
       "      <td>175.46000</td>\n",
       "      <td>172.52000</td>\n",
       "      <td>175.25000</td>\n",
       "      <td>29533086</td>\n",
       "      <td>AAPL</td>\n",
       "    </tr>\n",
       "    <tr>\n",
       "      <th>8363</th>\n",
       "      <td>175.11000</td>\n",
       "      <td>175.38000</td>\n",
       "      <td>174.27000</td>\n",
       "      <td>174.67000</td>\n",
       "      <td>25130494</td>\n",
       "      <td>AAPL</td>\n",
       "    </tr>\n",
       "  </tbody>\n",
       "</table>\n",
       "<p>8364 rows × 6 columns</p>\n",
       "</div>"
      ],
      "text/plain": [
       "           Open       High        Low      Close    Volume Stock\n",
       "0       0.42388    0.42902    0.41874    0.42388  23220030  AAPL\n",
       "1       0.42388    0.42516    0.41366    0.42134  18022532  AAPL\n",
       "2       0.42516    0.43668    0.42516    0.42902  42498199  AAPL\n",
       "3       0.42902    0.43157    0.41618    0.41618  37125801  AAPL\n",
       "4       0.43927    0.44052    0.43927    0.43927  57822062  AAPL\n",
       "...         ...        ...        ...        ...       ...   ...\n",
       "8359  171.75000  174.36000  171.10000  173.63000  34901241  AAPL\n",
       "8360  173.29000  174.51000  173.29000  174.18000  24424877  AAPL\n",
       "8361  174.03000  175.61000  173.71000  175.61000  24451166  AAPL\n",
       "8362  174.48000  175.46000  172.52000  175.25000  29533086  AAPL\n",
       "8363  175.11000  175.38000  174.27000  174.67000  25130494  AAPL\n",
       "\n",
       "[8364 rows x 6 columns]"
      ]
     },
     "execution_count": 553,
     "metadata": {},
     "output_type": "execute_result"
    }
   ],
   "source": [
    "data_aapl.reset_index(drop=True, inplace=True)\n",
    "data_aapl"
   ]
  },
  {
   "cell_type": "code",
   "execution_count": 554,
   "id": "ef70971c",
   "metadata": {},
   "outputs": [],
   "source": [
    "y = data_aapl.Close.shift(-1).dropna()"
   ]
  },
  {
   "cell_type": "code",
   "execution_count": 555,
   "id": "18bdd084",
   "metadata": {},
   "outputs": [],
   "source": [
    "data_aapl.drop(['Stock'], axis = 1, inplace = True)\n",
    "data_aapl.drop(['Close'], axis = 1, inplace = True)\n",
    "data_aapl.drop(['Volume'], axis = 1, inplace = True)"
   ]
  },
  {
   "cell_type": "code",
   "execution_count": 556,
   "id": "62cc5dea",
   "metadata": {},
   "outputs": [
    {
     "name": "stdout",
     "output_type": "stream",
     "text": [
      "(8363, 3)\n"
     ]
    }
   ],
   "source": [
    "X = data_aapl.iloc[0:-1]\n",
    "print(X.shape)"
   ]
  },
  {
   "cell_type": "code",
   "execution_count": 557,
   "id": "58219fb3",
   "metadata": {},
   "outputs": [
    {
     "data": {
      "text/plain": [
       "0         0.42134\n",
       "1         0.42902\n",
       "2         0.41618\n",
       "3         0.43927\n",
       "4         0.44566\n",
       "          ...    \n",
       "8358    173.63000\n",
       "8359    174.18000\n",
       "8360    175.61000\n",
       "8361    175.25000\n",
       "8362    174.67000\n",
       "Name: Close, Length: 8363, dtype: float64"
      ]
     },
     "execution_count": 557,
     "metadata": {},
     "output_type": "execute_result"
    }
   ],
   "source": [
    "y"
   ]
  },
  {
   "cell_type": "code",
   "execution_count": 558,
   "id": "13803260",
   "metadata": {},
   "outputs": [
    {
     "data": {
      "text/html": [
       "<div>\n",
       "<style scoped>\n",
       "    .dataframe tbody tr th:only-of-type {\n",
       "        vertical-align: middle;\n",
       "    }\n",
       "\n",
       "    .dataframe tbody tr th {\n",
       "        vertical-align: top;\n",
       "    }\n",
       "\n",
       "    .dataframe thead th {\n",
       "        text-align: right;\n",
       "    }\n",
       "</style>\n",
       "<table border=\"1\" class=\"dataframe\">\n",
       "  <thead>\n",
       "    <tr style=\"text-align: right;\">\n",
       "      <th></th>\n",
       "      <th>Open</th>\n",
       "      <th>High</th>\n",
       "      <th>Low</th>\n",
       "    </tr>\n",
       "  </thead>\n",
       "  <tbody>\n",
       "    <tr>\n",
       "      <th>0</th>\n",
       "      <td>0.42388</td>\n",
       "      <td>0.42902</td>\n",
       "      <td>0.41874</td>\n",
       "    </tr>\n",
       "    <tr>\n",
       "      <th>1</th>\n",
       "      <td>0.42388</td>\n",
       "      <td>0.42516</td>\n",
       "      <td>0.41366</td>\n",
       "    </tr>\n",
       "    <tr>\n",
       "      <th>2</th>\n",
       "      <td>0.42516</td>\n",
       "      <td>0.43668</td>\n",
       "      <td>0.42516</td>\n",
       "    </tr>\n",
       "    <tr>\n",
       "      <th>3</th>\n",
       "      <td>0.42902</td>\n",
       "      <td>0.43157</td>\n",
       "      <td>0.41618</td>\n",
       "    </tr>\n",
       "    <tr>\n",
       "      <th>4</th>\n",
       "      <td>0.43927</td>\n",
       "      <td>0.44052</td>\n",
       "      <td>0.43927</td>\n",
       "    </tr>\n",
       "    <tr>\n",
       "      <th>...</th>\n",
       "      <td>...</td>\n",
       "      <td>...</td>\n",
       "      <td>...</td>\n",
       "    </tr>\n",
       "    <tr>\n",
       "      <th>8358</th>\n",
       "      <td>173.38000</td>\n",
       "      <td>173.64000</td>\n",
       "      <td>170.51000</td>\n",
       "    </tr>\n",
       "    <tr>\n",
       "      <th>8359</th>\n",
       "      <td>171.75000</td>\n",
       "      <td>174.36000</td>\n",
       "      <td>171.10000</td>\n",
       "    </tr>\n",
       "    <tr>\n",
       "      <th>8360</th>\n",
       "      <td>173.29000</td>\n",
       "      <td>174.51000</td>\n",
       "      <td>173.29000</td>\n",
       "    </tr>\n",
       "    <tr>\n",
       "      <th>8361</th>\n",
       "      <td>174.03000</td>\n",
       "      <td>175.61000</td>\n",
       "      <td>173.71000</td>\n",
       "    </tr>\n",
       "    <tr>\n",
       "      <th>8362</th>\n",
       "      <td>174.48000</td>\n",
       "      <td>175.46000</td>\n",
       "      <td>172.52000</td>\n",
       "    </tr>\n",
       "  </tbody>\n",
       "</table>\n",
       "<p>8363 rows × 3 columns</p>\n",
       "</div>"
      ],
      "text/plain": [
       "           Open       High        Low\n",
       "0       0.42388    0.42902    0.41874\n",
       "1       0.42388    0.42516    0.41366\n",
       "2       0.42516    0.43668    0.42516\n",
       "3       0.42902    0.43157    0.41618\n",
       "4       0.43927    0.44052    0.43927\n",
       "...         ...        ...        ...\n",
       "8358  173.38000  173.64000  170.51000\n",
       "8359  171.75000  174.36000  171.10000\n",
       "8360  173.29000  174.51000  173.29000\n",
       "8361  174.03000  175.61000  173.71000\n",
       "8362  174.48000  175.46000  172.52000\n",
       "\n",
       "[8363 rows x 3 columns]"
      ]
     },
     "execution_count": 558,
     "metadata": {},
     "output_type": "execute_result"
    }
   ],
   "source": [
    "X"
   ]
  },
  {
   "cell_type": "code",
   "execution_count": 559,
   "id": "c9911985",
   "metadata": {},
   "outputs": [],
   "source": [
    "start = 6000\n",
    "end = 8363\n",
    "ndays = 10"
   ]
  },
  {
   "cell_type": "code",
   "execution_count": 560,
   "id": "8de6c2c2",
   "metadata": {},
   "outputs": [
    {
     "name": "stdout",
     "output_type": "stream",
     "text": [
      "(2353, 3) (10, 3) (2353,) (10,)\n"
     ]
    }
   ],
   "source": [
    "# Let's keep aside last 10 days of X, y\n",
    "X_tr = X.iloc[start:(end-ndays),:]\n",
    "X_tst = X.iloc[-ndays:,:]\n",
    "y_tr = y.iloc[start:(end-ndays)]\n",
    "y_tst = y.iloc[-ndays:]\n",
    "print(X_tr.shape, X_tst.shape, y_tr.shape, y_tst.shape)"
   ]
  },
  {
   "cell_type": "code",
   "execution_count": 561,
   "id": "f40768f3",
   "metadata": {},
   "outputs": [
    {
     "data": {
      "text/plain": [
       "8353    166.12\n",
       "8354    168.43\n",
       "8355    166.29\n",
       "8356    167.51\n",
       "8357    171.88\n",
       "8358    173.63\n",
       "8359    174.18\n",
       "8360    175.61\n",
       "8361    175.25\n",
       "8362    174.67\n",
       "Name: Close, dtype: float64"
      ]
     },
     "execution_count": 561,
     "metadata": {},
     "output_type": "execute_result"
    }
   ],
   "source": [
    "X_train, X_test, y_train, y_test = train_test_split(X_tr, y_tr, random_state=42)\n",
    "y_tst"
   ]
  },
  {
   "cell_type": "code",
   "execution_count": 562,
   "id": "dd5e5a7c",
   "metadata": {},
   "outputs": [
    {
     "data": {
      "text/plain": [
       "RandomForestRegressor()"
      ]
     },
     "execution_count": 562,
     "metadata": {},
     "output_type": "execute_result"
    }
   ],
   "source": [
    "rf_model = RandomForestRegressor()\n",
    "rf_model.fit(X_train, y_train)"
   ]
  },
  {
   "cell_type": "code",
   "execution_count": 563,
   "id": "3816cc83",
   "metadata": {},
   "outputs": [
    {
     "data": {
      "text/plain": [
       "0.9998251215187816"
      ]
     },
     "execution_count": 563,
     "metadata": {},
     "output_type": "execute_result"
    }
   ],
   "source": [
    "rf_model.score(X_train, y_train)"
   ]
  },
  {
   "cell_type": "code",
   "execution_count": 564,
   "id": "d5412307",
   "metadata": {},
   "outputs": [
    {
     "data": {
      "text/plain": [
       "0.9987060810796461"
      ]
     },
     "execution_count": 564,
     "metadata": {},
     "output_type": "execute_result"
    }
   ],
   "source": [
    "rf_model.score(X_test, y_test)"
   ]
  },
  {
   "cell_type": "code",
   "execution_count": 565,
   "id": "87ad377d",
   "metadata": {},
   "outputs": [
    {
     "data": {
      "text/plain": [
       "-7.01807146145301"
      ]
     },
     "execution_count": 565,
     "metadata": {},
     "output_type": "execute_result"
    }
   ],
   "source": [
    "rf_model.score(X_tst, y_tst)"
   ]
  },
  {
   "cell_type": "code",
   "execution_count": 566,
   "id": "6dc6fb08",
   "metadata": {},
   "outputs": [],
   "source": [
    "y_pred = rf_model.predict(X_tst)\n",
    "type(y_pred)\n",
    "y_tst = y_tst.to_numpy()"
   ]
  },
  {
   "cell_type": "code",
   "execution_count": 567,
   "id": "8422732f",
   "metadata": {},
   "outputs": [
    {
     "data": {
      "text/plain": [
       "[<matplotlib.lines.Line2D at 0x235a714f5e0>]"
      ]
     },
     "execution_count": 567,
     "metadata": {},
     "output_type": "execute_result"
    },
    {
     "data": {
      "image/png": "[encoded data removed]",
      "text/plain": [
       "<Figure size 432x288 with 1 Axes>"
      ]
     },
     "metadata": {
      "needs_background": "light"
     },
     "output_type": "display_data"
    }
   ],
   "source": [
    "plt.plot(y_pred)\n",
    "plt.plot(y_tst)"
   ]
  },
  {
   "cell_type": "code",
   "execution_count": 544,
   "id": "ee96b465",
   "metadata": {},
   "outputs": [
    {
     "data": {
      "text/plain": [
       "[<matplotlib.lines.Line2D at 0x235aab854f0>]"
      ]
     },
     "execution_count": 544,
     "metadata": {},
     "output_type": "execute_result"
    },
    {
     "data": {
      "image/png": "[encoded data removed]",
      "text/plain": [
       "<Figure size 432x288 with 1 Axes>"
      ]
     },
     "metadata": {
      "needs_background": "light"
     },
     "output_type": "display_data"
    }
   ],
   "source": [
    "plt.plot(y_tst)\n",
    "plt.plot(y_pred)"
   ]
  },
  {
   "cell_type": "code",
   "execution_count": 415,
   "id": "3d2b061c",
   "metadata": {},
   "outputs": [
    {
     "name": "stdout",
     "output_type": "stream",
     "text": [
      "0.9997565980611676\n",
      "0.9998098952681178\n",
      "0.9998113188840502\n",
      "-0.09469609591646655\n"
     ]
    }
   ],
   "source": [
    "print(X['Open'].corr(y))\n",
    "print(X['High'].corr(y))\n",
    "print(X['Low'].corr(y))\n",
    "print(X['Volume'].corr(y))"
   ]
  },
  {
   "cell_type": "code",
   "execution_count": 416,
   "id": "3905c76b",
   "metadata": {},
   "outputs": [
    {
     "name": "stdout",
     "output_type": "stream",
     "text": [
      "(7982, 4)\n",
      "(473, 4) (10, 4) (473,) (10,)\n"
     ]
    },
    {
     "data": {
      "text/plain": [
       "-25.268228275622064"
      ]
     },
     "execution_count": 416,
     "metadata": {},
     "output_type": "execute_result"
    }
   ],
   "source": [
    "data_msft.reset_index(drop=True, inplace=True)\n",
    "y = data_msft.Close.shift(-1).dropna()\n",
    "data_msft_1 = data_msft.drop(['Stock', 'Close'], axis = 1)\n",
    "X = data_msft_1.iloc[0:-1]\n",
    "print(X.shape)\n",
    "\n",
    "start = 7500\n",
    "end = 7983\n",
    "ndays = 10\n",
    "\n",
    "X_train = X.iloc[start:(end-ndays),:]\n",
    "X_test = X.iloc[-ndays:,:]\n",
    "y_train = y.iloc[start:(end-ndays)]\n",
    "y_test = y.iloc[-ndays:]\n",
    "print(X_train.shape, X_test.shape, y_train.shape, y_test.shape)\n",
    "\n",
    "rf_model = RandomForestRegressor()\n",
    "rf_model.fit(X_train, y_train)\n",
    "rf_model.score(X_train, y_train)\n",
    "\n",
    "rf_model.score(X_test, y_test)"
   ]
  },
  {
   "cell_type": "code",
   "execution_count": null,
   "id": "37c24ba5",
   "metadata": {},
   "outputs": [],
   "source": []
  }
 ],
 "metadata": {
  "kernelspec": {
   "display_name": "Python 3",
   "language": "python",
   "name": "python3"
  },
  "language_info": {
   "codemirror_mode": {
    "name": "ipython",
    "version": 3
   },
   "file_extension": ".py",
   "mimetype": "text/x-python",
   "name": "python",
   "nbconvert_exporter": "python",
   "pygments_lexer": "ipython3",
   "version": "3.8.8"
  }
 },
 "nbformat": 4,
 "nbformat_minor": 5
}
