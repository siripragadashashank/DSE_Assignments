{
 "cells": [
  {
   "cell_type": "markdown",
   "id": "7ae0a249",
   "metadata": {},
   "source": [
    "\n",
    "## Assignment 2\n",
    "\n",
    "#### Team mates: Shashank Siripragada & Sneha Swaroop, Group 14"
   ]
  },
  {
   "cell_type": "markdown",
   "id": "eb590b6b",
   "metadata": {},
   "source": [
    "### Question1\n",
    "### Part 1) Please write below the *simplest possible* implementation of prime numbers?"
   ]
  },
  {
   "cell_type": "markdown",
   "id": "6f5b21c4",
   "metadata": {},
   "source": [
    "### Solution:"
   ]
  },
  {
   "cell_type": "markdown",
   "id": "1426a19d",
   "metadata": {},
   "source": [
    "Let's define a function which takes integer **limit**, **num_primes** as an input and finds num_primes <= limit.\n",
    "\n",
    "Here, we implement a simple [**Sieve of Eratosthenes**](https://en.wikipedia.org/wiki/Sieve_of_Eratosthenes), where for each number we gather all it's composites < limit.\n",
    "\n",
    "Then we remove the composites set (C) from the number set (N) to get the prime numbers (P).\n",
    "\n",
    "P = N - C\n",
    "\n"
   ]
  },
  {
   "cell_type": "code",
   "execution_count": 30,
   "id": "7b329fcf",
   "metadata": {},
   "outputs": [],
   "source": [
    "def primegen(limit, num_primes):\n",
    "    nums = range(2, limit)\n",
    "    composites = (x for n in nums for x in range(n*2, limit, n))\n",
    "    primes = set(nums) - set(composites)\n",
    "    yield sorted(primes)[:num_primes]"
   ]
  },
  {
   "cell_type": "markdown",
   "id": "fe0fd924",
   "metadata": {},
   "source": [
    "### Part 2) Give me first 100 prime numbers?"
   ]
  },
  {
   "cell_type": "markdown",
   "id": "52f2b43c",
   "metadata": {},
   "source": [
    "### Solution:"
   ]
  },
  {
   "cell_type": "markdown",
   "id": "7e0f4c35",
   "metadata": {},
   "source": [
    "According to [**Prime Number Theorum**](https://en.wikipedia.org/wiki/Prime_number_theorem#Approximations_for_the_nth_prime_number) the upper bound approximation P<sub>n</sub> for n<sup>th</sup> prime number is P<sub>n</sub> = n * int(log(n)+log(log(n))."
   ]
  },
  {
   "cell_type": "code",
   "execution_count": 31,
   "id": "a7063b24",
   "metadata": {},
   "outputs": [
    {
     "name": "stdout",
     "output_type": "stream",
     "text": [
      "The upper bound Pn ~ 600\n"
     ]
    }
   ],
   "source": [
    "import numpy as np\n",
    "P = 100*int(np.log(100) + np.log(np.log(100)))\n",
    "print(\"The upper bound Pn ~ {}\".format(P)) "
   ]
  },
  {
   "cell_type": "markdown",
   "id": "a744512f",
   "metadata": {},
   "source": [
    "So for the 100th prime number: the P<sub>100</sub> is 600.\n",
    "\n",
    "\n",
    "Our upper bound is 600 and we will pick up the first 100 prime numbers from the output of function primegen(600)."
   ]
  },
  {
   "cell_type": "code",
   "execution_count": 32,
   "id": "c720a661",
   "metadata": {},
   "outputs": [
    {
     "name": "stdout",
     "output_type": "stream",
     "text": [
      "[2, 3, 5, 7, 11, 13, 17, 19, 23, 29, 31, 37, 41, 43, 47, 53, 59, 61, 67, 71, 73, 79, 83, 89, 97, 101, 103, 107, 109, 113, 127, 131, 137, 139, 149, 151, 157, 163, 167, 173, 179, 181, 191, 193, 197, 199, 211, 223, 227, 229, 233, 239, 241, 251, 257, 263, 269, 271, 277, 281, 283, 293, 307, 311, 313, 317, 331, 337, 347, 349, 353, 359, 367, 373, 379, 383, 389, 397, 401, 409, 419, 421, 431, 433, 439, 443, 449, 457, 461, 463, 467, 479, 487, 491, 499, 503, 509, 521, 523, 541]\n"
     ]
    }
   ],
   "source": [
    "output = list(primegen(600, 100))[0]\n",
    "print(output)"
   ]
  },
  {
   "cell_type": "markdown",
   "id": "10805f11",
   "metadata": {},
   "source": [
    "#### Validation"
   ]
  },
  {
   "cell_type": "markdown",
   "id": "cfa197f1",
   "metadata": {},
   "source": [
    "Let's Validate with first 100 prime numbers from wolfram alpha"
   ]
  },
  {
   "cell_type": "code",
   "execution_count": 33,
   "id": "4e135f76",
   "metadata": {},
   "outputs": [],
   "source": [
    "p_list = \"2 | 3 | 5 | 7 | 11 | 13 | 17 | 19 | 23 | 29 | 31 | 37 | 41 | 43 | 47 | 53 | 59 | 61 | 67 | 71 | 73 | 79 | 83 | 89 | 97 | 101 | 103 | 107 | 109 | 113 | 127 | 131 | 137 | 139 | 149 | 151 | 157 | 163 | 167 | 173 | 179 | 181 | 191 | 193 | 197 | 199 | 211 | 223 | 227 | 229 | 233 | 239 | 241 | 251 | 257 | 263 | 269 | 271 | 277 | 281 | 283 | 293 | 307 | 311 | 313 | 317 | 331 | 337 | 347 | 349 | 353 | 359 | 367 | 373 | 379 | 383 | 389 | 397 | 401 | 409 | 419 | 421 | 431 | 433 | 439 | 443 | 449 | 457 | 461 | 463 | 467 | 479 | 487 | 491 | 499 | 503 | 509 | 521 | 523 | 541\"\n",
    "plist = [int(x) for x in p_list.split('|')]"
   ]
  },
  {
   "cell_type": "code",
   "execution_count": 34,
   "id": "a471ac7d",
   "metadata": {},
   "outputs": [
    {
     "data": {
      "text/plain": [
       "True"
      ]
     },
     "execution_count": 34,
     "metadata": {},
     "output_type": "execute_result"
    }
   ],
   "source": [
    "output == plist"
   ]
  },
  {
   "cell_type": "markdown",
   "id": "8eb62115",
   "metadata": {},
   "source": [
    "### Question 2"
   ]
  },
  {
   "cell_type": "markdown",
   "id": "181a930e",
   "metadata": {},
   "source": [
    "The containers are denoted by C<sub>i</sub>\n",
    "\n",
    "Let's consider the case where $i \\in (1,16)$. The table represents the game where: \n",
    "\n",
    "✔ - ball is available (put down by the player before) \n",
    "\n",
    "✖ - player takes the shot\n",
    "\n",
    "We can clearly infer that C<sub>i</sub> is accessed by players in rounds $\\in$ factors(i).\n",
    "\n",
    "e.g - C<sub>4</sub> is accessed by p1, p2, p4 as {1,2,4} = factors(4)\n",
    "          \n",
    "e.g - C<sub>12</sub> is accessed by p1, p2, p3, p4, p6**{=p1}**, p12**{=p2}** as {1,2,3,4,6,12} = factors(12)\n",
    "          \n",
    "\n",
    "\n",
    "|    | C1 | C2 | C3 | C4 | C5 | C6 | C7 | C8 | C9 | C10 | C11 | C12 | C13 | C14 | C15 | C16 |\n",
    "|----|----|----|----|----|----|----|----|----|----|-----|-----|-----|-----|-----|-----|-----|\n",
    "| p1,  r1  | ✔  | ✔  | ✔  | ✔  | ✔  | ✔  | ✔  | ✔  | ✔  | ✔   | ✔   | ✔   | ✔   | ✔   | ✔   | ✔   |\n",
    "| p2,  r2  |    | ✖  |    | ✖  |    | ✖  |    | ✖  |    | ✖   |     | ✖   |     | ✖   |     | ✖   |\n",
    "| p3,  r3  |    |    | ✖  |    |    | ✔  |    |    | ✖  |     |     | ✔   |     |     | ✖   |     |\n",
    "| p4,  r4  |    |    |    | ✔  |    |    |    | ✔  |    |     |     | ✖   |     |     |     | ✔   |\n",
    "| p5,  r5  |    |    |    |    | ✖  |    |    |    |    | ✔   |     |     |     |     | ✔   |     |\n",
    "| p1,  r6  |    |    |    |    |    | ✖  |    |    |    |     |     | ✔   |     |     |     |     |\n",
    "| p2,  r7  |    |    |    |    |    |    | ✖  |    |    |     |     |     |     | ✔   |     |     |\n",
    "| p3,  r8  |    |    |    |    |    |    |    | ✖  |    |     |     |     |     |     |     | ✖   |\n",
    "| p4,  r9  |    |    |    |    |    |    |    |    | ✔  |     |     |     |     |     |     |     |\n",
    "| p5, r10 |    |    |    |    |    |    |    |    |    | ✖   |     |     |     |     |     |     |\n",
    "| p1, r11 |    |    |    |    |    |    |    |    |    |     | ✖   |     |     |     |     |     |\n",
    "| p2, r12 |    |    |    |    |    |    |    |    |    |     |     | ✖   |     |     |     |     |\n",
    "| p3, r13 |    |    |    |    |    |    |    |    |    |     |     |     | ✖   |     |     |     |\n",
    "| p4, r14 |    |    |    |    |    |    |    |    |    |     |     |     |     | ✖   |     |     |\n",
    "| p5, r15 |    |    |    |    |    |    |    |    |    |     |     |     |     |     |  ✖  |     |\n",
    "| p1, r16 |    |    |    |    |    |    |    |    |    |     |     |     |     |     |     | ✔   |\n",
    "\n",
    "✔ - ball is available (put down by the player)\n",
    "\n",
    "✖ - player takes the shot\n",
    " \n",
    "#### Balls Remaining on the ground\n",
    "\n",
    "To calculate the number of balls left, we can infer from table that a ball is available (✔) only during the **odd number** of times during which the container is accessed. Therefore, to get the balls available at **C<sub>i</sub>**, we take modulo 2 of the number of times that container is accessed and **sum** for all containers to get the total balls remaining after game.\n",
    "\n",
    "e.g **C<sub>12</sub>** is accessed by p1, p2, p3, p4, p6 **{=p1}**, p12 **{=p2}**. As it is accessed **even number** of times, there is no ball finally left => factors(C<sub>12</sub>)$\\bmod 2$ = 0\n",
    "\n",
    "\n",
    "$$ Balls\\ remaining = \\sum_{i=1}^{16} factors(C_i)\\bmod 2$$\n",
    "\n",
    "#### Total number of points\n",
    "\n",
    "To calculate the total number of points, we can infer that shots (✖) are made during the **even times** the container is accessed.\n",
    "\n",
    "e.g **C<sub>12</sub>** is accessed by p1, p2, p3, p4, p6 **{=p1}**, p12 **{=p2}**. So, a total of **factors(C<sub>12</sub>)/2 = 3** shots are made. We consider **int(factors(C<sub>i</sub>)/2)** as it can be accessed any number of times and we only need the number of shots.\n",
    "\n",
    "$$ Number\\ of\\ shots = \\sum_{i=1}^{16} int(factors(C_i)/2)$$\n",
    "\n",
    "To get the total points,\n",
    "\n",
    "$$ Number\\ of\\ points = Number\\ of\\ shots * probality\\ of\\ scoring * Score$$\n",
    "\n",
    "#### Code"
   ]
  },
  {
   "cell_type": "code",
   "execution_count": 35,
   "id": "12cf13a5",
   "metadata": {},
   "outputs": [],
   "source": [
    "def num_factors(num):\n",
    "    nfctrs = 0\n",
    "    for i in range(1, num+1):\n",
    "        if num%i == 0: nfctrs += 1 \n",
    "    return nfctrs\n",
    "        \n",
    "def basketball_game(containers):\n",
    "    pshot, score = 1/2, 2\n",
    "    balls, nshots = 0, 0\n",
    "    for c in range(1, containers+1):\n",
    "        balls += num_factors(c) % 2   \n",
    "        nshots += int(num_factors(c)/2)\n",
    "    points = nshots * pshot * score\n",
    "    print('Balls left on ground: {}\\nTotal points earned: {}'.format(balls, points))  \n",
    "    "
   ]
  },
  {
   "cell_type": "code",
   "execution_count": 36,
   "id": "85304e7b",
   "metadata": {},
   "outputs": [
    {
     "name": "stdout",
     "output_type": "stream",
     "text": [
      "Balls left on ground: 64\n",
      "Total points earned: 17328.0\n"
     ]
    }
   ],
   "source": [
    "basketball_game(4096)"
   ]
  },
  {
   "cell_type": "code",
   "execution_count": null,
   "id": "2ea36ca1",
   "metadata": {},
   "outputs": [],
   "source": []
  }
 ],
 "metadata": {
  "kernelspec": {
   "display_name": "Python 3",
   "language": "python",
   "name": "python3"
  },
  "language_info": {
   "codemirror_mode": {
    "name": "ipython",
    "version": 3
   },
   "file_extension": ".py",
   "mimetype": "text/x-python",
   "name": "python",
   "nbconvert_exporter": "python",
   "pygments_lexer": "ipython3",
   "version": "3.8.8"
  }
 },
 "nbformat": 4,
 "nbformat_minor": 5
}
