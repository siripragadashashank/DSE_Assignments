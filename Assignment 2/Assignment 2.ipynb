{
 "cells": [
  {
   "cell_type": "markdown",
   "id": "7ae0a249",
   "metadata": {},
   "source": [
    "## Assignment 2                                                          "
   ]
  },
  {
   "cell_type": "markdown",
   "id": "eb590b6b",
   "metadata": {},
   "source": [
    "### Question1\n",
    "### Part 1) Please write below the *simplest possible* implementation of prime numbers?"
   ]
  },
  {
   "cell_type": "markdown",
   "id": "6f5b21c4",
   "metadata": {},
   "source": [
    "### Solution:"
   ]
  },
  {
   "cell_type": "markdown",
   "id": "1426a19d",
   "metadata": {},
   "source": [
    "Let's define a function which takes integer **limit** as an input and finds all the primes <= limit."
   ]
  },
  {
   "cell_type": "code",
   "execution_count": 1,
   "id": "7b329fcf",
   "metadata": {},
   "outputs": [],
   "source": [
    "def primegen(limit, num_primes):\n",
    "    numbers = range(2, limit)\n",
    "    composites = (x for n in numbers for x in range(n*n, limit, n))\n",
    "    primes = set(numbers) - set(composites)\n",
    "    yield sorted(primes)[:num_primes]"
   ]
  },
  {
   "cell_type": "markdown",
   "id": "fe0fd924",
   "metadata": {},
   "source": [
    "### Part 2) Give me first 100 prime numbers?"
   ]
  },
  {
   "cell_type": "markdown",
   "id": "52f2b43c",
   "metadata": {},
   "source": [
    "### Solution:"
   ]
  },
  {
   "cell_type": "markdown",
   "id": "7e0f4c35",
   "metadata": {},
   "source": [
    "According to [**Prime Number Theorum**](https://en.wikipedia.org/wiki/Prime_number_theorem#Approximations_for_the_nth_prime_number) the upper bound approximation P<sub>n</sub> for n<sup>th</sup> prime number is P<sub>n</sub> = n * int(log(n)+log(log(n))."
   ]
  },
  {
   "cell_type": "code",
   "execution_count": 2,
   "id": "a7063b24",
   "metadata": {},
   "outputs": [
    {
     "name": "stdout",
     "output_type": "stream",
     "text": [
      "The upper bound Pn ~ 600\n"
     ]
    }
   ],
   "source": [
    "import numpy as np\n",
    "P = 100*int(np.log(100) + np.log(np.log(100)))\n",
    "print(\"The upper bound Pn ~ {}\".format(P)) "
   ]
  },
  {
   "cell_type": "markdown",
   "id": "a744512f",
   "metadata": {},
   "source": [
    "So for the 100th prime number: the P<sub>100</sub> is 600.\n",
    "\n",
    "\n",
    "Our upper bound is 600 and we will pick up the first 100 prime numbers from the output of function primegen(600)."
   ]
  },
  {
   "cell_type": "code",
   "execution_count": 3,
   "id": "c720a661",
   "metadata": {},
   "outputs": [
    {
     "name": "stdout",
     "output_type": "stream",
     "text": [
      "[2, 3, 5, 7, 11, 13, 17, 19, 23, 29, 31, 37, 41, 43, 47, 53, 59, 61, 67, 71, 73, 79, 83, 89, 97, 101, 103, 107, 109, 113, 127, 131, 137, 139, 149, 151, 157, 163, 167, 173, 179, 181, 191, 193, 197, 199, 211, 223, 227, 229, 233, 239, 241, 251, 257, 263, 269, 271, 277, 281, 283, 293, 307, 311, 313, 317, 331, 337, 347, 349, 353, 359, 367, 373, 379, 383, 389, 397, 401, 409, 419, 421, 431, 433, 439, 443, 449, 457, 461, 463, 467, 479, 487, 491, 499, 503, 509, 521, 523, 541]\n"
     ]
    }
   ],
   "source": [
    "output = list(primegen(600, 100))[0]\n",
    "print(output)"
   ]
  },
  {
   "cell_type": "markdown",
   "id": "10805f11",
   "metadata": {},
   "source": [
    "#### Validation"
   ]
  },
  {
   "cell_type": "markdown",
   "id": "cfa197f1",
   "metadata": {},
   "source": [
    "Let's Validate with first 100 prime numbers from wolfram alpha"
   ]
  },
  {
   "cell_type": "code",
   "execution_count": 4,
   "id": "4e135f76",
   "metadata": {},
   "outputs": [],
   "source": [
    "p_list = \"2 | 3 | 5 | 7 | 11 | 13 | 17 | 19 | 23 | 29 | 31 | 37 | 41 | 43 | 47 | 53 | 59 | 61 | 67 | 71 | 73 | 79 | 83 | 89 | 97 | 101 | 103 | 107 | 109 | 113 | 127 | 131 | 137 | 139 | 149 | 151 | 157 | 163 | 167 | 173 | 179 | 181 | 191 | 193 | 197 | 199 | 211 | 223 | 227 | 229 | 233 | 239 | 241 | 251 | 257 | 263 | 269 | 271 | 277 | 281 | 283 | 293 | 307 | 311 | 313 | 317 | 331 | 337 | 347 | 349 | 353 | 359 | 367 | 373 | 379 | 383 | 389 | 397 | 401 | 409 | 419 | 421 | 431 | 433 | 439 | 443 | 449 | 457 | 461 | 463 | 467 | 479 | 487 | 491 | 499 | 503 | 509 | 521 | 523 | 541\"\n",
    "plist = [int(x) for x in p_list.split('|')]"
   ]
  },
  {
   "cell_type": "code",
   "execution_count": 38,
   "id": "a471ac7d",
   "metadata": {},
   "outputs": [
    {
     "data": {
      "text/plain": [
       "True"
      ]
     },
     "execution_count": 38,
     "metadata": {},
     "output_type": "execute_result"
    }
   ],
   "source": [
    "output == plist"
   ]
  },
  {
   "cell_type": "markdown",
   "id": "8eb62115",
   "metadata": {},
   "source": [
    "### Question 2"
   ]
  },
  {
   "cell_type": "markdown",
   "id": "181a930e",
   "metadata": {},
   "source": [
    "The number of containers is denoted by c<sub>i</sub>.\n",
    "\n",
    "\n",
    "Let's consider the case where $i \\in (1,16)$. This table represents the game where \n",
    "\n",
    "✔ - ball is available (put down by the player)\n",
    "\n",
    "✖ - player has taken the shot\n",
    "\n",
    "|    | c1 | c2 | c3 | c4 | c5 | c6 | c7 | c8 | c9 | c10 | c11 | c12 | c13 | c14 | c15 | c16 |\n",
    "|----|----|----|----|----|----|----|----|----|----|-----|-----|-----|-----|-----|-----|-----|\n",
    "| p1 | ✔  | ✔  | ✔  | ✔  | ✔  | ✔  | ✔  | ✔  | ✔  | ✔   | ✔   | ✔   | ✔   | ✔   | ✔   | ✔   |\n",
    "| p2 |    | ✖  |    | ✖  |    | ✖  |    | ✖  |    | ✖   |     | ✖   |     | ✖   |     | ✖   |\n",
    "| p3 |    |    | ✖  |    |    | ✔  |    |    | ✖  |     |     | ✔   |     |     | ✖   |     |\n",
    "| p4 |    |    |    | ✔  |    |    |    | ✔  |    |     |     | ✖   |     |     |     | ✔   |\n",
    "| p5 |    |    |    |    | ✖  |    |    |    |    | ✔   |     |     |     |     | ✔   |     |\n",
    "| p1 |    |    |    |    |    | ✖  |    |    |    |     |     | ✔   |     |     |     |     |\n",
    "| p2 |    |    |    |    |    |    | ✖  |    |    |     |     |     |     | ✔   |     |     |\n",
    "| p3 |    |    |    |    |    |    |    | ✖  |    |     |     |     |     |     |     | ✖   |\n",
    "| p4 |    |    |    |    |    |    |    |    | ✔  |     |     |     |     |     |     |     |\n",
    "| p5 |    |    |    |    |    |    |    |    |    | ✖   |     |     |     |     |     |     |\n",
    "| p1 |    |    |    |    |    |    |    |    |    |     | ✖   |     |     |     |     |     |\n",
    "| p2 |    |    |    |    |    |    |    |    |    |     |     | ✖   |     |     |     |     |\n",
    "| p3 |    |    |    |    |    |    |    |    |    |     |     |     | ✖   |     |     |     |\n",
    "| p4 |    |    |    |    |    |    |    |    |    |     |     |     |     | ✖   |     |     |\n",
    "| p5 |    |    |    |    |    |    |    |    |    |     |     |     |     |     |  ✖  |     |\n",
    "| p1 |    |    |    |    |    |    |    |    |    |     |     |     |     |     |     | ✔   |\n"
   ]
  },
  {
   "cell_type": "code",
   "execution_count": 45,
   "id": "12cf13a5",
   "metadata": {},
   "outputs": [],
   "source": [
    "pshot = 1/2\n",
    "score = 2\n",
    "def num_factors(num):\n",
    "    nfctrs = 0\n",
    "    for i in range(1, num+1):\n",
    "        if num%i == 0: \n",
    "            nfctrs += 1 \n",
    "    return nfctrs\n",
    "        \n",
    "def basketball_game(num_containers):\n",
    "    balls_on_ground, num_shots = 0, 0\n",
    "    for container in range(1, num_containers+1):\n",
    "        balls_on_ground += num_factors(container)%2   \n",
    "        num_shots += int(num_factors(container)/2)\n",
    "    points = num_shots * pshot * score\n",
    "    print('Balls left on ground: {}\\nTotal points earned: {}'.format(balls_on_ground, points))  \n",
    "    "
   ]
  },
  {
   "cell_type": "code",
   "execution_count": 44,
   "id": "85304e7b",
   "metadata": {},
   "outputs": [
    {
     "name": "stdout",
     "output_type": "stream",
     "text": [
      "Balls left on ground: 64\n",
      "Total points earned: 17328.0\n"
     ]
    }
   ],
   "source": [
    "basketball_game(4096)"
   ]
  },
  {
   "cell_type": "code",
   "execution_count": null,
   "id": "21b992c5",
   "metadata": {},
   "outputs": [],
   "source": []
  }
 ],
 "metadata": {
  "kernelspec": {
   "display_name": "Python 3",
   "language": "python",
   "name": "python3"
  },
  "language_info": {
   "codemirror_mode": {
    "name": "ipython",
    "version": 3
   },
   "file_extension": ".py",
   "mimetype": "text/x-python",
   "name": "python",
   "nbconvert_exporter": "python",
   "pygments_lexer": "ipython3",
   "version": "3.8.8"
  }
 },
 "nbformat": 4,
 "nbformat_minor": 5
}
