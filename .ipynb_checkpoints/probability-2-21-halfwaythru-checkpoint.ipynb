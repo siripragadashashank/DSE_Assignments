{
 "cells": [
  {
   "cell_type": "markdown",
   "metadata": {
    "button": false,
    "new_sheet": false,
    "run_control": {
     "read_only": false
    }
   },
   "source": [
    "<div style=\"text-align: right\">INFO 6105 Data Sci Engineering Methods and Tools, Week 6 Lecture 1</div>\n",
    "<div style=\"text-align: right\">Dino Konstantopoulos, 18 October 2021, with material from Cam Davidson-Pilon</div>\n",
    "\n",
    "* * * \n",
    "*At the end of this lecture, you should a good understanding of probability distributions, how to estimate probabilities for different outcomes and sample spaces, how to use Bayes' theorem to answer typical interview questions involving probabilities, and start thinking about finding a job in high-stakes sports, such as Formula 1 racing.*\n",
    "\n",
    "*For next week, reading homework: Chapter 6 of your textbook, Mathematics for Machine Learning*."
   ]
  },
  {
   "cell_type": "markdown",
   "metadata": {},
   "source": [
    "# Homework solution\n",
    "\n",
    " Determine the probability that the sum of a three-dice roll is prime:\n",
    " \n",
    "<center>\n",
    "<img src=\"ipynb.images/3-dice-roll.png\" width=\"200\" />\n",
    "</center>"
   ]
  },
  {
   "cell_type": "code",
   "execution_count": 1,
   "metadata": {},
   "outputs": [],
   "source": [
    "from fractions import Fraction\n",
    "def p(event, space): \n",
    "    \"\"\"The probability of an event, given a sample space of equiprobable outcomes.\n",
    "    event can be either a set of outcomes, or a predicate (true for outcomes in the event).\"\"\"\n",
    "    if is_predicate(event):\n",
    "        event = such_that(event, space)\n",
    "    return Fraction(len(event & space), len(space))\n",
    "\n",
    "is_predicate = callable\n",
    "\n",
    "def such_that(predicate, collection): \n",
    "    \"\"\"The subset of elements in the collection for which the predicate is true.\"\"\"\n",
    "    return {e for e in collection if predicate(e)}"
   ]
  },
  {
   "cell_type": "code",
   "execution_count": 2,
   "metadata": {},
   "outputs": [],
   "source": [
    "D = {1,2,3,4,5,6}"
   ]
  },
  {
   "cell_type": "code",
   "execution_count": 3,
   "metadata": {},
   "outputs": [],
   "source": [
    "D3 = {(d1, d2, d3) for d1 in D for d2 in D for d3 in D}"
   ]
  },
  {
   "cell_type": "code",
   "execution_count": 4,
   "metadata": {},
   "outputs": [],
   "source": [
    "def prime_sum(outcome): return is_prime(sum(outcome))"
   ]
  },
  {
   "cell_type": "markdown",
   "metadata": {},
   "source": [
    "Dua Lipa prime code:"
   ]
  },
  {
   "cell_type": "code",
   "execution_count": 5,
   "metadata": {},
   "outputs": [],
   "source": [
    "#def is_prime(n): return True if n in [x for x in range(3,36) if all(x%y!=0 for y in range(2,n//2))] else False\n",
    "def is_prime(n): return n > 1 and not any(n%i == 0 for i in range(2,n))"
   ]
  },
  {
   "cell_type": "code",
   "execution_count": 6,
   "metadata": {},
   "outputs": [
    {
     "data": {
      "text/plain": [
       "Fraction(73, 216)"
      ]
     },
     "execution_count": 6,
     "metadata": {},
     "output_type": "execute_result"
    }
   ],
   "source": [
    "p(prime_sum, D3)"
   ]
  },
  {
   "cell_type": "markdown",
   "metadata": {
    "button": false,
    "new_sheet": false,
    "run_control": {
     "read_only": false
    }
   },
   "source": [
    "# Introduction to Probability Distributions\n",
    "\n",
    "Your textbook, in page 6, states that the foundations of Machine Learning are:\n",
    "\n",
    "<center>\n",
    "<img src=\"ipynb.images/foundations-of-ML.png\" width=\"500\" />\n",
    "</center>\n",
    "\n",
    "And so let's start with a lab that introduces a very important probability distribution: The **binomial**.\n",
    "\n",
    "<br />\n",
    "<center>\n",
    "<img src=\"http://statistics.wdfiles.com/local--files/ch6/binomial.png\" width=\"400\" />\n",
    "Binomial\n",
    "</center>\n",
    "\n",
    ">**Definition**: The binomial distribution with parameters $n$ and $p$ is the discrete probability distribution of the number of successes in a sequence of $n$ *independent* experiments, each asking a yes–no question, and each with its own boolean-valued outcome: success/yes/true/one (with probability $p$) or failure/no/false/zero (with probability $q = 1 − p$).\n",
    "\n",
    "> If the random variable X follows the binomial distribution with parameters n ∈ ℕ and p ∈ [0,1], we write X ~ B(n, p). The probability of getting exactly k successes in n independent Bernoulli trials is given by the **probability mass function**: $$f(k) = {n \\choose k} p^{k} (1-p)^{n-k}$$\n",
    "\n",
    ">where $\\binom {n}{k}$ is our famous ***choose*** function from previous lecture: $${n \\choose k} = \\frac{n!}{k!(n-k)!}$$\n",
    "\n",
    ">The formula can be understood as follows: $k$ successes occur with probability $p^k$ and $n − k$ failures occur with probability $(1 − p)^{n − k}$. However, the $k$ successes can occur *anywhere* among the $n$ trials, and there are $\\binom {n}{k}$ different ways of distributing $k$ successes in a sequence of $n$ trials, just like there are $\\binom {23}{6}$ different ways of selecting 6 balls from an urn of 23.\n",
    "\n",
    ">**Example**: Suppose a **biased** coin comes up heads with probability 0.3 when tossed. The probability of seeing exactly 4 heads in 6 tosses is:\n",
    "\n",
    ">$$f(4, 6, 0.3) = {6 \\choose 4} 0.3^{4} (1 - 0.3)^{6 - 4} = 0.06$$\n",
    "\n",
    "A single success/failure experiment is also called a **Bernoulli** trial or Bernoulli experiment and a sequence of outcomes is called a Bernoulli process; for a single trial, i.e., $n = 1$, the binomial distribution is a Bernoulli distribution.\n",
    "\n",
    "*Why* is all this so important?\n",
    "\n",
    "So far, we have made the assumption that every outcome in a sample space (such as our urn) is ***equally likely***: Same probability to select White ball \\#1 as Red ball \\#5. Right? But what if we take a different perspective and compare the probability of selecting one red ball versus that of selecting one white one?\n",
    "\n",
    ">**Recall**: A probability is a **fraction** where the numerator is sum of all *favorable* outcomes, and the denominator the sum of all *possible* outcomes.\n",
    "\n",
    "In real life, we often get outcomes that are *not* **equiprobable**. For example, White ball versus Red ball in our previous experiment. For example, the probability that your professor marries Dua Lipa is not as probable as the probability that some famous rock start marries Dua Lipa, right? And we can't really count how many chances Dino has of marrying Dua Lipa versus how many chances the other rock star has by putting \"*Dino balls*\" and \"*rock star balls*\" in an urn, because sometimes we cannot decompose outcomes that quantitatively.\n",
    "\n",
    "For another example, the probability of a child being a girl is not exactly 1/2, and the probability is slightly different for a second child. \n",
    "\n",
    "An [article](http://people.kzoo.edu/barth/math105/moreboys.pdf) (good Data Science article, please read it) gives the following *counts* for two-child families in Denmark, where `GB` means a family where the first child is a girl and the second a boy:\n",
    "\n",
    "    GG: 121801    GB: 126840\n",
    "    BG: 127123    BB: 135138\n",
    "    \n",
    "Because of this fact (not all urns yield Blue/Red/White *numbered* balls with equiprobable chances), we need to introduce three more definitions:\n",
    "\n",
    "* [Frequency](https://en.wikipedia.org/wiki/Frequency_%28statistics%29): a number describing how often an outcome occurs. Can be a count like 121801, or a ratio like 0.515.\n",
    "\n",
    "* [Distribution](http://mathworld.wolfram.com/StatisticalDistribution.html): A mapping from outcome to frequency for each possible outcome in a sample space. \n",
    "\n",
    "* [Probability Distribution](https://en.wikipedia.org/wiki/Probability_distribution): The distribution above, which has been *normalized* so that the sum of the frequencies is 1.\n",
    "\n",
    "Here is an example of a ***super-popular*** probability distribution:\n",
    "* The binomial distribution is frequently used to model the number of successes in a sample of size n drawn with replacement from a population of size N.\n",
    "\n",
    "Oh noooooo...\n",
    "<center>\n",
    "    <img src=\"ipynb.images/miserable.png\" width=300 />\n",
    "</center>\n",
    "\n",
    "We need to again modify our awesome probability counting `p()` function (which takes each event as **equiprobable**) to take this miserable fact into account. Essentially, it's as if each *numbered ball* comes with its *own* probability of being picked. So we will need to use probability **dictionaries**.\n",
    "\n",
    "We love python dictionaries, right, so it should be fun, right?\n",
    "\n",
    "<br />\n",
    "<center>\n",
    "    <img src=\"ipynb.images/pin.gif\" width=400 />\n",
    "</center>"
   ]
  },
  {
   "cell_type": "markdown",
   "metadata": {},
   "source": [
    "First, let's plot a few binomial distributions:"
   ]
  },
  {
   "cell_type": "code",
   "execution_count": 7,
   "metadata": {},
   "outputs": [
    {
     "data": {
      "image/png": "[encoded data removed]",
      "text/plain": [
       "<Figure size 360x270 with 1 Axes>"
      ]
     },
     "metadata": {
      "needs_background": "light"
     },
     "output_type": "display_data"
    }
   ],
   "source": [
    "# n and p are exactly as defined above\n",
    "import numpy as np\n",
    "from scipy.stats import binom\n",
    "from matplotlib import pyplot as plt\n",
    "%matplotlib inline\n",
    "\n",
    "n_values = [20, 25, 40]\n",
    "p_values = [0.1, 0.5, 0.5]\n",
    "x = np.arange(0, 50)    \n",
    "\n",
    "fig, ax = plt.subplots(figsize=(5, 3.75))\n",
    "\n",
    "for (n, p) in zip(n_values, p_values):\n",
    "    # create a binomial distribution\n",
    "    dist = binom(n, p)\n",
    "\n",
    "    plt.plot(x, dist.pmf(x))"
   ]
  },
  {
   "cell_type": "markdown",
   "metadata": {},
   "source": [
    "### Approximations\n",
    "\n",
    "We see that if $n$ is large enough and the skew $p$ of the distribution is not too great (not too close to 0 or too close to 1), then a reasonable approximation to B(n, p) is given by a **normal distribution**!. In fact, it can be proven that it is close to:\n",
    "\n",
    "$$N(np, np(1-p))$$\n",
    "\n",
    "if both values $np$ and $n(1-p)$ are greater than or equal to 5. This approximation, known as de Moivre–Laplace theorem, is a huge time-saver when undertaking calculations by hand (exact calculations with large n are very onerous). Historically, it was the first use of the normal distribution, introduced in Abraham de Moivre's book *The Doctrine of Chances* in 1738.\n",
    "\n",
    "The binomial distribution also converges towards another distribution that we have not seen yet: the **Poisson distribution**, as the number of trials goes to infinity while the product $np$ remains fixed or at least $p$ tends to zero. Therefore, the Poisson distribution with parameter $λ = np$ can be used as an approximation to B(n, p) if $n$ is sufficiently large and $p$ is sufficiently small. According to two rules of thumb, this approximation is good if $n ≥ 20$ and $p ≤ 0.05$, or if $n ≥ 100$ and $np ≤ 10$."
   ]
  },
  {
   "cell_type": "markdown",
   "metadata": {},
   "source": [
    "### A bit of Python-fu\n",
    "\n",
    "Now, let's digress a bit into abstract computer science..\n",
    "\n",
    "In Python, `*args` and `**kwargs` is a common idiom to allow ***arbitrary number of arguments*** to functions. `*args` will give you all function parameters as a tuple, `**kwargs` will give you all keyword arguments (except those corresponding to a formal parameter) as a dictionary:\n",
    "```python\n",
    "def foo(*args):\n",
    "    for a in args:\n",
    "    print a\n",
    "        \n",
    "def bar(**kwargs):\n",
    "    for a in kwargs:\n",
    "        print a, kwargs[a]\n",
    "```"
   ]
  },
  {
   "cell_type": "markdown",
   "metadata": {},
   "source": [
    "Let’s say we want to create a higher-order function that takes as input some function $f$ and returns a new function that for any input returns *twice* the value of $f$:"
   ]
  },
  {
   "cell_type": "code",
   "execution_count": 8,
   "metadata": {},
   "outputs": [],
   "source": [
    "def my_doubler(f):\n",
    "    def my_g(x):\n",
    "        return 2 * f(x)\n",
    "    return my_g"
   ]
  },
  {
   "cell_type": "code",
   "execution_count": 9,
   "metadata": {},
   "outputs": [
    {
     "data": {
      "text/plain": [
       "<function __main__.my_doubler.<locals>.my_g(x)>"
      ]
     },
     "execution_count": 9,
     "metadata": {},
     "output_type": "execute_result"
    }
   ],
   "source": [
    "my_doubler(None)"
   ]
  },
  {
   "cell_type": "markdown",
   "metadata": {},
   "source": [
    "It works.. in most cases:"
   ]
  },
  {
   "cell_type": "code",
   "execution_count": 10,
   "metadata": {},
   "outputs": [
    {
     "name": "stdout",
     "output_type": "stream",
     "text": [
      "8\n"
     ]
    }
   ],
   "source": [
    "def f_plus_1(x):\n",
    "    return x + 1;\n",
    "\n",
    "h = my_doubler(f_plus_1)\n",
    "print(h(3)) #(3+1) * 2"
   ]
  },
  {
   "cell_type": "markdown",
   "metadata": {},
   "source": [
    "Now try this:"
   ]
  },
  {
   "cell_type": "code",
   "execution_count": 11,
   "metadata": {},
   "outputs": [
    {
     "ename": "TypeError",
     "evalue": "my_g() takes 1 positional argument but 2 were given",
     "output_type": "error",
     "traceback": [
      "\u001b[1;31m---------------------------------------------------------------------------\u001b[0m",
      "\u001b[1;31mTypeError\u001b[0m                                 Traceback (most recent call last)",
      "\u001b[1;32m<ipython-input-11-4e48114d1669>\u001b[0m in \u001b[0;36m<module>\u001b[1;34m\u001b[0m\n\u001b[0;32m      3\u001b[0m \u001b[1;33m\u001b[0m\u001b[0m\n\u001b[0;32m      4\u001b[0m \u001b[0mh\u001b[0m \u001b[1;33m=\u001b[0m \u001b[0mmy_doubler\u001b[0m\u001b[1;33m(\u001b[0m\u001b[0mmy_sum2\u001b[0m\u001b[1;33m)\u001b[0m\u001b[1;33m\u001b[0m\u001b[1;33m\u001b[0m\u001b[0m\n\u001b[1;32m----> 5\u001b[1;33m \u001b[0mprint\u001b[0m\u001b[1;33m(\u001b[0m\u001b[0mh\u001b[0m\u001b[1;33m(\u001b[0m\u001b[1;36m1\u001b[0m\u001b[1;33m,\u001b[0m\u001b[1;36m2\u001b[0m\u001b[1;33m)\u001b[0m\u001b[1;33m)\u001b[0m\u001b[1;33m\u001b[0m\u001b[1;33m\u001b[0m\u001b[0m\n\u001b[0m",
      "\u001b[1;31mTypeError\u001b[0m: my_g() takes 1 positional argument but 2 were given"
     ]
    }
   ],
   "source": [
    "def my_sum2(x, y):\n",
    "    return x + y;\n",
    "\n",
    "h = my_doubler(my_sum2)\n",
    "print(h(1,2))"
   ]
  },
  {
   "cell_type": "markdown",
   "metadata": {},
   "source": [
    "Oh *nooooo*!\n",
    "\n",
    "What we need is a way to specify a function that takes *arbitrary arguments*. This is where Python's `*args` and `**kwargs` come into play:"
   ]
  },
  {
   "cell_type": "code",
   "execution_count": 12,
   "metadata": {},
   "outputs": [
    {
     "name": "stdout",
     "output_type": "stream",
     "text": [
      "unnamed args:  (1, 2, 3, 4)\n",
      "keyword args:  {'key1': 'NU', 'key2': 'rocks!', 'key3': 'really!', 'key4': 'ah-hah!'}\n"
     ]
    }
   ],
   "source": [
    "def magic(*args, **kwargs):\n",
    "    print (\"unnamed args: \", args)\n",
    "    print (\"keyword args: \", kwargs)\n",
    "magic(1, 2, 3, 4, key1 = 'NU', key2 = 'rocks!', key3 = 'really!', key4 = 'ah-hah!')"
   ]
  },
  {
   "cell_type": "markdown",
   "metadata": {},
   "source": [
    "<br />\n",
    "<center>\n",
    "    <img src=\"ipynb.images/magic.png\" width=300 />**Ohhhhhhhhhhhh**</a><br>你真聪明\n",
    "</center>"
   ]
  },
  {
   "cell_type": "markdown",
   "metadata": {},
   "source": [
    "args is a `tuple` of its unnamed arguments and kwargs is a `dictionary` of its named arguments. So now we can:"
   ]
  },
  {
   "cell_type": "code",
   "execution_count": 13,
   "metadata": {},
   "outputs": [],
   "source": [
    "def my_new_doubler(f):\n",
    "    \"\"\"works no matter the inputs\"\"\"\n",
    "    def my_g(*args, **kwargs):\n",
    "        return 2 * f(*args, **kwargs)\n",
    "    return my_g"
   ]
  },
  {
   "cell_type": "markdown",
   "metadata": {},
   "source": [
    "and now:"
   ]
  },
  {
   "cell_type": "code",
   "execution_count": 14,
   "metadata": {},
   "outputs": [
    {
     "name": "stdout",
     "output_type": "stream",
     "text": [
      "6\n"
     ]
    }
   ],
   "source": [
    "h = my_new_doubler(my_sum2)\n",
    "print(h(1, 2))  # 6:"
   ]
  },
  {
   "cell_type": "markdown",
   "metadata": {},
   "source": [
    "Ok, ***now*** are ready to define **Probability distributions** in python, our new ***p*** function, where each outcome on the x-axis has its own distinct probability of being picked: One (high) value for rock star, one (low) value for Dino for the outcome of marrying Dua Lipa.\n",
    "\n",
    ">**Guess**: What python data structure are we likely to use to define probability distributions?\n",
    "\n",
    "We define `ProbDist` to take the same kinds of arguments that a `dict` does: either a **mapping** (from item to its probability) or a **set** of (key, val) pairs, and/or optional keyword arguments (because each ball in the urn is *special* now: it has its *own* probability of being picked). \n",
    "\n",
    ">**A dose of reality**: It's like all boys/girls are not equal! You will not just pick any boy/girl to be your girl/boyfriend! There are some that have a *much higher chance* of being picked by you (related to *your* taste)!\n",
    "\n",
    "This is the first time (in class), that we will define a Python `class`, instead of a Python **function/lambda**. That is why we will define its **constructor** `__init__()`. We assume `self` (`this` in Python) is composed of a set:"
   ]
  },
  {
   "cell_type": "code",
   "execution_count": 15,
   "metadata": {
    "button": false,
    "new_sheet": false,
    "run_control": {
     "read_only": false
    }
   },
   "outputs": [],
   "source": [
    "class ProbDist(dict):\n",
    "    \"\"\"A Probability Distribution; an {outcome: probability} mapping.\"\"\"\n",
    "    def __init__(self, mapping=(), **kwargs):\n",
    "        self.update(mapping, **kwargs)\n",
    "        # Make probabilities sum to 1.0; assert no negative probabilities\n",
    "        total = sum(self.values())\n",
    "        for outcome in self:\n",
    "            self[outcome] = self[outcome] / total\n",
    "            assert self[outcome] >= 0"
   ]
  },
  {
   "cell_type": "markdown",
   "metadata": {
    "button": false,
    "new_sheet": false,
    "run_control": {
     "read_only": false
    }
   },
   "source": [
    "We also need to modify the functions `p` and `such_that` to accept either a sample space as we had previously, or a probability distribution as the second argument `space`. \n",
    "\n",
    ">**Oh-oh**: Now we need to branch out on the ***2nd argument*** of function `p`!\n",
    "\n",
    "If we have a probability distribution, instead of *counting* each possible outcome equiprobably and thus just summing up `1`s (numerator: sum of all *favorable* outcomes, denominator: sum of all *possible* outcomes), we need to sum up the different discrete probabilities of each possible outcome: `sum(space[o] for o in space if o in event)`. \n",
    "\n",
    "We also need to modify `such_that()`, which is the set of all outcomes of our sample space for which the predicate (first) argument is `True`, so that its second argument can also be a `ProbDist`."
   ]
  },
  {
   "cell_type": "code",
   "execution_count": 16,
   "metadata": {
    "button": false,
    "new_sheet": false,
    "run_control": {
     "read_only": false
    }
   },
   "outputs": [],
   "source": [
    "def p(event, space): \n",
    "    \"\"\"The probability of an event, given a sample space of equiprobable outcomes. \n",
    "    event: a collection of outcomes, or a predicate that is true of outcomes in the event. \n",
    "    space: a set of outcomes or a probability distribution of {outcome: frequency} pairs.\"\"\"\n",
    "    # branch on the type of the first argument\n",
    "    if is_predicate(event):\n",
    "        # transform the mapping (untangible) 'event' into the collection (tangible) 'event'\n",
    "        event = such_that(event, space)\n",
    "        \n",
    "    if isinstance(space, ProbDist):\n",
    "        # if space is a dictionary of distinct probabilities, where each item does not count as the same amount\n",
    "        # we need to be careful and count each amount according to what it's worth\n",
    "        return sum([space[o] for o in event])\n",
    "    else:\n",
    "        # space is not a dictionary but a collection, let's fall back to our original division\n",
    "        return Fraction(len(event & space), len(space))\n",
    "\n",
    "is_predicate = callable\n",
    "\n",
    "def such_that(predicate, space): \n",
    "    \"\"\"The outcomes in the sample pace for which the predicate is true.\n",
    "    If space is a set, return a subset {outcome,...} with outcomes where predicate(element) is true;\n",
    "    if space is a ProbDist, return a ProbDist {outcome: frequency,...} with outcomes where predicate(element) is true.\"\"\"\n",
    "    if isinstance(space, ProbDist):\n",
    "        return ProbDist({o:space[o] for o in space if predicate(o)})\n",
    "    else:\n",
    "        return {o for o in space if predicate(o)}"
   ]
  },
  {
   "cell_type": "markdown",
   "metadata": {
    "button": false,
    "new_sheet": false,
    "run_control": {
     "read_only": false
    }
   },
   "source": [
    "And now we can finally take on the Danes from the data science paper!\n",
    "<br />\n",
    "<center>\n",
    "    <img src=\"ipynb.images/Danes.png\" width=300 />\n",
    "</center>\n",
    "\n",
    "# Danish two-child families: An introduction to *conditional* and *marginal* probabilities\n",
    "Here is the probability distribution for Danish two-child families as a `dictionar`y, describing the probability of each possible outcome, according to the data science paper referenced above:"
   ]
  },
  {
   "cell_type": "code",
   "execution_count": 17,
   "metadata": {
    "button": false,
    "new_sheet": false,
    "run_control": {
     "read_only": false
    }
   },
   "outputs": [
    {
     "data": {
      "text/plain": [
       "{'GG': 0.23840384261560926,\n",
       " 'GB': 0.24826679089140383,\n",
       " 'BG': 0.24882071317004043,\n",
       " 'BB': 0.2645086533229465}"
      ]
     },
     "execution_count": 17,
     "metadata": {},
     "output_type": "execute_result"
    }
   ],
   "source": [
    "DK = ProbDist(GG=121801, GB=126840,\n",
    "              BG=127123, BB=135138)\n",
    "DK"
   ]
  },
  {
   "cell_type": "markdown",
   "metadata": {
    "button": false,
    "new_sheet": false,
    "run_control": {
     "read_only": false
    }
   },
   "source": [
    "Let's write some useful predicates (in lambda syntax):\n",
    "```python\n",
    "def first_girl(outcome):  return outcome[0] == 'G'\n",
    "def first_boy(outcome):   return outcome[0] == 'B'\n",
    "def second_girl(outcome): return outcome[1] == 'G'\n",
    "def second_boy(outcome):  return outcome[1] == 'B'\n",
    "def two_girls(outcome):   return outcome    == 'GG'\n",
    "```\n",
    "Using these predicates, answer the following questions:\n",
    "\n",
    "* **Question 1**: What's the probability for a girl, and is it higher or lower for a ***second*** girl?\n",
    "* **Question 2**: Is the sex of the younger (second) child more likely or less likely to be the same as the first child? And is it more likely to be a boy or a girl?\n",
    "\n",
    "*Hint:* You will leverage the probability of a first girl, the probability of a second girl given that there was a first girl, and the probability of a second girl given that there was a first boy. In other words: `p(first_girl, DK)`, `p(second_girl, such_that(first_girl, DK))`, and `p(second_girl, such_that(first_boy, DK))`"
   ]
  },
  {
   "cell_type": "code",
   "execution_count": 18,
   "metadata": {
    "button": false,
    "new_sheet": false,
    "run_control": {
     "read_only": false
    }
   },
   "outputs": [],
   "source": [
    "def first_girl(outcome):  return outcome[0] == 'G'\n",
    "def first_boy(outcome):   return outcome[0] == 'B'\n",
    "def second_girl(outcome): return outcome[1] == 'G'\n",
    "def second_boy(outcome):  return outcome[1] == 'B'\n",
    "def two_girls(outcome):   return outcome    == 'GG'"
   ]
  },
  {
   "cell_type": "code",
   "execution_count": 19,
   "metadata": {},
   "outputs": [
    {
     "data": {
      "text/plain": [
       "0.4866706335070131"
      ]
     },
     "execution_count": 19,
     "metadata": {},
     "output_type": "execute_result"
    }
   ],
   "source": [
    "p(first_girl, DK)"
   ]
  },
  {
   "cell_type": "code",
   "execution_count": 20,
   "metadata": {},
   "outputs": [
    {
     "data": {
      "text/plain": [
       "0.4872245557856497"
      ]
     },
     "execution_count": 20,
     "metadata": {},
     "output_type": "execute_result"
    }
   ],
   "source": [
    "p(second_girl, DK)"
   ]
  },
  {
   "cell_type": "markdown",
   "metadata": {},
   "source": [
    ">**Student Question**: Can we write the probability of 'BG' as p(second_girl and first_boy, DK)?"
   ]
  },
  {
   "cell_type": "code",
   "execution_count": 21,
   "metadata": {},
   "outputs": [
    {
     "data": {
      "text/plain": [
       "(False, True, False, True)"
      ]
     },
     "execution_count": 21,
     "metadata": {},
     "output_type": "execute_result"
    }
   ],
   "source": [
    "(\n",
    "    (second_girl and first_boy)('GG'), (second_girl and first_boy)('BB'), \n",
    "    (second_girl and first_boy)('GB'), (second_girl and first_boy)('BG')\n",
    ")"
   ]
  },
  {
   "cell_type": "markdown",
   "metadata": {},
   "source": [
    "Hmm... Why is `(second_girl and first_boy)('BB') == True`?!"
   ]
  },
  {
   "cell_type": "code",
   "execution_count": 22,
   "metadata": {},
   "outputs": [
    {
     "data": {
      "text/plain": [
       "True"
      ]
     },
     "execution_count": 22,
     "metadata": {},
     "output_type": "execute_result"
    }
   ],
   "source": [
    "(second_girl and first_boy)('BB')"
   ]
  },
  {
   "cell_type": "markdown",
   "metadata": {},
   "source": [
    "When we compute:"
   ]
  },
  {
   "cell_type": "code",
   "execution_count": 23,
   "metadata": {},
   "outputs": [
    {
     "data": {
      "text/plain": [
       "(False, True)"
      ]
     },
     "execution_count": 23,
     "metadata": {},
     "output_type": "execute_result"
    }
   ],
   "source": [
    "second_girl('BB'), first_boy('BB')"
   ]
  },
  {
   "cell_type": "markdown",
   "metadata": {},
   "source": [
    "We get `False` and `True`, and I know that 'False and True == False`!"
   ]
  },
  {
   "cell_type": "code",
   "execution_count": 24,
   "metadata": {},
   "outputs": [
    {
     "data": {
      "text/plain": [
       "False"
      ]
     },
     "execution_count": 24,
     "metadata": {},
     "output_type": "execute_result"
    }
   ],
   "source": [
    "False and True"
   ]
  },
  {
   "cell_type": "markdown",
   "metadata": {},
   "source": [
    "So what is going on? To me, what it means is that `if f and g are two boolean functions, (f and g)(x) != f(x) and g(x)`"
   ]
  },
  {
   "cell_type": "code",
   "execution_count": 25,
   "metadata": {},
   "outputs": [
    {
     "data": {
      "text/plain": [
       "(<function __main__.second_girl(outcome)>,\n",
       " <function __main__.first_boy(outcome)>)"
      ]
     },
     "execution_count": 25,
     "metadata": {},
     "output_type": "execute_result"
    }
   ],
   "source": [
    "second_girl, second_girl and first_boy"
   ]
  },
  {
   "cell_type": "markdown",
   "metadata": {},
   "source": [
    "So, instead of doing `p(second_girl and first_boy, DK)`, we hve to rewrite our `p` function so it takes in a ***collection*** of predicates as its first argument! We define two new functions, `p_or` and `p_and`, where the former considers the union of predicates, and the latter the intersection (we also restrict ourselves to the case where the first argument is of type predicate and the second of type probability distribution):"
   ]
  },
  {
   "cell_type": "code",
   "execution_count": 26,
   "metadata": {},
   "outputs": [],
   "source": [
    "def p_or(event_collection, space): \n",
    "    \"\"\"The probability of an event collection union, given a sample space of equiprobable outcomes. \n",
    "    event: a collection of predicates that are true of outcomes in the event.\n",
    "    space: a probability distribution of {outcome: frequency} pairs.\"\"\"\n",
    "    \n",
    "    event_collection_u = set()\n",
    "    for event in event_collection:\n",
    "        # transform the mapping (untangible) 'event' into the collection (tangible) 'event'\n",
    "        event2 = such_that2(event, space)\n",
    "        event_collection_u.update(set(event2.keys()))\n",
    "    return sum([space[o] for o in event_collection_u])\n",
    "    \n",
    "def p_and(event_collection, space): \n",
    "    \"\"\"The probability of an event collection intersection, given a sample space of equiprobable outcomes. \n",
    "    event: a collection of predicates that are true of outcomes in the event. \n",
    "    space: a set of outcomes or a probability distribution of {outcome: frequency} pairs.\"\"\"\n",
    "   \n",
    "    lst_of_sets = []\n",
    "    for e in event_collection:\n",
    "        lst_of_sets.append({o for o in list(space.keys()) if e(o)})\n",
    "    # Call the intersection() method on the first set object.\n",
    "    # Pass all sets as arguments into the intersection() method by unpacking the list with the asterisk operator *list.\n",
    "    #print(lst_of_sets[0].intersection(*lst_of_sets))\n",
    "    return sum([space[o] for o in lst_of_sets[0].intersection(*lst_of_sets)])\n",
    "\n",
    "is_predicate = callable\n",
    "\n",
    "def such_that2(predicate, space): \n",
    "    \"\"\"The outcomes in the sample pace for which the predicate is true.\n",
    "    Space is a ProbDist, so return a ProbDist {outcome: frequency,...} with outcomes where predicate(element) is true.\"\"\"\n",
    "    return ProbDist({o:space[o] for o in space if predicate(o)})"
   ]
  },
  {
   "cell_type": "markdown",
   "metadata": {},
   "source": [
    "Let's see if it works:"
   ]
  },
  {
   "cell_type": "code",
   "execution_count": 27,
   "metadata": {},
   "outputs": [
    {
     "data": {
      "text/plain": [
       "0.24882071317004043"
      ]
     },
     "execution_count": 27,
     "metadata": {},
     "output_type": "execute_result"
    }
   ],
   "source": [
    "p_and({second_girl, first_boy}, DK)"
   ]
  },
  {
   "cell_type": "markdown",
   "metadata": {},
   "source": [
    "And we can see this is exactly the value for the `'BG'` key of our sample space:"
   ]
  },
  {
   "cell_type": "code",
   "execution_count": 28,
   "metadata": {},
   "outputs": [
    {
     "data": {
      "text/plain": [
       "0.24882071317004043"
      ]
     },
     "execution_count": 28,
     "metadata": {},
     "output_type": "execute_result"
    }
   ],
   "source": [
    "DK['BG']"
   ]
  },
  {
   "cell_type": "markdown",
   "metadata": {},
   "source": [
    "Also:"
   ]
  },
  {
   "cell_type": "code",
   "execution_count": 29,
   "metadata": {},
   "outputs": [
    {
     "data": {
      "text/plain": [
       "0.7517332091085962"
      ]
     },
     "execution_count": 29,
     "metadata": {},
     "output_type": "execute_result"
    }
   ],
   "source": [
    "p_or({second_girl, first_boy}, DK)"
   ]
  },
  {
   "cell_type": "code",
   "execution_count": 30,
   "metadata": {},
   "outputs": [
    {
     "data": {
      "text/plain": [
       "0.7517332091085962"
      ]
     },
     "execution_count": 30,
     "metadata": {},
     "output_type": "execute_result"
    }
   ],
   "source": [
    "DK['BG'] + DK['GG'] + DK['BB']"
   ]
  },
  {
   "cell_type": "markdown",
   "metadata": {},
   "source": [
    "Yay!"
   ]
  },
  {
   "cell_type": "markdown",
   "metadata": {},
   "source": [
    "Now answer the **question 2** as to whether the sex of the second child is *more likely* or *less likely* to be the same as the first child, by evaluating first:\n",
    "\n",
    "- The probability of a second girl *given that the first child was a girl* (a [conditional probability](https://en.wikipedia.org/wiki/Conditional_probability))\n",
    "- The probability of a second girl *given that the first child was a boy* (a conditional probability)\n",
    "- The probability of a second boy *given that the first child was a boy* (a conditional probability)\n",
    "- The probability of a second boy *given that the first child was a girl* (a conditional probability)\n",
    "\n",
    "The average of the ***first*** two probabilities above represents the probability of a second girl (*irrespective* of any other conditions)! It's a [marginal probability](https://en.wikipedia.org/wiki/Marginal_distribution) in our problem.\n",
    "\n",
    "The average of the ***last*** two probabilities above represents the probability of a second boy, a **marginal probability** in our problem.\n",
    "\n",
    "These are the first two conditional probabilities:"
   ]
  },
  {
   "cell_type": "markdown",
   "metadata": {},
   "source": [
    "p(A | B)"
   ]
  },
  {
   "cell_type": "code",
   "execution_count": 31,
   "metadata": {},
   "outputs": [
    {
     "data": {
      "text/plain": [
       "0.48471942072973107"
      ]
     },
     "execution_count": 31,
     "metadata": {},
     "output_type": "execute_result"
    }
   ],
   "source": [
    "# p(second_girl and first_boy, DK) <-- does not work, so do this instead:\n",
    "p(second_girl, such_that(first_boy, DK))"
   ]
  },
  {
   "cell_type": "code",
   "execution_count": 32,
   "metadata": {},
   "outputs": [
    {
     "data": {
      "text/plain": [
       "(0.4898669165584115, 0.48471942072973107)"
      ]
     },
     "execution_count": 32,
     "metadata": {},
     "output_type": "execute_result"
    }
   ],
   "source": [
    "p(second_girl, such_that(first_girl, DK)), p(second_girl, such_that(first_boy, DK))"
   ]
  },
  {
   "cell_type": "markdown",
   "metadata": {},
   "source": [
    "These are the last two conditional probabilities:"
   ]
  },
  {
   "cell_type": "code",
   "execution_count": 33,
   "metadata": {},
   "outputs": [
    {
     "data": {
      "text/plain": [
       "(0.5101330834415885, 0.5152805792702689)"
      ]
     },
     "execution_count": 33,
     "metadata": {},
     "output_type": "execute_result"
    }
   ],
   "source": [
    "p(second_boy, such_that(first_girl, DK)), p(second_boy, such_that(first_boy, DK))"
   ]
  },
  {
   "cell_type": "markdown",
   "metadata": {},
   "source": [
    "The above says that the sex of the second child is more likely to be the same as the first child, by about 1/2 a percentage point.\n",
    "\n",
    "And so, the **marginal probabilities** we are after are:"
   ]
  },
  {
   "cell_type": "code",
   "execution_count": 34,
   "metadata": {},
   "outputs": [
    {
     "data": {
      "text/plain": [
       "0.4872931686440713"
      ]
     },
     "execution_count": 34,
     "metadata": {},
     "output_type": "execute_result"
    }
   ],
   "source": [
    "p_second_girl = (p(second_girl, such_that(first_girl, DK)) + p(second_girl, such_that(first_boy, DK))) /2\n",
    "p_second_girl"
   ]
  },
  {
   "cell_type": "code",
   "execution_count": 35,
   "metadata": {},
   "outputs": [
    {
     "data": {
      "text/plain": [
       "0.5127068313559286"
      ]
     },
     "execution_count": 35,
     "metadata": {},
     "output_type": "execute_result"
    }
   ],
   "source": [
    "p_second_boy = (p(second_boy, such_that(first_girl, DK)) + p(second_boy, such_that(first_boy, DK))) / 2\n",
    "p_second_boy "
   ]
  },
  {
   "cell_type": "markdown",
   "metadata": {
    "button": false,
    "new_sheet": false,
    "run_control": {
     "read_only": false
    }
   },
   "source": [
    "In conclusion we see that the probability of a girl is somewhere between 48% and 49%, but slightly different between the first or second child, that the sex of the second child is more likely to be the ***same*** as the first child, by about 1/2 a percentage point, and that Danes are more likely to have a ***boy*** as the younger child, rather than a girl, by 2% points. \n",
    "\n",
    "Cooool..! We got all that through *programming*. No math! By spelling out our sets and writing down our logic.\n",
    "\n",
    "<br />\n",
    "<center>\n",
    "<img src=\"ipynb.images/pretty-bunny.gif\" />\n",
    "</center>"
   ]
  },
  {
   "cell_type": "markdown",
   "metadata": {
    "button": false,
    "new_sheet": false,
    "run_control": {
     "read_only": false
    }
   },
   "source": [
    "# 6. M&Ms and an introduction to Bayes' Theorem\n",
    "<br />\n",
    "<center>\n",
    "<img src=\"https://upload.wikimedia.org/wikipedia/en/9/97/M%26M_spokescandies.jpeg\" />\n",
    "</center>\n",
    "\n",
    "[Bayes's theorem](https://en.wikipedia.org/wiki/Bayes%27_theorem) describes the probability of an event $A$, based on prior knowledge of conditions $E$ that might be related to the event:\n",
    "\n",
    "$$P(A \\;|\\; E) = \\frac{P(E \\;|\\; A) \\;*\\; P(A)}{ P(E) }$$\n",
    "\n",
    "Just like the `1 minus` trick for estimating probabilities, you use Bayes' theorem when $P(E \\;|\\; A)$ is easier to compute than $P(A \\;|\\; E)$.\n",
    "\n",
    "For example, if the risk of developing deadly covid19 problems is known to increase with age and medical preconditions. Bayes's theorem allows the risk to an individual of a known age or having a medical precondition to be assessed more accurately than simply assuming that the individual is typical of the population as a whole.\n",
    "\n",
    "Let's study Bayes with another experiment.\n",
    "\n",
    "Here's another urn problem (or \"bag\" problem) [from](http://allendowney.blogspot.com/2011/10/my-favorite-bayess-theorem-problems.html) prolific Python/Probability author [Allen Downey ](http://allendowney.blogspot.com/), which also happens to be a classic interview question:\n",
    "\n",
    "> The blue M&M was introduced in 1995.  Before then, the color mix in a bag of plain M&Ms was (30% Brown, 20% Yellow, 20% Red, 10% Green, 10% Orange, 10% Tan).  Afterward it was (24% Blue , 20% Green, 16% Orange, 14% Yellow, 13% Red, 13% Brown). \n",
    "A friend of mine has two bags of M&Ms, and he picks one M&M from one bag and one from the other, and he tells me that one is from 1994 and one from 1996.  He won't tell me which is which, but he gives me one M&M from each bag.  One is yellow and one is green.  What is the probability that the yellow M&M came from the 1994 bag? Well, the old M&M bags' yellow count was higher, so it must be higher, right? But how to count?\n",
    "\n",
    "To solve this problem, we'll first represent probability distributions for each bag: `bag94` and `bag96`, by using `ProbDist` and passing in dictionaries for each year:\n",
    "```python\n",
    "bag94 = ProbDist(brown=30, yellow=20, red=20, green=10, orange=10, tan=10)\n",
    "bag96 = ProbDist(...)  #fill this in, please\n",
    "```"
   ]
  },
  {
   "cell_type": "code",
   "execution_count": 36,
   "metadata": {
    "button": false,
    "new_sheet": false,
    "run_control": {
     "read_only": false
    }
   },
   "outputs": [],
   "source": [
    "bag94 = ...\n",
    "bag96 = ..."
   ]
  },
  {
   "cell_type": "code",
   "execution_count": 37,
   "metadata": {},
   "outputs": [
    {
     "data": {
      "text/plain": [
       "Ellipsis"
      ]
     },
     "execution_count": 37,
     "metadata": {},
     "output_type": "execute_result"
    }
   ],
   "source": [
    "bag94"
   ]
  },
  {
   "cell_type": "markdown",
   "metadata": {
    "button": false,
    "new_sheet": false,
    "run_control": {
     "read_only": false
    }
   },
   "source": [
    "Next, define `MM` as the *joint* distribution 94-96&mdash;the sample space for picking *one* M&M from *each* bag. The outcome `'yellow green'` means that a yellow M&M was selected from the 1994 bag and a green one from the 1996 bag. We will use a *set comprehension*.\n",
    "\n",
    "Uhhhh... What do we use for sets again? Is it `[`, or `(`, or `{`?\n",
    "\n",
    "To note:\n",
    "* We are using a python *set* because we care about dictionaries, and dictionary keys are unique\n",
    "* You can also think in terms of JSON objects\n",
    "\n",
    "```python\n",
    "def joint(A, B, sep=''):\n",
    "    \"\"\"The joint distribution of two independent probability distributions. \n",
    "    Result is all entries of the form {a+sep+b: P(a)*P(b)}\"\"\"\n",
    "    return ProbDist({a + sep + b: A[a] * B[b]\n",
    "                    for ...\n",
    "                    for ...})\n",
    "\n",
    "MM = joint(bag94, bag96, ' ')\n",
    "MM\n",
    "```"
   ]
  },
  {
   "cell_type": "markdown",
   "metadata": {
    "button": false,
    "new_sheet": false,
    "run_control": {
     "read_only": false
    }
   },
   "source": [
    "Let's look at the \"One is yellow and one is green\" part:\n",
    "\n",
    "```python\n",
    "def yellow_and_green(outcome): return 'yellow' in outcome and 'green' in outcome\n",
    "\n",
    "such_that(...) # fill this in\n",
    "```"
   ]
  },
  {
   "cell_type": "code",
   "execution_count": null,
   "metadata": {
    "button": false,
    "new_sheet": false,
    "run_control": {
     "read_only": false
    }
   },
   "outputs": [],
   "source": [
    "\n"
   ]
  },
  {
   "cell_type": "markdown",
   "metadata": {
    "button": false,
    "new_sheet": false,
    "run_control": {
     "read_only": false
    }
   },
   "source": [
    "Now we can answer the question: given that we got a yellow and a green (but don't know which comes from which bag), what is the probability that the yellow came from the 1994 bag?\n",
    "\n",
    "```python\n",
    "def yellow94(outcome): return ...\n",
    "\n",
    "p(yellow94, such_that(...)) # fill this in\n",
    "```"
   ]
  },
  {
   "cell_type": "code",
   "execution_count": null,
   "metadata": {},
   "outputs": [],
   "source": [
    "\n",
    "\n",
    "\n"
   ]
  },
  {
   "cell_type": "markdown",
   "metadata": {
    "button": false,
    "new_sheet": false,
    "run_control": {
     "read_only": false
    }
   },
   "source": [
    "So there is a 74% chance that the yellow comes from the 1994 bag. We were *right* about our hunch :-)\n",
    "\n",
    "Answering this question was straightforward: just like all the other probability problems, we simply create a sample space, and use `p` to pick out the probability of the event in question, given what we know about the outcome. This is the 'mechanistic' way of obtaining our answer.\n",
    "\n",
    "# With Math\n",
    "We can *also* solve it using *Bayes' Theorem*, and this is as good as any's introduction to naive Bayes theory: We are asked about the probability of an event (M&M94 --> M&M96) given the evidence (M&M94 is yellow, M&M96 green), which is not immediately available. However the probability of the evidence, given the event is readily available!  \n",
    "\n",
    "Before we see the colors of the M&Ms, there are two hypotheses, `A` and `B`, both with equal probability:\n",
    "\n",
    "    A: first M&M from 94 bag, second from 96 bag\n",
    "    B: first M&M from 96 bag, second from 94 bag\n",
    "    P(A) = P(B) = 0.5\n",
    "    \n",
    "Then we get some evidence:\n",
    "    \n",
    "    E: first M&M yellow, second green\n",
    "    \n",
    "We want to know the probability of hypothesis `A`, given the evidence:\n",
    "    \n",
    "    P(A | E)\n",
    "    \n",
    "That's not easy to calculate (except by enumerating the sample space, which is what we did above). But Bayes Theorem says:\n",
    "    \n",
    "    P(A | E) = P(E | A) * P(A) / P(E)\n",
    "    \n",
    "The quantities on the *right-hand-side* are easier to calculate:\n",
    "    \n",
    "    P(E | A) = 20/100 * 20/100 = 0.04\n",
    "    P(E | B) = 10/100 * 14/100 = 0.014\n",
    "    P(A)     = 0.5\n",
    "    P(B)     = 0.5\n",
    "    P(E)     = P(E | A) * P(A) + P(E | B) * P(B) \n",
    "             = 0.04     * 0.5  + 0.014    * 0.5   =   0.027\n",
    "             \n",
    "Where did the probability of the evidence P(E) formula come from?\n",
    "\n",
    "There are two possibilities of getting the evidence: A and B, a *union* and so we sum their probabilities. The joint probability of the evidence *and* case A is a succession or *intersection*, so it must be a product of their probabilities: P(E|A).P(A). Likewise for the case B: P(E|B).P(B) \n",
    "    \n",
    "And so we can get a final answer:\n",
    "    \n",
    "    P(A | E) = P(E | A) * P(A) / P(E) \n",
    "             = 0.04     * 0.5  / 0.027 \n",
    "             = 0.7407407407\n",
    "             \n",
    "Bayes Theorem allows you to do less calculation at the cost of more algebra; that is a great trade-off if you are working with pencil and paper (like in interview situations). Enumerating the state space allows you to do less algebra at the cost of more calculation; often a good trade-off if you have a computer. But regardless of the approach you use, it is important to understand Bayes theorem and how it works.\n",
    "\n",
    "Bayes' theorem will be our introduction to more advanced statistics, which we'll cover *next* week!"
   ]
  },
  {
   "cell_type": "markdown",
   "metadata": {},
   "source": [
    "# Big Data? Big Deal..\n",
    "\n",
    "So far, we have talked of an *outcome* as being a single state of the world. But it can be useful to break that state of the world down into *many* components. We call these components **random variables**. For example, when we consider an experiment in which we roll *two* dice and observe their sum, we could model the situation with *two* random variables, one for each die (our representation of outcomes has been doing that implicitly all along, when we concatenate two parts of a string, but the concept of a random variable makes it official.)\n",
    "\n",
    "Remember [this](https://www.mathsisfun.com/data/quincunx.html) experiment?\n",
    "\n",
    "The **Central Limit Theorem** states that if you have a collection of random variables and sum them up, then the *larger* the collection, the *closer* the sum will be to a *normal distribution* (also called a *Gaussian distribution* or a *bell-shaped curve*). This illustrates why Data Science with **Big Data** is not really a challenge at all (other than how to store and compute with data that is larger than the RAM on your laptop)! If you have tons of data, then frequentist and Bayesian statistics coincide, there is little doubt about outcomes, and it is clear which outcome to place your bets on.\n",
    "\n",
    "The challenge is with **Small Data**, where there is doubt and you have no idea of the pdf, and you have to painstakingly  build a model with parameters, and refine your parameters so the model fits the data.\n",
    "\n",
    "Why do accidents happen in autonomous vehicles when it snows, at dusk, when the moon is behind a traffic light, and a pedestrian is crossing the street on a red light? Precisely because we don't have Big Data about that use case, and the autonomous car has **no idea what to do**! Uber needs *you* to program it for the Small DAta cases. Big Data is piece of cake!\n",
    "\n",
    "This is a good time to introduce the concept of a **histogram**, which is essentially a probability density function that we get from data collection or from analytic curves. If we have the 2D function `f(x,y)`, we can estimate the discretized probability density function (pdf) of `f` by computing how many values of `f` fall into specific bins with prespecified values of y.\n",
    "\n",
    "Plot the pdf of the following graph:\n",
    "<br />\n",
    "<center>\n",
    "    <img src=\"ipynb.images/graph.png\" width=200 />\n",
    "</center>"
   ]
  },
  {
   "cell_type": "markdown",
   "metadata": {},
   "source": [
    "### Celtics\n",
    "\n",
    "As another example, let's take 5 random variables reprsenting the per-game scores of the 5 Celtics starters for the 2018 season (Jayson Tatum or JT, Jaylen Brown or JB, Terry Rozier or TR, Al Horford or AL, and Aron Baynes or AB), and then sum them together to form the team score. The scores here are imaginary to introduce statistical function `gauss`, `triangular`, `vonmisesvariate`, and `uniform`. For the real season scores of this exciting and ultimately deflating season, visit [here](http://www.nba.com/celtics/stats?sort=PTS). Each random variable/player is represented as a probability distribution function; calling the function returns a single sample from the distribution:"
   ]
  },
  {
   "cell_type": "code",
   "execution_count": 38,
   "metadata": {},
   "outputs": [],
   "source": [
    "from random import gauss, triangular, choice, vonmisesvariate, uniform\n",
    "\n",
    "def JT(): return posint(gauss(15.1, 3) + 3 * triangular(1, 4, 13)) # 30.1\n",
    "def JB(): return posint(gauss(10.2, 3) + 3 * triangular(1, 3.5, 9)) # 22.1\n",
    "def TR(): return posint(vonmisesvariate(30, 2) * 3.08) # 14.0\n",
    "def AH(): return posint(gauss(6.7, 1.5) if choice((True, False)) else gauss(16.7, 2.5)) # 11.7\n",
    "def AB(): return posint(triangular(5, 17, 25) + uniform(0, 30) + gauss(6, 3)) # 37.0\n",
    "\n",
    "def posint(x): \"Positive integer\"; return max(0, int(round(x)))"
   ]
  },
  {
   "cell_type": "markdown",
   "metadata": {},
   "source": [
    "And here is a function to sample a random variable *k* times, show a histogram of the results, and return the mean:"
   ]
  },
  {
   "cell_type": "code",
   "execution_count": 39,
   "metadata": {},
   "outputs": [],
   "source": [
    "from statistics import mean\n",
    "\n",
    "def repeated_hist(rv, bins=10, k=100000):\n",
    "    \"Repeat rv() k times and make a histogram of the results.\"\n",
    "    samples = [rv() for _ in range(k)]\n",
    "    plt.hist(samples, bins=bins, color = 'g')\n",
    "    return mean(samples)"
   ]
  },
  {
   "cell_type": "markdown",
   "metadata": {},
   "source": [
    "The two top-scoring players, Jayson Tatum (JT) and Jaylen Brown (JB), have scoring distributions that are slightly skewed from normal:"
   ]
  },
  {
   "cell_type": "code",
   "execution_count": 40,
   "metadata": {},
   "outputs": [
    {
     "data": {
      "text/plain": [
       "30.08347"
      ]
     },
     "execution_count": 40,
     "metadata": {},
     "output_type": "execute_result"
    },
    {
     "data": {
      "image/png": "[encoded data removed]",
      "text/plain": [
       "<Figure size 432x288 with 1 Axes>"
      ]
     },
     "metadata": {
      "needs_background": "light"
     },
     "output_type": "display_data"
    }
   ],
   "source": [
    "repeated_hist(JT, bins=range(60))"
   ]
  },
  {
   "cell_type": "code",
   "execution_count": 41,
   "metadata": {},
   "outputs": [
    {
     "data": {
      "text/plain": [
       "22.12794"
      ]
     },
     "execution_count": 41,
     "metadata": {},
     "output_type": "execute_result"
    },
    {
     "data": {
      "image/png": "[encoded data removed]",
      "text/plain": [
       "<Figure size 432x288 with 1 Axes>"
      ]
     },
     "metadata": {
      "needs_background": "light"
     },
     "output_type": "display_data"
    }
   ],
   "source": [
    "repeated_hist(JB, bins=range(60))"
   ]
  },
  {
   "cell_type": "markdown",
   "metadata": {},
   "source": [
    "The next two players have bi-modal distributions; some games they score a lot, some games not:"
   ]
  },
  {
   "cell_type": "code",
   "execution_count": 42,
   "metadata": {},
   "outputs": [
    {
     "data": {
      "text/plain": [
       "14.01307"
      ]
     },
     "execution_count": 42,
     "metadata": {},
     "output_type": "execute_result"
    },
    {
     "data": {
      "image/png": "[encoded data removed]",
      "text/plain": [
       "<Figure size 432x288 with 1 Axes>"
      ]
     },
     "metadata": {
      "needs_background": "light"
     },
     "output_type": "display_data"
    }
   ],
   "source": [
    "repeated_hist(TR, bins=range(60))"
   ]
  },
  {
   "cell_type": "code",
   "execution_count": 43,
   "metadata": {},
   "outputs": [
    {
     "data": {
      "text/plain": [
       "11.6747"
      ]
     },
     "execution_count": 43,
     "metadata": {},
     "output_type": "execute_result"
    },
    {
     "data": {
      "image/png": "[encoded data removed]",
      "text/plain": [
       "<Figure size 432x288 with 1 Axes>"
      ]
     },
     "metadata": {
      "needs_background": "light"
     },
     "output_type": "display_data"
    }
   ],
   "source": [
    "repeated_hist(AH, bins=range(60))"
   ]
  },
  {
   "cell_type": "markdown",
   "metadata": {},
   "source": [
    "The fifth \"player\" (actually the sum of all the other players on the team, not really Aron Baymes, or they would have easily defeated the Cavaliers!) looks like this:"
   ]
  },
  {
   "cell_type": "code",
   "execution_count": 44,
   "metadata": {},
   "outputs": [
    {
     "data": {
      "text/plain": [
       "36.2963"
      ]
     },
     "execution_count": 44,
     "metadata": {},
     "output_type": "execute_result"
    },
    {
     "data": {
      "image/png": "[encoded data removed]",
      "text/plain": [
       "<Figure size 432x288 with 1 Axes>"
      ]
     },
     "metadata": {
      "needs_background": "light"
     },
     "output_type": "display_data"
    }
   ],
   "source": [
    "repeated_hist(AB, bins=range(60))"
   ]
  },
  {
   "cell_type": "markdown",
   "metadata": {},
   "source": [
    "Go ahead, add more players to the Celtics, each with their own scoring distribution. Modify and use the below template:\n",
    "```python\n",
    "def XX(): return posint(gauss(15.1, 3) + 3 * triangular(1, 4, 13)) # 30.1\n",
    "```\n",
    "\n",
    "Add then in the cell below:"
   ]
  },
  {
   "cell_type": "code",
   "execution_count": null,
   "metadata": {},
   "outputs": [],
   "source": []
  },
  {
   "cell_type": "markdown",
   "metadata": {},
   "source": [
    "Now we define the team score to be the sum of the five players, and look at the distribution. Don't forge to add your own players!"
   ]
  },
  {
   "cell_type": "code",
   "execution_count": 45,
   "metadata": {},
   "outputs": [
    {
     "data": {
      "text/plain": [
       "114.24257"
      ]
     },
     "execution_count": 45,
     "metadata": {},
     "output_type": "execute_result"
    },
    {
     "data": {
      "image/png": "[encoded data removed]",
      "text/plain": [
       "<Figure size 432x288 with 1 Axes>"
      ]
     },
     "metadata": {
      "needs_background": "light"
     },
     "output_type": "display_data"
    }
   ],
   "source": [
    "def GSW(): return JT() + JB() + TR() + AH() + AB()  # + ... add your own players!\n",
    "\n",
    "repeated_hist(GSW, bins=range(70, 160, 2))"
   ]
  },
  {
   "cell_type": "markdown",
   "metadata": {},
   "source": [
    "Sure enough, this looks very much like a **normal distribution**! \n",
    "\n",
    "The Central Limit Theorem holds, and that is why the statistics of NBA teams are so *predictable*. \n",
    "\n",
    "When you have a lot of data, you have little doubt, and the Data Science is *easy*. Deep Learning ANNs are very good at building hypersurfaces that match all the state variables of past outcomes. When you are asked to predict new outcomes based on a partial subset of state variables (independent variables), machines just project the lower dimensional hypersurface onto the higher dimensional hypersurface (stored in very compact form) and fill in the missing dimensions in order to predict the dependent variables. \n",
    "\n",
    "<br />\n",
    "<center>\n",
    "    <img src=\"ipynb.images/manifold.jpg\" width=300 />\n",
    "</center>\n",
    "\n",
    "\n",
    "We saw just a few days ago how machines can even predict non-linear functions if we give them tons of data, but when the data is not enough, they *cannot* predict!\n",
    "\n",
    "So what do we do when we *don't have enough data*? Do we just give up? We'll see next week how **Bayesian statistics** come to the rescue, *when we have to deal with doubt*."
   ]
  },
  {
   "cell_type": "markdown",
   "metadata": {},
   "source": [
    "# Conclusion¶\n",
    "We've built a framework for estimating probabilities that will come in handy when you are asked to build data models. We *started playing* with **Bayes' theorem**, a *pillar* of data science, and we started learning about typical Data Science interview questions, which you should *always* answer in python because you *will* run out of space on the whiteboard if you use squiggly brackets and other languages! \n",
    "\n",
    "Next week we move on to statistical modeling and inference. \n",
    "\n",
    "**Modeling** (one `l` or 2 `l`s? See [here](https://www.grammarly.com/blog/modeling-or-modelling/)) happens when data is scarce and precious and hard to obtain, for example in social sciences and settings where it is difficult to conduct large-scale controlled experiments. With small data it is important to quantify uncertainty and that’s precisely what Bayesian approaches are good at. **Inference** refers to how you learn parameters of your model (Markov Chain Monte Carlo, or MCMC, albeit computationally expensive, is one of the most important methods for statistical inference), which is especially important with Bayesian Machine Learning, where we can actually inquire with Machines why this or that action was undertaken.\n",
    "\n",
    "*Alexa, why did you lower the temperature in the bedroom?* **Because your wife told me that whenever you start snoring, John, colder tempreatures make you bundle up under the cover and you snore less**. \n",
    "\n",
    "<br />\n",
    "<center>\n",
    "    <img src=\"ipynb.images/echo.jpg\" width=200 />\n",
    "</center>\n",
    "\n",
    "Best advice for interviews: Be explicit about what the problem says, have the interviewer verify the working hypotheses, be methodical about defining the sample space, be careful in counting the number of outcomes in the numerator and denominator, and finally use Bayes' theorem (or 1 minus the negation) whenever possible because you will be doing calculations by hand on a whiteboard!\n",
    "\n",
    "<br />\n",
    "<center>\n",
    "    <img src=\"ipynb.images/jobinterview.jpg\" width=400 />\n",
    "</center>"
   ]
  },
  {
   "cell_type": "markdown",
   "metadata": {},
   "source": [
    "# Homework for next week: Introduction to Data Science for Sports\n",
    "\n",
    "You need to provide *proof* for your answers. `I think it's one in a million because Red Bull Racing ***sucks*** and I like Mercedes ***a lot more***` is not a good answer. Leverage the counting framework in this workbook!"
   ]
  },
  {
   "cell_type": "markdown",
   "metadata": {},
   "source": [
    "Hint: Use ItalyGrandPrix, or `IGP` to denote the Probability Distribution given by F1 driver wins. Write driver initials as keys and driver wins as values in a dictionary that you pass to our function `ProbDist`.."
   ]
  },
  {
   "cell_type": "markdown",
   "metadata": {},
   "source": [
    "#### First Question\n",
    "> ##### what is the Probability Distribution for each F1 driver to win the Italy Grand Prix?"
   ]
  },
  {
   "cell_type": "code",
   "execution_count": 46,
   "metadata": {},
   "outputs": [],
   "source": [
    "class ProbDist(dict):\n",
    "    \"\"\"A Probability Distribution; an {outcome: probability} mapping.\"\"\"\n",
    "    def __init__(self, mapping=(), **kwargs):\n",
    "        self.update(mapping, **kwargs)\n",
    "        # Make probabilities sum to 1.0; assert no negative probabilities\n",
    "        total = sum(self.values())\n",
    "        for outcome in self:\n",
    "            self[outcome] = self[outcome] / total\n",
    "            assert self[outcome] >= 0"
   ]
  },
  {
   "cell_type": "code",
   "execution_count": 116,
   "metadata": {},
   "outputs": [
    {
     "data": {
      "text/plain": [
       "{'MV': 0.16504243948443886,\n",
       " 'LH': 0.16127004086765168,\n",
       " 'VB': 0.11128575919522163,\n",
       " 'LN': 0.09116629990569003,\n",
       " 'SP': 0.08487896887771142,\n",
       " 'CS': 0.07324740647595096,\n",
       " 'CL': 0.07293303992455202,\n",
       " 'DR': 0.05972964476579692,\n",
       " 'PG': 0.04652624960704181,\n",
       " 'FA': 0.03646651996227601,\n",
       " 'EO': 0.028921722728701665,\n",
       " 'SV': 0.022005658597925182,\n",
       " 'LS': 0.01634706067274442,\n",
       " 'YT': 0.011317195850361521,\n",
       " 'GR': 0.010059729644765796,\n",
       " 'KR': 0.0044011317195850365,\n",
       " 'AG': 0.003772398616787174,\n",
       " 'MS': 0.0006287331027978623,\n",
       " 'RK': 0.0,\n",
       " 'NM': 0.0}"
      ]
     },
     "execution_count": 116,
     "metadata": {},
     "output_type": "execute_result"
    }
   ],
   "source": [
    "IGP = ProbDist(\n",
    "    MV= 262.5,\n",
    "    LH = 256.5,\n",
    "    VB = 177,\n",
    "    LN = 145,\n",
    "    SP = 135,\n",
    "    CS = 116.5,\n",
    "    CL = 116,\n",
    "    DR = 95,\n",
    "    PG = 74,\n",
    "    FA = 58,\n",
    "    EO = 46,\n",
    "    SV = 35,\n",
    "    LS = 26,\n",
    "    YT = 18,\n",
    "    GR = 16,\n",
    "    KR = 7,\n",
    "    AG = 6,\n",
    "    MS = 1,\n",
    "    RK = 0,\n",
    "    NM = 0)\n",
    "\n",
    "IGP"
   ]
  },
  {
   "cell_type": "code",
   "execution_count": 115,
   "metadata": {},
   "outputs": [
    {
     "data": {
      "text/plain": [
       "{'MV': 0.16504243948443886,\n",
       " 'LH': 0.16127004086765168,\n",
       " 'VB': 0.11128575919522163,\n",
       " 'LN': 0.09116629990569003,\n",
       " 'SP': 0.08487896887771142,\n",
       " 'CS': 0.07324740647595096,\n",
       " 'CL': 0.07293303992455202,\n",
       " 'DR': 0.05972964476579692,\n",
       " 'PG': 0.04652624960704181,\n",
       " 'FA': 0.03646651996227601,\n",
       " 'EO': 0.028921722728701665,\n",
       " 'SV': 0.022005658597925182,\n",
       " 'LS': 0.01634706067274442,\n",
       " 'YT': 0.011317195850361521,\n",
       " 'GR': 0.010059729644765796,\n",
       " 'KR': 0.0044011317195850365,\n",
       " 'AG': 0.003772398616787174,\n",
       " 'MS': 0.0006287331027978623,\n",
       " 'RK': 0.0,\n",
       " 'NM': 0.0}"
      ]
     },
     "execution_count": 115,
     "metadata": {},
     "output_type": "execute_result"
    }
   ],
   "source": [
    "RGP = ProbDist(\n",
    "    MV= 262.5,\n",
    "    LH = 256.5,\n",
    "    VB = 177,\n",
    "    LN = 145,\n",
    "    SP = 135,\n",
    "    CS = 116.5,\n",
    "    CL = 116,\n",
    "    DR = 95,\n",
    "    PG = 74,\n",
    "    FA = 58,\n",
    "    EO = 46,\n",
    "    SV = 35,\n",
    "    LS = 26,\n",
    "    YT = 18,\n",
    "    GR = 16,\n",
    "    KR = 7,\n",
    "    AG = 6,\n",
    "    MS = 1,\n",
    "    RK = 0,\n",
    "    NM = 0)\n",
    "\n",
    "RGP"
   ]
  },
  {
   "cell_type": "markdown",
   "metadata": {},
   "source": [
    "#### Joint Probability Distribution for both Grand Prixs\n",
    "> ###### What is the Probability Distribution for each F1 driver to win ***both*** the Italy and the Russia Grand Prix? \n"
   ]
  },
  {
   "cell_type": "code",
   "execution_count": 49,
   "metadata": {},
   "outputs": [
    {
     "data": {
      "text/plain": [
       "{'MV MV': 0.027239006830974674,\n",
       " 'MV LH': 0.026616400960552393,\n",
       " 'MV VB': 0.018366873177457207,\n",
       " 'MV LN': 0.015046308535205059,\n",
       " 'MV SP': 0.014008632084501264,\n",
       " 'MV CS': 0.012088930650699237,\n",
       " 'MV CL': 0.012037046828164047,\n",
       " 'MV DR': 0.009857926281686073,\n",
       " 'MV PG': 0.007678805735208099,\n",
       " 'MV FA': 0.0060185234140820235,\n",
       " 'MV EO': 0.004773311673237466,\n",
       " 'MV SV': 0.0036318675774632903,\n",
       " 'MV LS': 0.0026979587718298725,\n",
       " 'MV YT': 0.0018678176112668348,\n",
       " 'MV GR': 0.0016602823211260753,\n",
       " 'MV KR': 0.0007263735154926581,\n",
       " 'MV AG': 0.0006226058704222783,\n",
       " 'MV MS': 0.0001037676450703797,\n",
       " 'MV RK': 0.0,\n",
       " 'MV NM': 0.0,\n",
       " 'LH MV': 0.026616400960552393,\n",
       " 'LH LH': 0.026008026081454052,\n",
       " 'LH VB': 0.017947058933401042,\n",
       " 'LH LN': 0.014702392911543228,\n",
       " 'LH SP': 0.013688434779712662,\n",
       " 'LH CS': 0.01181261223582611,\n",
       " 'LH CL': 0.01176191432923458,\n",
       " 'LH DR': 0.009632602252390389,\n",
       " 'LH PG': 0.007503290175546199,\n",
       " 'LH FA': 0.00588095716461729,\n",
       " 'LH EO': 0.00466420740642061,\n",
       " 'LH SV': 0.0035488534614069862,\n",
       " 'LH LS': 0.0026362911427594755,\n",
       " 'LH YT': 0.0018251246372950212,\n",
       " 'LH GR': 0.0016223330109289076,\n",
       " 'LH KR': 0.0007097706922813972,\n",
       " 'LH AG': 0.0006083748790983404,\n",
       " 'LH MS': 0.00010139581318305673,\n",
       " 'LH RK': 0.0,\n",
       " 'LH NM': 0.0,\n",
       " 'VB MV': 0.018366873177457207,\n",
       " 'VB LH': 0.017947058933401042,\n",
       " 'VB VB': 0.01238452019965686,\n",
       " 'VB LN': 0.010145510898023982,\n",
       " 'VB SP': 0.009445820491263707,\n",
       " 'VB CS': 0.0081513932387572,\n",
       " 'VB CL': 0.008116408718419186,\n",
       " 'VB DR': 0.006647058864222608,\n",
       " 'VB PG': 0.005177709010026033,\n",
       " 'VB FA': 0.004058204359209593,\n",
       " 'VB EO': 0.003218575871097263,\n",
       " 'VB SV': 0.0024489164236609615,\n",
       " 'VB LS': 0.001819195057576714,\n",
       " 'VB YT': 0.0012594427321684944,\n",
       " 'VB GR': 0.0011195046508164393,\n",
       " 'VB KR': 0.0004897832847321923,\n",
       " 'VB AG': 0.0004198142440561648,\n",
       " 'VB MS': 6.996904067602745e-05,\n",
       " 'VB RK': 0.0,\n",
       " 'VB NM': 0.0,\n",
       " 'LN MV': 0.015046308535205059,\n",
       " 'LN LH': 0.014702392911543228,\n",
       " 'LN VB': 0.010145510898023982,\n",
       " 'LN LN': 0.008311294238494221,\n",
       " 'LN SP': 0.007738101532391173,\n",
       " 'LN CS': 0.00667769502610053,\n",
       " 'LN CL': 0.006649035390795377,\n",
       " 'LN DR': 0.005445330707978973,\n",
       " 'LN PG': 0.004241626025162568,\n",
       " 'LN FA': 0.0033245176953976886,\n",
       " 'LN EO': 0.002636686448074029,\n",
       " 'LN SV': 0.0020061744713606743,\n",
       " 'LN LS': 0.0014903010358679294,\n",
       " 'LN YT': 0.0010317468709854895,\n",
       " 'LN GR': 0.0009171083297648796,\n",
       " 'LN KR': 0.00040123489427213485,\n",
       " 'LN AG': 0.0003439156236618299,\n",
       " 'LN MS': 5.7319270610304975e-05,\n",
       " 'LN RK': 0.0,\n",
       " 'LN NM': 0.0,\n",
       " 'SP MV': 0.014008632084501264,\n",
       " 'SP LH': 0.013688434779712662,\n",
       " 'SP VB': 0.009445820491263707,\n",
       " 'SP LN': 0.007738101532391173,\n",
       " 'SP SP': 0.007204439357743507,\n",
       " 'SP CS': 0.006217164334645322,\n",
       " 'SP CL': 0.006190481225912938,\n",
       " 'SP DR': 0.005069790659152838,\n",
       " 'SP PG': 0.003949100092392736,\n",
       " 'SP FA': 0.003095240612956469,\n",
       " 'SP EO': 0.0024548460033792688,\n",
       " 'SP SV': 0.001867817611266835,\n",
       " 'SP LS': 0.0013875216540839344,\n",
       " 'SP YT': 0.0009605919143658007,\n",
       " 'SP GR': 0.0008538594794362673,\n",
       " 'SP KR': 0.000373563522253367,\n",
       " 'SP AG': 0.0003201973047886003,\n",
       " 'SP MS': 5.3366217464766704e-05,\n",
       " 'SP RK': 0.0,\n",
       " 'SP NM': 0.0,\n",
       " 'CS MV': 0.012088930650699237,\n",
       " 'CS LH': 0.01181261223582611,\n",
       " 'CS VB': 0.0081513932387572,\n",
       " 'CS LN': 0.00667769502610053,\n",
       " 'CS SP': 0.006217164334645322,\n",
       " 'CS CS': 0.005365182555453186,\n",
       " 'CS CL': 0.005342156020880425,\n",
       " 'CS DR': 0.004375041568824485,\n",
       " 'CS PG': 0.0034079271167685465,\n",
       " 'CS FA': 0.0026710780104402124,\n",
       " 'CS EO': 0.0021184411806939615,\n",
       " 'CS SV': 0.0016118574200932316,\n",
       " 'CS LS': 0.0011973797977835434,\n",
       " 'CS YT': 0.0008289552446193761,\n",
       " 'CS GR': 0.0007368491063283344,\n",
       " 'CS KR': 0.00032237148401864635,\n",
       " 'CS AG': 0.0002763184148731254,\n",
       " 'CS MS': 4.60530691455209e-05,\n",
       " 'CS RK': 0.0,\n",
       " 'CS NM': 0.0,\n",
       " 'CL MV': 0.012037046828164047,\n",
       " 'CL LH': 0.01176191432923458,\n",
       " 'CL VB': 0.008116408718419186,\n",
       " 'CL LN': 0.006649035390795377,\n",
       " 'CL SP': 0.006190481225912938,\n",
       " 'CL CS': 0.005342156020880425,\n",
       " 'CL CL': 0.005319228312636302,\n",
       " 'CL DR': 0.0043562645663831785,\n",
       " 'CL PG': 0.0033933008201300547,\n",
       " 'CL FA': 0.002659614156318151,\n",
       " 'CL EO': 0.002109349158459223,\n",
       " 'CL SV': 0.0016049395770885394,\n",
       " 'CL LS': 0.0011922408286943434,\n",
       " 'CL YT': 0.0008253974967883916,\n",
       " 'CL GR': 0.0007336866638119037,\n",
       " 'CL KR': 0.00032098791541770795,\n",
       " 'CL AG': 0.0002751324989294639,\n",
       " 'CL MS': 4.585541648824398e-05,\n",
       " 'CL RK': 0.0,\n",
       " 'CL NM': 0.0,\n",
       " 'DR MV': 0.009857926281686073,\n",
       " 'DR LH': 0.009632602252390389,\n",
       " 'DR VB': 0.006647058864222608,\n",
       " 'DR LN': 0.005445330707978973,\n",
       " 'DR SP': 0.005069790659152838,\n",
       " 'DR CS': 0.004375041568824485,\n",
       " 'DR CL': 0.0043562645663831785,\n",
       " 'DR DR': 0.0035676304638482927,\n",
       " 'DR PG': 0.0027789963613134073,\n",
       " 'DR FA': 0.0021781322831915893,\n",
       " 'DR EO': 0.001727484224600226,\n",
       " 'DR SV': 0.0013143901708914764,\n",
       " 'DR LS': 0.0009764041269479537,\n",
       " 'DR YT': 0.0006759720878870449,\n",
       " 'DR GR': 0.0006008640781218176,\n",
       " 'DR KR': 0.00026287803417829526,\n",
       " 'DR AG': 0.00022532402929568166,\n",
       " 'DR MS': 3.75540048826136e-05,\n",
       " 'DR RK': 0.0,\n",
       " 'DR NM': 0.0,\n",
       " 'PG MV': 0.007678805735208099,\n",
       " 'PG LH': 0.007503290175546199,\n",
       " 'PG VB': 0.005177709010026033,\n",
       " 'PG LN': 0.004241626025162568,\n",
       " 'PG SP': 0.003949100092392736,\n",
       " 'PG CS': 0.0034079271167685465,\n",
       " 'PG CL': 0.0033933008201300547,\n",
       " 'PG DR': 0.0027789963613134073,\n",
       " 'PG PG': 0.002164691902496759,\n",
       " 'PG FA': 0.0016966504100650274,\n",
       " 'PG EO': 0.0013456192907412288,\n",
       " 'PG SV': 0.0010238407646944133,\n",
       " 'PG LS': 0.000760567425201564,\n",
       " 'PG YT': 0.0005265466789856982,\n",
       " 'PG GR': 0.0004680414924317317,\n",
       " 'PG KR': 0.00020476815293888264,\n",
       " 'PG AG': 0.0001755155596618994,\n",
       " 'PG MS': 2.9252593276983232e-05,\n",
       " 'PG RK': 0.0,\n",
       " 'PG NM': 0.0,\n",
       " 'FA MV': 0.0060185234140820235,\n",
       " 'FA LH': 0.00588095716461729,\n",
       " 'FA VB': 0.004058204359209593,\n",
       " 'FA LN': 0.0033245176953976886,\n",
       " 'FA SP': 0.003095240612956469,\n",
       " 'FA CS': 0.0026710780104402124,\n",
       " 'FA CL': 0.002659614156318151,\n",
       " 'FA DR': 0.0021781322831915893,\n",
       " 'FA PG': 0.0016966504100650274,\n",
       " 'FA FA': 0.0013298070781590755,\n",
       " 'FA EO': 0.0010546745792296116,\n",
       " 'FA SV': 0.0008024697885442697,\n",
       " 'FA LS': 0.0005961204143471717,\n",
       " 'FA YT': 0.0004126987483941958,\n",
       " 'FA GR': 0.00036684333190595183,\n",
       " 'FA KR': 0.00016049395770885398,\n",
       " 'FA AG': 0.00013756624946473196,\n",
       " 'FA MS': 2.292770824412199e-05,\n",
       " 'FA RK': 0.0,\n",
       " 'FA NM': 0.0,\n",
       " 'EO MV': 0.004773311673237466,\n",
       " 'EO LH': 0.00466420740642061,\n",
       " 'EO VB': 0.003218575871097263,\n",
       " 'EO LN': 0.002636686448074029,\n",
       " 'EO SP': 0.0024548460033792688,\n",
       " 'EO CS': 0.0021184411806939615,\n",
       " 'EO CL': 0.002109349158459223,\n",
       " 'EO DR': 0.001727484224600226,\n",
       " 'EO PG': 0.0013456192907412288,\n",
       " 'EO FA': 0.0010546745792296116,\n",
       " 'EO EO': 0.0008364660455958988,\n",
       " 'EO SV': 0.0006364415564316623,\n",
       " 'EO LS': 0.0004727851562063776,\n",
       " 'EO YT': 0.0003273128004505691,\n",
       " 'EO GR': 0.00029094471151161694,\n",
       " 'EO KR': 0.00012728831128633244,\n",
       " 'EO AG': 0.00010910426681685639,\n",
       " 'EO MS': 1.818404446947606e-05,\n",
       " 'EO RK': 0.0,\n",
       " 'EO NM': 0.0,\n",
       " 'SV MV': 0.0036318675774632903,\n",
       " 'SV LH': 0.0035488534614069862,\n",
       " 'SV VB': 0.0024489164236609615,\n",
       " 'SV LN': 0.0020061744713606743,\n",
       " 'SV SP': 0.001867817611266835,\n",
       " 'SV CS': 0.0016118574200932316,\n",
       " 'SV CL': 0.0016049395770885394,\n",
       " 'SV DR': 0.0013143901708914764,\n",
       " 'SV PG': 0.0010238407646944133,\n",
       " 'SV FA': 0.0008024697885442697,\n",
       " 'SV EO': 0.0006364415564316623,\n",
       " 'SV SV': 0.0004842490103284387,\n",
       " 'SV LS': 0.00035972783624398303,\n",
       " 'SV YT': 0.00024904234816891134,\n",
       " 'SV GR': 0.00022137097615014339,\n",
       " 'SV KR': 9.684980206568774e-05,\n",
       " 'SV AG': 8.301411605630378e-05,\n",
       " 'SV MS': 1.3835686009383962e-05,\n",
       " 'SV RK': 0.0,\n",
       " 'SV NM': 0.0,\n",
       " 'LS MV': 0.0026979587718298725,\n",
       " 'LS LH': 0.0026362911427594755,\n",
       " 'LS VB': 0.001819195057576714,\n",
       " 'LS LN': 0.0014903010358679294,\n",
       " 'LS SP': 0.0013875216540839344,\n",
       " 'LS CS': 0.0011973797977835434,\n",
       " 'LS CL': 0.0011922408286943434,\n",
       " 'LS DR': 0.0009764041269479537,\n",
       " 'LS PG': 0.000760567425201564,\n",
       " 'LS FA': 0.0005961204143471717,\n",
       " 'LS EO': 0.0004727851562063776,\n",
       " 'LS SV': 0.00035972783624398303,\n",
       " 'LS LS': 0.0002672263926383873,\n",
       " 'LS YT': 0.00018500288721119123,\n",
       " 'LS GR': 0.00016444701085439222,\n",
       " 'LS KR': 7.19455672487966e-05,\n",
       " 'LS AG': 6.166762907039708e-05,\n",
       " 'LS MS': 1.0277938178399514e-05,\n",
       " 'LS RK': 0.0,\n",
       " 'LS NM': 0.0,\n",
       " 'YT MV': 0.0018678176112668348,\n",
       " 'YT LH': 0.0018251246372950212,\n",
       " 'YT VB': 0.0012594427321684944,\n",
       " 'YT LN': 0.0010317468709854895,\n",
       " 'YT SP': 0.0009605919143658007,\n",
       " 'YT CS': 0.0008289552446193761,\n",
       " 'YT CL': 0.0008253974967883916,\n",
       " 'YT DR': 0.0006759720878870449,\n",
       " 'YT PG': 0.0005265466789856982,\n",
       " 'YT FA': 0.0004126987483941958,\n",
       " 'YT EO': 0.0003273128004505691,\n",
       " 'YT SV': 0.00024904234816891134,\n",
       " 'YT LS': 0.00018500288721119123,\n",
       " 'YT YT': 0.0001280789219154401,\n",
       " 'YT GR': 0.0001138479305915023,\n",
       " 'YT KR': 4.980846963378226e-05,\n",
       " 'YT AG': 4.269297397181337e-05,\n",
       " 'YT MS': 7.115495661968894e-06,\n",
       " 'YT RK': 0.0,\n",
       " 'YT NM': 0.0,\n",
       " 'GR MV': 0.0016602823211260753,\n",
       " 'GR LH': 0.0016223330109289076,\n",
       " 'GR VB': 0.0011195046508164393,\n",
       " 'GR LN': 0.0009171083297648796,\n",
       " 'GR SP': 0.0008538594794362673,\n",
       " 'GR CS': 0.0007368491063283344,\n",
       " 'GR CL': 0.0007336866638119037,\n",
       " 'GR DR': 0.0006008640781218176,\n",
       " 'GR PG': 0.0004680414924317317,\n",
       " 'GR FA': 0.00036684333190595183,\n",
       " 'GR EO': 0.00029094471151161694,\n",
       " 'GR SV': 0.00022137097615014339,\n",
       " 'GR LS': 0.00016444701085439222,\n",
       " 'GR YT': 0.0001138479305915023,\n",
       " 'GR GR': 0.00010119816052577982,\n",
       " 'GR KR': 4.427419523002868e-05,\n",
       " 'GR AG': 3.794931019716743e-05,\n",
       " 'GR MS': 6.324885032861239e-06,\n",
       " 'GR RK': 0.0,\n",
       " 'GR NM': 0.0,\n",
       " 'KR MV': 0.0007263735154926581,\n",
       " 'KR LH': 0.0007097706922813972,\n",
       " 'KR VB': 0.0004897832847321923,\n",
       " 'KR LN': 0.00040123489427213485,\n",
       " 'KR SP': 0.000373563522253367,\n",
       " 'KR CS': 0.00032237148401864635,\n",
       " 'KR CL': 0.00032098791541770795,\n",
       " 'KR DR': 0.00026287803417829526,\n",
       " 'KR PG': 0.00020476815293888264,\n",
       " 'KR FA': 0.00016049395770885398,\n",
       " 'KR EO': 0.00012728831128633244,\n",
       " 'KR SV': 9.684980206568774e-05,\n",
       " 'KR LS': 7.19455672487966e-05,\n",
       " 'KR YT': 4.980846963378226e-05,\n",
       " 'KR GR': 4.427419523002868e-05,\n",
       " 'KR KR': 1.9369960413137552e-05,\n",
       " 'KR AG': 1.6602823211260757e-05,\n",
       " 'KR MS': 2.7671372018767925e-06,\n",
       " 'KR RK': 0.0,\n",
       " 'KR NM': 0.0,\n",
       " 'AG MV': 0.0006226058704222783,\n",
       " 'AG LH': 0.0006083748790983404,\n",
       " 'AG VB': 0.0004198142440561648,\n",
       " 'AG LN': 0.0003439156236618299,\n",
       " 'AG SP': 0.0003201973047886003,\n",
       " 'AG CS': 0.0002763184148731254,\n",
       " 'AG CL': 0.0002751324989294639,\n",
       " 'AG DR': 0.00022532402929568166,\n",
       " 'AG PG': 0.0001755155596618994,\n",
       " 'AG FA': 0.00013756624946473196,\n",
       " 'AG EO': 0.00010910426681685639,\n",
       " 'AG SV': 8.301411605630378e-05,\n",
       " 'AG LS': 6.166762907039708e-05,\n",
       " 'AG YT': 4.269297397181337e-05,\n",
       " 'AG GR': 3.794931019716743e-05,\n",
       " 'AG KR': 1.6602823211260757e-05,\n",
       " 'AG AG': 1.423099132393779e-05,\n",
       " 'AG MS': 2.3718318873229644e-06,\n",
       " 'AG RK': 0.0,\n",
       " 'AG NM': 0.0,\n",
       " 'MS MV': 0.0001037676450703797,\n",
       " 'MS LH': 0.00010139581318305673,\n",
       " 'MS VB': 6.996904067602745e-05,\n",
       " 'MS LN': 5.7319270610304975e-05,\n",
       " 'MS SP': 5.3366217464766704e-05,\n",
       " 'MS CS': 4.60530691455209e-05,\n",
       " 'MS CL': 4.585541648824398e-05,\n",
       " 'MS DR': 3.75540048826136e-05,\n",
       " 'MS PG': 2.9252593276983232e-05,\n",
       " 'MS FA': 2.292770824412199e-05,\n",
       " 'MS EO': 1.818404446947606e-05,\n",
       " 'MS SV': 1.3835686009383962e-05,\n",
       " 'MS LS': 1.0277938178399514e-05,\n",
       " 'MS YT': 7.115495661968894e-06,\n",
       " 'MS GR': 6.324885032861239e-06,\n",
       " 'MS KR': 2.7671372018767925e-06,\n",
       " 'MS AG': 2.3718318873229644e-06,\n",
       " 'MS MS': 3.953053145538274e-07,\n",
       " 'MS RK': 0.0,\n",
       " 'MS NM': 0.0,\n",
       " 'RK MV': 0.0,\n",
       " 'RK LH': 0.0,\n",
       " 'RK VB': 0.0,\n",
       " 'RK LN': 0.0,\n",
       " 'RK SP': 0.0,\n",
       " 'RK CS': 0.0,\n",
       " 'RK CL': 0.0,\n",
       " 'RK DR': 0.0,\n",
       " 'RK PG': 0.0,\n",
       " 'RK FA': 0.0,\n",
       " 'RK EO': 0.0,\n",
       " 'RK SV': 0.0,\n",
       " 'RK LS': 0.0,\n",
       " 'RK YT': 0.0,\n",
       " 'RK GR': 0.0,\n",
       " 'RK KR': 0.0,\n",
       " 'RK AG': 0.0,\n",
       " 'RK MS': 0.0,\n",
       " 'RK RK': 0.0,\n",
       " 'RK NM': 0.0,\n",
       " 'NM MV': 0.0,\n",
       " 'NM LH': 0.0,\n",
       " 'NM VB': 0.0,\n",
       " 'NM LN': 0.0,\n",
       " 'NM SP': 0.0,\n",
       " 'NM CS': 0.0,\n",
       " 'NM CL': 0.0,\n",
       " 'NM DR': 0.0,\n",
       " 'NM PG': 0.0,\n",
       " 'NM FA': 0.0,\n",
       " 'NM EO': 0.0,\n",
       " 'NM SV': 0.0,\n",
       " 'NM LS': 0.0,\n",
       " 'NM YT': 0.0,\n",
       " 'NM GR': 0.0,\n",
       " 'NM KR': 0.0,\n",
       " 'NM AG': 0.0,\n",
       " 'NM MS': 0.0,\n",
       " 'NM RK': 0.0,\n",
       " 'NM NM': 0.0}"
      ]
     },
     "execution_count": 49,
     "metadata": {},
     "output_type": "execute_result"
    }
   ],
   "source": [
    "def joint(A, B, sep=''):\n",
    "    \"\"\"The joint distribution of two independent probability distributions. \n",
    "    Result is all entries of the form {a+sep+b: P(a)*P(b)}\"\"\"\n",
    "    return ProbDist({a + sep + b: A[a] * B[b]\n",
    "                    for a in A\n",
    "                    for b in B})\n",
    "\n",
    "MM = joint(IGP, RGP, ' ')\n",
    "MM"
   ]
  },
  {
   "cell_type": "markdown",
   "metadata": {},
   "source": [
    "> ##### What is the probability for Red Bull Racing to win ***both*** races? "
   ]
  },
  {
   "cell_type": "code",
   "execution_count": 50,
   "metadata": {},
   "outputs": [],
   "source": [
    "def redBull_IRGP(outcome):\n",
    "    return 'MV SP' in outcome or 'SP MV' in outcome or 'MV MV' in outcome or 'SP SP' in outcome"
   ]
  },
  {
   "cell_type": "code",
   "execution_count": 51,
   "metadata": {},
   "outputs": [
    {
     "data": {
      "text/plain": [
       "0.0624607103577207"
      ]
     },
     "execution_count": 51,
     "metadata": {},
     "output_type": "execute_result"
    }
   ],
   "source": [
    "p(redBull_IRGP,MM)"
   ]
  },
  {
   "cell_type": "markdown",
   "metadata": {},
   "source": [
    "> ##### What is the probability for Red Bull Racing to win ***at least*** one race? "
   ]
  },
  {
   "cell_type": "code",
   "execution_count": 54,
   "metadata": {},
   "outputs": [],
   "source": [
    "def redBull_IorRGP(outcome):\n",
    "    return 'MV' in outcome or 'SP' in outcome"
   ]
  },
  {
   "cell_type": "code",
   "execution_count": 56,
   "metadata": {},
   "outputs": [
    {
     "data": {
      "text/plain": [
       "0.43738210636658004"
      ]
     },
     "execution_count": 56,
     "metadata": {},
     "output_type": "execute_result"
    }
   ],
   "source": [
    "p(redBull_IorRGP,MM)"
   ]
  },
  {
   "cell_type": "markdown",
   "metadata": {},
   "source": [
    "> ##### What is the probability for Red Bull Racing to win ***all three*** races? "
   ]
  },
  {
   "cell_type": "code",
   "execution_count": null,
   "metadata": {},
   "outputs": [],
   "source": [
    "def redBull_IRTGP(outcome):\n",
    "    return 'MV' in outcome or 'SP' in outcome"
   ]
  },
  {
   "cell_type": "markdown",
   "metadata": {},
   "source": [
    "**Question 2** (30 points) If Red Bull Racing wins the first race, what is the probability that Red Bull Racing wins the next one? If Red Bull Racing wins at least one of these two races, what is the probability Red Bull Racing wins both races? How about Mercedes, McLaren, and Ferrari?\n",
    "\n"
   ]
  },
  {
   "cell_type": "markdown",
   "metadata": {},
   "source": [
    "> ##### If Red Bull Racing wins the first race, what is the probability that Red Bull Racing wins the next one"
   ]
  },
  {
   "cell_type": "code",
   "execution_count": 78,
   "metadata": {},
   "outputs": [],
   "source": [
    "def redBull_First(outcome):\n",
    "    return outcome.startswith('MV') or outcome.startswith('SP')\n",
    "\n",
    "\n",
    "def redBull_Second(outcome):\n",
    "    return outcome.endswith('MV') or outcome.endswith('SP')\n"
   ]
  },
  {
   "cell_type": "code",
   "execution_count": 79,
   "metadata": {},
   "outputs": [
    {
     "data": {
      "text/plain": [
       "0.24992140836215027"
      ]
     },
     "execution_count": 79,
     "metadata": {},
     "output_type": "execute_result"
    }
   ],
   "source": [
    "p(redBull_Second,such_that(redBull_First,MM))"
   ]
  },
  {
   "cell_type": "markdown",
   "metadata": {},
   "source": [
    "> ##### Red Bull Racing wins at least one of these two races, what is the probability Red Bull Racing wins both races"
   ]
  },
  {
   "cell_type": "code",
   "execution_count": 82,
   "metadata": {},
   "outputs": [],
   "source": [
    "def redBullAtleastOne(outcome): return 'MV' in outcome or 'SP' in outcome\n",
    "def redBullBoth(outcome): return 'MV SP' in outcome or 'SP MV' in outcome or 'MV MV' in outcome or 'SP SP' in outcome"
   ]
  },
  {
   "cell_type": "code",
   "execution_count": 83,
   "metadata": {},
   "outputs": [
    {
     "data": {
      "text/plain": [
       "0.14280582001077782"
      ]
     },
     "execution_count": 83,
     "metadata": {},
     "output_type": "execute_result"
    }
   ],
   "source": [
    "p(redBullBoth,such_that(redBullAtleastOne,MM))"
   ]
  },
  {
   "cell_type": "markdown",
   "metadata": {},
   "source": [
    "> ##### If Mercedes Racing wins the first race, what is the probability that Mercedes Racing wins the next one"
   ]
  },
  {
   "cell_type": "code",
   "execution_count": 71,
   "metadata": {},
   "outputs": [],
   "source": [
    "def Mercedes_First(outcome):\n",
    "    return outcome.startswith('LH') or outcome.startswith('VB')\n",
    "\n",
    "\n",
    "def Mercedes_Second(outcome):\n",
    "    return outcome.endswith('LH') or outcome.endswith('VB')\n"
   ]
  },
  {
   "cell_type": "code",
   "execution_count": 72,
   "metadata": {},
   "outputs": [
    {
     "data": {
      "text/plain": [
       "0.2725558000628733"
      ]
     },
     "execution_count": 72,
     "metadata": {},
     "output_type": "execute_result"
    }
   ],
   "source": [
    "p(Mercedes_Second,such_that(Mercedes_First,MM))"
   ]
  },
  {
   "cell_type": "markdown",
   "metadata": {},
   "source": [
    "> ##### Mercedes Racing wins at least one of these two races, what is the probability Red Bull Racing wins both races"
   ]
  },
  {
   "cell_type": "code",
   "execution_count": 80,
   "metadata": {},
   "outputs": [],
   "source": [
    "def mercedesAtleastOne(outcome): return 'LH' in outcome or 'VB' in outcome\n",
    "def mercedesBoth(outcome): return 'LH VB' in outcome or 'VB LH' in outcome or 'LH LH' in outcome or 'VB VB' in outcome"
   ]
  },
  {
   "cell_type": "code",
   "execution_count": 81,
   "metadata": {},
   "outputs": [
    {
     "data": {
      "text/plain": [
       "0.15777979981801638"
      ]
     },
     "execution_count": 81,
     "metadata": {},
     "output_type": "execute_result"
    }
   ],
   "source": [
    "p(mercedesBoth,such_that(mercedesAtleastOne,MM))"
   ]
  },
  {
   "cell_type": "markdown",
   "metadata": {},
   "source": [
    "> ##### If McLaren Racing wins the first race, what is the probability that McLaren Racing wins the next one"
   ]
  },
  {
   "cell_type": "code",
   "execution_count": 92,
   "metadata": {},
   "outputs": [],
   "source": [
    "def mcLaren_First(outcome):\n",
    "    return outcome.startswith('LN') or outcome.startswith('DR')\n",
    "\n",
    "\n",
    "def mcLaren_Second(outcome):\n",
    "    return outcome.endswith('LN') or outcome.endswith('DR')\n"
   ]
  },
  {
   "cell_type": "code",
   "execution_count": 93,
   "metadata": {},
   "outputs": [
    {
     "data": {
      "text/plain": [
       "0.15089594467148695"
      ]
     },
     "execution_count": 93,
     "metadata": {},
     "output_type": "execute_result"
    }
   ],
   "source": [
    "p(mcLaren_Second,such_that(mcLaren_First,MM))"
   ]
  },
  {
   "cell_type": "markdown",
   "metadata": {},
   "source": [
    "> ##### McLaren Racing wins at least one of these two races, what is the probability Red Bull Racing wins both races"
   ]
  },
  {
   "cell_type": "code",
   "execution_count": 94,
   "metadata": {},
   "outputs": [],
   "source": [
    "def mcLarenAtleastOne(outcome): return 'LN' in outcome or 'DR' in outcome\n",
    "def mcLarenBoth(outcome): return 'LN DR' in outcome or 'DR LN' in outcome or 'LN LN' in outcome or 'DR DR' in outcome"
   ]
  },
  {
   "cell_type": "code",
   "execution_count": 95,
   "metadata": {},
   "outputs": [
    {
     "data": {
      "text/plain": [
       "0.08160489629377762"
      ]
     },
     "execution_count": 95,
     "metadata": {},
     "output_type": "execute_result"
    }
   ],
   "source": [
    "p(mcLarenBoth,such_that(mcLarenAtleastOne,MM))"
   ]
  },
  {
   "cell_type": "markdown",
   "metadata": {},
   "source": [
    "> ##### If Ferrari Racing wins the first race, what is the probability that Ferrari Racing wins the next one"
   ]
  },
  {
   "cell_type": "code",
   "execution_count": 96,
   "metadata": {},
   "outputs": [],
   "source": [
    "def ferrari_First(outcome):\n",
    "    return outcome.startswith('CL') or outcome.startswith('CS')\n",
    "\n",
    "\n",
    "def ferrari_Second(outcome):\n",
    "    return outcome.endswith('CL') or outcome.endswith('CS')\n"
   ]
  },
  {
   "cell_type": "code",
   "execution_count": 97,
   "metadata": {},
   "outputs": [
    {
     "data": {
      "text/plain": [
       "0.14618044640050296"
      ]
     },
     "execution_count": 97,
     "metadata": {},
     "output_type": "execute_result"
    }
   ],
   "source": [
    "p(ferrari_Second,such_that(ferrari_First,MM))"
   ]
  },
  {
   "cell_type": "markdown",
   "metadata": {},
   "source": [
    "> ##### Ferrari Racing wins at least one of these two races, what is the probability Red Bull Racing wins both races"
   ]
  },
  {
   "cell_type": "code",
   "execution_count": 98,
   "metadata": {},
   "outputs": [],
   "source": [
    "def ferrariAtleastOne(outcome): return 'CL' in outcome or 'CS' in outcome\n",
    "def ferrariBoth(outcome): return 'CL CS' in outcome or 'CS CL' in outcome or 'CL CL' in outcome or 'CS CS' in outcome"
   ]
  },
  {
   "cell_type": "code",
   "execution_count": 99,
   "metadata": {},
   "outputs": [
    {
     "data": {
      "text/plain": [
       "0.07885365440054265"
      ]
     },
     "execution_count": 99,
     "metadata": {},
     "output_type": "execute_result"
    }
   ],
   "source": [
    "p(ferrariBoth,such_that(ferrariAtleastOne,MM))"
   ]
  },
  {
   "cell_type": "markdown",
   "metadata": {},
   "source": [
    "**Question 3** (50 points) Red Bull Racing wins at least one of these two races on a ***rainy day***. What is the probability Red Bull Racing wins ***both*** races, assuming races can be held on either rainy, sunny, cloudy, snowy or foggy days? Also assume that rain, sun, clouds, snow, and fog are the *only possible weather conditions* on race tracks, and that they're *equiprobable*."
   ]
  },
  {
   "cell_type": "code",
   "execution_count": 108,
   "metadata": {},
   "outputs": [],
   "source": [
    "weatherCondition=ProbDist(rain=0.2,sun=0.2,clouds=0.2,snow=0.2,fog=0.2)\n",
    "def joint(A, B,C,D,sep=' '):\n",
    "    \"\"\"The joint distribution of two independent probability distributions. \n",
    "    Result is all entries of the form {a+sep+b: P(a)*P(b)}\"\"\"\n",
    "    return ProbDist({a + sep + b + sep + c + sep + d  : A[a] * B[b] * C[c] * D[d]\n",
    "                    for a in A\n",
    "                    for b in B\n",
    "                    for c in C\n",
    "                    for d in D})"
   ]
  },
  {
   "cell_type": "code",
   "execution_count": 110,
   "metadata": {},
   "outputs": [
    {
     "data": {
      "text/plain": [
       "{'MV-rain-MV-rain': 0.0010895602732389931,\n",
       " 'MV-rain-MV-sun': 0.0010895602732389931,\n",
       " 'MV-rain-MV-clouds': 0.0010895602732389931,\n",
       " 'MV-rain-MV-snow': 0.0010895602732389931,\n",
       " 'MV-rain-MV-fog': 0.0010895602732389931,\n",
       " 'MV-rain-LH-rain': 0.0010646560384221019,\n",
       " 'MV-rain-LH-sun': 0.0010646560384221019,\n",
       " 'MV-rain-LH-clouds': 0.0010646560384221019,\n",
       " 'MV-rain-LH-snow': 0.0010646560384221019,\n",
       " 'MV-rain-LH-fog': 0.0010646560384221019,\n",
       " 'MV-rain-VB-rain': 0.0007346749270982925,\n",
       " 'MV-rain-VB-sun': 0.0007346749270982925,\n",
       " 'MV-rain-VB-clouds': 0.0007346749270982925,\n",
       " 'MV-rain-VB-snow': 0.0007346749270982925,\n",
       " 'MV-rain-VB-fog': 0.0007346749270982925,\n",
       " 'MV-rain-LN-rain': 0.0006018523414082057,\n",
       " 'MV-rain-LN-sun': 0.0006018523414082057,\n",
       " 'MV-rain-LN-clouds': 0.0006018523414082057,\n",
       " 'MV-rain-LN-snow': 0.0006018523414082057,\n",
       " 'MV-rain-LN-fog': 0.0006018523414082057,\n",
       " 'MV-rain-SP-rain': 0.0005603452833800535,\n",
       " 'MV-rain-SP-sun': 0.0005603452833800535,\n",
       " 'MV-rain-SP-clouds': 0.0005603452833800535,\n",
       " 'MV-rain-SP-snow': 0.0005603452833800535,\n",
       " 'MV-rain-SP-fog': 0.0005603452833800535,\n",
       " 'MV-rain-CS-rain': 0.0004835572260279722,\n",
       " 'MV-rain-CS-sun': 0.0004835572260279722,\n",
       " 'MV-rain-CS-clouds': 0.0004835572260279722,\n",
       " 'MV-rain-CS-snow': 0.0004835572260279722,\n",
       " 'MV-rain-CS-fog': 0.0004835572260279722,\n",
       " 'MV-rain-CL-rain': 0.0004814818731265645,\n",
       " 'MV-rain-CL-sun': 0.0004814818731265645,\n",
       " 'MV-rain-CL-clouds': 0.0004814818731265645,\n",
       " 'MV-rain-CL-snow': 0.0004814818731265645,\n",
       " 'MV-rain-CL-fog': 0.0004814818731265645,\n",
       " 'MV-rain-DR-rain': 0.0003943170512674451,\n",
       " 'MV-rain-DR-sun': 0.0003943170512674451,\n",
       " 'MV-rain-DR-clouds': 0.0003943170512674451,\n",
       " 'MV-rain-DR-snow': 0.0003943170512674451,\n",
       " 'MV-rain-DR-fog': 0.0003943170512674451,\n",
       " 'MV-rain-PG-rain': 0.00030715222940832566,\n",
       " 'MV-rain-PG-sun': 0.00030715222940832566,\n",
       " 'MV-rain-PG-clouds': 0.00030715222940832566,\n",
       " 'MV-rain-PG-snow': 0.00030715222940832566,\n",
       " 'MV-rain-PG-fog': 0.00030715222940832566,\n",
       " 'MV-rain-FA-rain': 0.00024074093656328225,\n",
       " 'MV-rain-FA-sun': 0.00024074093656328225,\n",
       " 'MV-rain-FA-clouds': 0.00024074093656328225,\n",
       " 'MV-rain-FA-snow': 0.00024074093656328225,\n",
       " 'MV-rain-FA-fog': 0.00024074093656328225,\n",
       " 'MV-rain-EO-rain': 0.00019093246692949972,\n",
       " 'MV-rain-EO-sun': 0.00019093246692949972,\n",
       " 'MV-rain-EO-clouds': 0.00019093246692949972,\n",
       " 'MV-rain-EO-snow': 0.00019093246692949972,\n",
       " 'MV-rain-EO-fog': 0.00019093246692949972,\n",
       " 'MV-rain-SV-rain': 0.00014527470309853242,\n",
       " 'MV-rain-SV-sun': 0.00014527470309853242,\n",
       " 'MV-rain-SV-clouds': 0.00014527470309853242,\n",
       " 'MV-rain-SV-snow': 0.00014527470309853242,\n",
       " 'MV-rain-SV-fog': 0.00014527470309853242,\n",
       " 'MV-rain-LS-rain': 0.0001079183508731955,\n",
       " 'MV-rain-LS-sun': 0.0001079183508731955,\n",
       " 'MV-rain-LS-clouds': 0.0001079183508731955,\n",
       " 'MV-rain-LS-snow': 0.0001079183508731955,\n",
       " 'MV-rain-LS-fog': 0.0001079183508731955,\n",
       " 'MV-rain-YT-rain': 7.47127044506738e-05,\n",
       " 'MV-rain-YT-sun': 7.47127044506738e-05,\n",
       " 'MV-rain-YT-clouds': 7.47127044506738e-05,\n",
       " 'MV-rain-YT-snow': 7.47127044506738e-05,\n",
       " 'MV-rain-YT-fog': 7.47127044506738e-05,\n",
       " 'MV-rain-GR-rain': 6.641129284504339e-05,\n",
       " 'MV-rain-GR-sun': 6.641129284504339e-05,\n",
       " 'MV-rain-GR-clouds': 6.641129284504339e-05,\n",
       " 'MV-rain-GR-snow': 6.641129284504339e-05,\n",
       " 'MV-rain-GR-fog': 6.641129284504339e-05,\n",
       " 'MV-rain-KR-rain': 2.905494061970648e-05,\n",
       " 'MV-rain-KR-sun': 2.905494061970648e-05,\n",
       " 'MV-rain-KR-clouds': 2.905494061970648e-05,\n",
       " 'MV-rain-KR-snow': 2.905494061970648e-05,\n",
       " 'MV-rain-KR-fog': 2.905494061970648e-05,\n",
       " 'MV-rain-AG-rain': 2.490423481689127e-05,\n",
       " 'MV-rain-AG-sun': 2.490423481689127e-05,\n",
       " 'MV-rain-AG-clouds': 2.490423481689127e-05,\n",
       " 'MV-rain-AG-snow': 2.490423481689127e-05,\n",
       " 'MV-rain-AG-fog': 2.490423481689127e-05,\n",
       " 'MV-rain-MS-rain': 4.150705802815212e-06,\n",
       " 'MV-rain-MS-sun': 4.150705802815212e-06,\n",
       " 'MV-rain-MS-clouds': 4.150705802815212e-06,\n",
       " 'MV-rain-MS-snow': 4.150705802815212e-06,\n",
       " 'MV-rain-MS-fog': 4.150705802815212e-06,\n",
       " 'MV-rain-RK-rain': 0.0,\n",
       " 'MV-rain-RK-sun': 0.0,\n",
       " 'MV-rain-RK-clouds': 0.0,\n",
       " 'MV-rain-RK-snow': 0.0,\n",
       " 'MV-rain-RK-fog': 0.0,\n",
       " 'MV-rain-NM-rain': 0.0,\n",
       " 'MV-rain-NM-sun': 0.0,\n",
       " 'MV-rain-NM-clouds': 0.0,\n",
       " 'MV-rain-NM-snow': 0.0,\n",
       " 'MV-rain-NM-fog': 0.0,\n",
       " 'MV-sun-MV-rain': 0.0010895602732389931,\n",
       " 'MV-sun-MV-sun': 0.0010895602732389931,\n",
       " 'MV-sun-MV-clouds': 0.0010895602732389931,\n",
       " 'MV-sun-MV-snow': 0.0010895602732389931,\n",
       " 'MV-sun-MV-fog': 0.0010895602732389931,\n",
       " 'MV-sun-LH-rain': 0.0010646560384221019,\n",
       " 'MV-sun-LH-sun': 0.0010646560384221019,\n",
       " 'MV-sun-LH-clouds': 0.0010646560384221019,\n",
       " 'MV-sun-LH-snow': 0.0010646560384221019,\n",
       " 'MV-sun-LH-fog': 0.0010646560384221019,\n",
       " 'MV-sun-VB-rain': 0.0007346749270982925,\n",
       " 'MV-sun-VB-sun': 0.0007346749270982925,\n",
       " 'MV-sun-VB-clouds': 0.0007346749270982925,\n",
       " 'MV-sun-VB-snow': 0.0007346749270982925,\n",
       " 'MV-sun-VB-fog': 0.0007346749270982925,\n",
       " 'MV-sun-LN-rain': 0.0006018523414082057,\n",
       " 'MV-sun-LN-sun': 0.0006018523414082057,\n",
       " 'MV-sun-LN-clouds': 0.0006018523414082057,\n",
       " 'MV-sun-LN-snow': 0.0006018523414082057,\n",
       " 'MV-sun-LN-fog': 0.0006018523414082057,\n",
       " 'MV-sun-SP-rain': 0.0005603452833800535,\n",
       " 'MV-sun-SP-sun': 0.0005603452833800535,\n",
       " 'MV-sun-SP-clouds': 0.0005603452833800535,\n",
       " 'MV-sun-SP-snow': 0.0005603452833800535,\n",
       " 'MV-sun-SP-fog': 0.0005603452833800535,\n",
       " 'MV-sun-CS-rain': 0.0004835572260279722,\n",
       " 'MV-sun-CS-sun': 0.0004835572260279722,\n",
       " 'MV-sun-CS-clouds': 0.0004835572260279722,\n",
       " 'MV-sun-CS-snow': 0.0004835572260279722,\n",
       " 'MV-sun-CS-fog': 0.0004835572260279722,\n",
       " 'MV-sun-CL-rain': 0.0004814818731265645,\n",
       " 'MV-sun-CL-sun': 0.0004814818731265645,\n",
       " 'MV-sun-CL-clouds': 0.0004814818731265645,\n",
       " 'MV-sun-CL-snow': 0.0004814818731265645,\n",
       " 'MV-sun-CL-fog': 0.0004814818731265645,\n",
       " 'MV-sun-DR-rain': 0.0003943170512674451,\n",
       " 'MV-sun-DR-sun': 0.0003943170512674451,\n",
       " 'MV-sun-DR-clouds': 0.0003943170512674451,\n",
       " 'MV-sun-DR-snow': 0.0003943170512674451,\n",
       " 'MV-sun-DR-fog': 0.0003943170512674451,\n",
       " 'MV-sun-PG-rain': 0.00030715222940832566,\n",
       " 'MV-sun-PG-sun': 0.00030715222940832566,\n",
       " 'MV-sun-PG-clouds': 0.00030715222940832566,\n",
       " 'MV-sun-PG-snow': 0.00030715222940832566,\n",
       " 'MV-sun-PG-fog': 0.00030715222940832566,\n",
       " 'MV-sun-FA-rain': 0.00024074093656328225,\n",
       " 'MV-sun-FA-sun': 0.00024074093656328225,\n",
       " 'MV-sun-FA-clouds': 0.00024074093656328225,\n",
       " 'MV-sun-FA-snow': 0.00024074093656328225,\n",
       " 'MV-sun-FA-fog': 0.00024074093656328225,\n",
       " 'MV-sun-EO-rain': 0.00019093246692949972,\n",
       " 'MV-sun-EO-sun': 0.00019093246692949972,\n",
       " 'MV-sun-EO-clouds': 0.00019093246692949972,\n",
       " 'MV-sun-EO-snow': 0.00019093246692949972,\n",
       " 'MV-sun-EO-fog': 0.00019093246692949972,\n",
       " 'MV-sun-SV-rain': 0.00014527470309853242,\n",
       " 'MV-sun-SV-sun': 0.00014527470309853242,\n",
       " 'MV-sun-SV-clouds': 0.00014527470309853242,\n",
       " 'MV-sun-SV-snow': 0.00014527470309853242,\n",
       " 'MV-sun-SV-fog': 0.00014527470309853242,\n",
       " 'MV-sun-LS-rain': 0.0001079183508731955,\n",
       " 'MV-sun-LS-sun': 0.0001079183508731955,\n",
       " 'MV-sun-LS-clouds': 0.0001079183508731955,\n",
       " 'MV-sun-LS-snow': 0.0001079183508731955,\n",
       " 'MV-sun-LS-fog': 0.0001079183508731955,\n",
       " 'MV-sun-YT-rain': 7.47127044506738e-05,\n",
       " 'MV-sun-YT-sun': 7.47127044506738e-05,\n",
       " 'MV-sun-YT-clouds': 7.47127044506738e-05,\n",
       " 'MV-sun-YT-snow': 7.47127044506738e-05,\n",
       " 'MV-sun-YT-fog': 7.47127044506738e-05,\n",
       " 'MV-sun-GR-rain': 6.641129284504339e-05,\n",
       " 'MV-sun-GR-sun': 6.641129284504339e-05,\n",
       " 'MV-sun-GR-clouds': 6.641129284504339e-05,\n",
       " 'MV-sun-GR-snow': 6.641129284504339e-05,\n",
       " 'MV-sun-GR-fog': 6.641129284504339e-05,\n",
       " 'MV-sun-KR-rain': 2.905494061970648e-05,\n",
       " 'MV-sun-KR-sun': 2.905494061970648e-05,\n",
       " 'MV-sun-KR-clouds': 2.905494061970648e-05,\n",
       " 'MV-sun-KR-snow': 2.905494061970648e-05,\n",
       " 'MV-sun-KR-fog': 2.905494061970648e-05,\n",
       " 'MV-sun-AG-rain': 2.490423481689127e-05,\n",
       " 'MV-sun-AG-sun': 2.490423481689127e-05,\n",
       " 'MV-sun-AG-clouds': 2.490423481689127e-05,\n",
       " 'MV-sun-AG-snow': 2.490423481689127e-05,\n",
       " 'MV-sun-AG-fog': 2.490423481689127e-05,\n",
       " 'MV-sun-MS-rain': 4.150705802815212e-06,\n",
       " 'MV-sun-MS-sun': 4.150705802815212e-06,\n",
       " 'MV-sun-MS-clouds': 4.150705802815212e-06,\n",
       " 'MV-sun-MS-snow': 4.150705802815212e-06,\n",
       " 'MV-sun-MS-fog': 4.150705802815212e-06,\n",
       " 'MV-sun-RK-rain': 0.0,\n",
       " 'MV-sun-RK-sun': 0.0,\n",
       " 'MV-sun-RK-clouds': 0.0,\n",
       " 'MV-sun-RK-snow': 0.0,\n",
       " 'MV-sun-RK-fog': 0.0,\n",
       " 'MV-sun-NM-rain': 0.0,\n",
       " 'MV-sun-NM-sun': 0.0,\n",
       " 'MV-sun-NM-clouds': 0.0,\n",
       " 'MV-sun-NM-snow': 0.0,\n",
       " 'MV-sun-NM-fog': 0.0,\n",
       " 'MV-clouds-MV-rain': 0.0010895602732389931,\n",
       " 'MV-clouds-MV-sun': 0.0010895602732389931,\n",
       " 'MV-clouds-MV-clouds': 0.0010895602732389931,\n",
       " 'MV-clouds-MV-snow': 0.0010895602732389931,\n",
       " 'MV-clouds-MV-fog': 0.0010895602732389931,\n",
       " 'MV-clouds-LH-rain': 0.0010646560384221019,\n",
       " 'MV-clouds-LH-sun': 0.0010646560384221019,\n",
       " 'MV-clouds-LH-clouds': 0.0010646560384221019,\n",
       " 'MV-clouds-LH-snow': 0.0010646560384221019,\n",
       " 'MV-clouds-LH-fog': 0.0010646560384221019,\n",
       " 'MV-clouds-VB-rain': 0.0007346749270982925,\n",
       " 'MV-clouds-VB-sun': 0.0007346749270982925,\n",
       " 'MV-clouds-VB-clouds': 0.0007346749270982925,\n",
       " 'MV-clouds-VB-snow': 0.0007346749270982925,\n",
       " 'MV-clouds-VB-fog': 0.0007346749270982925,\n",
       " 'MV-clouds-LN-rain': 0.0006018523414082057,\n",
       " 'MV-clouds-LN-sun': 0.0006018523414082057,\n",
       " 'MV-clouds-LN-clouds': 0.0006018523414082057,\n",
       " 'MV-clouds-LN-snow': 0.0006018523414082057,\n",
       " 'MV-clouds-LN-fog': 0.0006018523414082057,\n",
       " 'MV-clouds-SP-rain': 0.0005603452833800535,\n",
       " 'MV-clouds-SP-sun': 0.0005603452833800535,\n",
       " 'MV-clouds-SP-clouds': 0.0005603452833800535,\n",
       " 'MV-clouds-SP-snow': 0.0005603452833800535,\n",
       " 'MV-clouds-SP-fog': 0.0005603452833800535,\n",
       " 'MV-clouds-CS-rain': 0.0004835572260279722,\n",
       " 'MV-clouds-CS-sun': 0.0004835572260279722,\n",
       " 'MV-clouds-CS-clouds': 0.0004835572260279722,\n",
       " 'MV-clouds-CS-snow': 0.0004835572260279722,\n",
       " 'MV-clouds-CS-fog': 0.0004835572260279722,\n",
       " 'MV-clouds-CL-rain': 0.0004814818731265645,\n",
       " 'MV-clouds-CL-sun': 0.0004814818731265645,\n",
       " 'MV-clouds-CL-clouds': 0.0004814818731265645,\n",
       " 'MV-clouds-CL-snow': 0.0004814818731265645,\n",
       " 'MV-clouds-CL-fog': 0.0004814818731265645,\n",
       " 'MV-clouds-DR-rain': 0.0003943170512674451,\n",
       " 'MV-clouds-DR-sun': 0.0003943170512674451,\n",
       " 'MV-clouds-DR-clouds': 0.0003943170512674451,\n",
       " 'MV-clouds-DR-snow': 0.0003943170512674451,\n",
       " 'MV-clouds-DR-fog': 0.0003943170512674451,\n",
       " 'MV-clouds-PG-rain': 0.00030715222940832566,\n",
       " 'MV-clouds-PG-sun': 0.00030715222940832566,\n",
       " 'MV-clouds-PG-clouds': 0.00030715222940832566,\n",
       " 'MV-clouds-PG-snow': 0.00030715222940832566,\n",
       " 'MV-clouds-PG-fog': 0.00030715222940832566,\n",
       " 'MV-clouds-FA-rain': 0.00024074093656328225,\n",
       " 'MV-clouds-FA-sun': 0.00024074093656328225,\n",
       " 'MV-clouds-FA-clouds': 0.00024074093656328225,\n",
       " 'MV-clouds-FA-snow': 0.00024074093656328225,\n",
       " 'MV-clouds-FA-fog': 0.00024074093656328225,\n",
       " 'MV-clouds-EO-rain': 0.00019093246692949972,\n",
       " 'MV-clouds-EO-sun': 0.00019093246692949972,\n",
       " 'MV-clouds-EO-clouds': 0.00019093246692949972,\n",
       " 'MV-clouds-EO-snow': 0.00019093246692949972,\n",
       " 'MV-clouds-EO-fog': 0.00019093246692949972,\n",
       " 'MV-clouds-SV-rain': 0.00014527470309853242,\n",
       " 'MV-clouds-SV-sun': 0.00014527470309853242,\n",
       " 'MV-clouds-SV-clouds': 0.00014527470309853242,\n",
       " 'MV-clouds-SV-snow': 0.00014527470309853242,\n",
       " 'MV-clouds-SV-fog': 0.00014527470309853242,\n",
       " 'MV-clouds-LS-rain': 0.0001079183508731955,\n",
       " 'MV-clouds-LS-sun': 0.0001079183508731955,\n",
       " 'MV-clouds-LS-clouds': 0.0001079183508731955,\n",
       " 'MV-clouds-LS-snow': 0.0001079183508731955,\n",
       " 'MV-clouds-LS-fog': 0.0001079183508731955,\n",
       " 'MV-clouds-YT-rain': 7.47127044506738e-05,\n",
       " 'MV-clouds-YT-sun': 7.47127044506738e-05,\n",
       " 'MV-clouds-YT-clouds': 7.47127044506738e-05,\n",
       " 'MV-clouds-YT-snow': 7.47127044506738e-05,\n",
       " 'MV-clouds-YT-fog': 7.47127044506738e-05,\n",
       " 'MV-clouds-GR-rain': 6.641129284504339e-05,\n",
       " 'MV-clouds-GR-sun': 6.641129284504339e-05,\n",
       " 'MV-clouds-GR-clouds': 6.641129284504339e-05,\n",
       " 'MV-clouds-GR-snow': 6.641129284504339e-05,\n",
       " 'MV-clouds-GR-fog': 6.641129284504339e-05,\n",
       " 'MV-clouds-KR-rain': 2.905494061970648e-05,\n",
       " 'MV-clouds-KR-sun': 2.905494061970648e-05,\n",
       " 'MV-clouds-KR-clouds': 2.905494061970648e-05,\n",
       " 'MV-clouds-KR-snow': 2.905494061970648e-05,\n",
       " 'MV-clouds-KR-fog': 2.905494061970648e-05,\n",
       " 'MV-clouds-AG-rain': 2.490423481689127e-05,\n",
       " 'MV-clouds-AG-sun': 2.490423481689127e-05,\n",
       " 'MV-clouds-AG-clouds': 2.490423481689127e-05,\n",
       " 'MV-clouds-AG-snow': 2.490423481689127e-05,\n",
       " 'MV-clouds-AG-fog': 2.490423481689127e-05,\n",
       " 'MV-clouds-MS-rain': 4.150705802815212e-06,\n",
       " 'MV-clouds-MS-sun': 4.150705802815212e-06,\n",
       " 'MV-clouds-MS-clouds': 4.150705802815212e-06,\n",
       " 'MV-clouds-MS-snow': 4.150705802815212e-06,\n",
       " 'MV-clouds-MS-fog': 4.150705802815212e-06,\n",
       " 'MV-clouds-RK-rain': 0.0,\n",
       " 'MV-clouds-RK-sun': 0.0,\n",
       " 'MV-clouds-RK-clouds': 0.0,\n",
       " 'MV-clouds-RK-snow': 0.0,\n",
       " 'MV-clouds-RK-fog': 0.0,\n",
       " 'MV-clouds-NM-rain': 0.0,\n",
       " 'MV-clouds-NM-sun': 0.0,\n",
       " 'MV-clouds-NM-clouds': 0.0,\n",
       " 'MV-clouds-NM-snow': 0.0,\n",
       " 'MV-clouds-NM-fog': 0.0,\n",
       " 'MV-snow-MV-rain': 0.0010895602732389931,\n",
       " 'MV-snow-MV-sun': 0.0010895602732389931,\n",
       " 'MV-snow-MV-clouds': 0.0010895602732389931,\n",
       " 'MV-snow-MV-snow': 0.0010895602732389931,\n",
       " 'MV-snow-MV-fog': 0.0010895602732389931,\n",
       " 'MV-snow-LH-rain': 0.0010646560384221019,\n",
       " 'MV-snow-LH-sun': 0.0010646560384221019,\n",
       " 'MV-snow-LH-clouds': 0.0010646560384221019,\n",
       " 'MV-snow-LH-snow': 0.0010646560384221019,\n",
       " 'MV-snow-LH-fog': 0.0010646560384221019,\n",
       " 'MV-snow-VB-rain': 0.0007346749270982925,\n",
       " 'MV-snow-VB-sun': 0.0007346749270982925,\n",
       " 'MV-snow-VB-clouds': 0.0007346749270982925,\n",
       " 'MV-snow-VB-snow': 0.0007346749270982925,\n",
       " 'MV-snow-VB-fog': 0.0007346749270982925,\n",
       " 'MV-snow-LN-rain': 0.0006018523414082057,\n",
       " 'MV-snow-LN-sun': 0.0006018523414082057,\n",
       " 'MV-snow-LN-clouds': 0.0006018523414082057,\n",
       " 'MV-snow-LN-snow': 0.0006018523414082057,\n",
       " 'MV-snow-LN-fog': 0.0006018523414082057,\n",
       " 'MV-snow-SP-rain': 0.0005603452833800535,\n",
       " 'MV-snow-SP-sun': 0.0005603452833800535,\n",
       " 'MV-snow-SP-clouds': 0.0005603452833800535,\n",
       " 'MV-snow-SP-snow': 0.0005603452833800535,\n",
       " 'MV-snow-SP-fog': 0.0005603452833800535,\n",
       " 'MV-snow-CS-rain': 0.0004835572260279722,\n",
       " 'MV-snow-CS-sun': 0.0004835572260279722,\n",
       " 'MV-snow-CS-clouds': 0.0004835572260279722,\n",
       " 'MV-snow-CS-snow': 0.0004835572260279722,\n",
       " 'MV-snow-CS-fog': 0.0004835572260279722,\n",
       " 'MV-snow-CL-rain': 0.0004814818731265645,\n",
       " 'MV-snow-CL-sun': 0.0004814818731265645,\n",
       " 'MV-snow-CL-clouds': 0.0004814818731265645,\n",
       " 'MV-snow-CL-snow': 0.0004814818731265645,\n",
       " 'MV-snow-CL-fog': 0.0004814818731265645,\n",
       " 'MV-snow-DR-rain': 0.0003943170512674451,\n",
       " 'MV-snow-DR-sun': 0.0003943170512674451,\n",
       " 'MV-snow-DR-clouds': 0.0003943170512674451,\n",
       " 'MV-snow-DR-snow': 0.0003943170512674451,\n",
       " 'MV-snow-DR-fog': 0.0003943170512674451,\n",
       " 'MV-snow-PG-rain': 0.00030715222940832566,\n",
       " 'MV-snow-PG-sun': 0.00030715222940832566,\n",
       " 'MV-snow-PG-clouds': 0.00030715222940832566,\n",
       " 'MV-snow-PG-snow': 0.00030715222940832566,\n",
       " 'MV-snow-PG-fog': 0.00030715222940832566,\n",
       " 'MV-snow-FA-rain': 0.00024074093656328225,\n",
       " 'MV-snow-FA-sun': 0.00024074093656328225,\n",
       " 'MV-snow-FA-clouds': 0.00024074093656328225,\n",
       " 'MV-snow-FA-snow': 0.00024074093656328225,\n",
       " 'MV-snow-FA-fog': 0.00024074093656328225,\n",
       " 'MV-snow-EO-rain': 0.00019093246692949972,\n",
       " 'MV-snow-EO-sun': 0.00019093246692949972,\n",
       " 'MV-snow-EO-clouds': 0.00019093246692949972,\n",
       " 'MV-snow-EO-snow': 0.00019093246692949972,\n",
       " 'MV-snow-EO-fog': 0.00019093246692949972,\n",
       " 'MV-snow-SV-rain': 0.00014527470309853242,\n",
       " 'MV-snow-SV-sun': 0.00014527470309853242,\n",
       " 'MV-snow-SV-clouds': 0.00014527470309853242,\n",
       " 'MV-snow-SV-snow': 0.00014527470309853242,\n",
       " 'MV-snow-SV-fog': 0.00014527470309853242,\n",
       " 'MV-snow-LS-rain': 0.0001079183508731955,\n",
       " 'MV-snow-LS-sun': 0.0001079183508731955,\n",
       " 'MV-snow-LS-clouds': 0.0001079183508731955,\n",
       " 'MV-snow-LS-snow': 0.0001079183508731955,\n",
       " 'MV-snow-LS-fog': 0.0001079183508731955,\n",
       " 'MV-snow-YT-rain': 7.47127044506738e-05,\n",
       " 'MV-snow-YT-sun': 7.47127044506738e-05,\n",
       " 'MV-snow-YT-clouds': 7.47127044506738e-05,\n",
       " 'MV-snow-YT-snow': 7.47127044506738e-05,\n",
       " 'MV-snow-YT-fog': 7.47127044506738e-05,\n",
       " 'MV-snow-GR-rain': 6.641129284504339e-05,\n",
       " 'MV-snow-GR-sun': 6.641129284504339e-05,\n",
       " 'MV-snow-GR-clouds': 6.641129284504339e-05,\n",
       " 'MV-snow-GR-snow': 6.641129284504339e-05,\n",
       " 'MV-snow-GR-fog': 6.641129284504339e-05,\n",
       " 'MV-snow-KR-rain': 2.905494061970648e-05,\n",
       " 'MV-snow-KR-sun': 2.905494061970648e-05,\n",
       " 'MV-snow-KR-clouds': 2.905494061970648e-05,\n",
       " 'MV-snow-KR-snow': 2.905494061970648e-05,\n",
       " 'MV-snow-KR-fog': 2.905494061970648e-05,\n",
       " 'MV-snow-AG-rain': 2.490423481689127e-05,\n",
       " 'MV-snow-AG-sun': 2.490423481689127e-05,\n",
       " 'MV-snow-AG-clouds': 2.490423481689127e-05,\n",
       " 'MV-snow-AG-snow': 2.490423481689127e-05,\n",
       " 'MV-snow-AG-fog': 2.490423481689127e-05,\n",
       " 'MV-snow-MS-rain': 4.150705802815212e-06,\n",
       " 'MV-snow-MS-sun': 4.150705802815212e-06,\n",
       " 'MV-snow-MS-clouds': 4.150705802815212e-06,\n",
       " 'MV-snow-MS-snow': 4.150705802815212e-06,\n",
       " 'MV-snow-MS-fog': 4.150705802815212e-06,\n",
       " 'MV-snow-RK-rain': 0.0,\n",
       " 'MV-snow-RK-sun': 0.0,\n",
       " 'MV-snow-RK-clouds': 0.0,\n",
       " 'MV-snow-RK-snow': 0.0,\n",
       " 'MV-snow-RK-fog': 0.0,\n",
       " 'MV-snow-NM-rain': 0.0,\n",
       " 'MV-snow-NM-sun': 0.0,\n",
       " 'MV-snow-NM-clouds': 0.0,\n",
       " 'MV-snow-NM-snow': 0.0,\n",
       " 'MV-snow-NM-fog': 0.0,\n",
       " 'MV-fog-MV-rain': 0.0010895602732389931,\n",
       " 'MV-fog-MV-sun': 0.0010895602732389931,\n",
       " 'MV-fog-MV-clouds': 0.0010895602732389931,\n",
       " 'MV-fog-MV-snow': 0.0010895602732389931,\n",
       " 'MV-fog-MV-fog': 0.0010895602732389931,\n",
       " 'MV-fog-LH-rain': 0.0010646560384221019,\n",
       " 'MV-fog-LH-sun': 0.0010646560384221019,\n",
       " 'MV-fog-LH-clouds': 0.0010646560384221019,\n",
       " 'MV-fog-LH-snow': 0.0010646560384221019,\n",
       " 'MV-fog-LH-fog': 0.0010646560384221019,\n",
       " 'MV-fog-VB-rain': 0.0007346749270982925,\n",
       " 'MV-fog-VB-sun': 0.0007346749270982925,\n",
       " 'MV-fog-VB-clouds': 0.0007346749270982925,\n",
       " 'MV-fog-VB-snow': 0.0007346749270982925,\n",
       " 'MV-fog-VB-fog': 0.0007346749270982925,\n",
       " 'MV-fog-LN-rain': 0.0006018523414082057,\n",
       " 'MV-fog-LN-sun': 0.0006018523414082057,\n",
       " 'MV-fog-LN-clouds': 0.0006018523414082057,\n",
       " 'MV-fog-LN-snow': 0.0006018523414082057,\n",
       " 'MV-fog-LN-fog': 0.0006018523414082057,\n",
       " 'MV-fog-SP-rain': 0.0005603452833800535,\n",
       " 'MV-fog-SP-sun': 0.0005603452833800535,\n",
       " 'MV-fog-SP-clouds': 0.0005603452833800535,\n",
       " 'MV-fog-SP-snow': 0.0005603452833800535,\n",
       " 'MV-fog-SP-fog': 0.0005603452833800535,\n",
       " 'MV-fog-CS-rain': 0.0004835572260279722,\n",
       " 'MV-fog-CS-sun': 0.0004835572260279722,\n",
       " 'MV-fog-CS-clouds': 0.0004835572260279722,\n",
       " 'MV-fog-CS-snow': 0.0004835572260279722,\n",
       " 'MV-fog-CS-fog': 0.0004835572260279722,\n",
       " 'MV-fog-CL-rain': 0.0004814818731265645,\n",
       " 'MV-fog-CL-sun': 0.0004814818731265645,\n",
       " 'MV-fog-CL-clouds': 0.0004814818731265645,\n",
       " 'MV-fog-CL-snow': 0.0004814818731265645,\n",
       " 'MV-fog-CL-fog': 0.0004814818731265645,\n",
       " 'MV-fog-DR-rain': 0.0003943170512674451,\n",
       " 'MV-fog-DR-sun': 0.0003943170512674451,\n",
       " 'MV-fog-DR-clouds': 0.0003943170512674451,\n",
       " 'MV-fog-DR-snow': 0.0003943170512674451,\n",
       " 'MV-fog-DR-fog': 0.0003943170512674451,\n",
       " 'MV-fog-PG-rain': 0.00030715222940832566,\n",
       " 'MV-fog-PG-sun': 0.00030715222940832566,\n",
       " 'MV-fog-PG-clouds': 0.00030715222940832566,\n",
       " 'MV-fog-PG-snow': 0.00030715222940832566,\n",
       " 'MV-fog-PG-fog': 0.00030715222940832566,\n",
       " 'MV-fog-FA-rain': 0.00024074093656328225,\n",
       " 'MV-fog-FA-sun': 0.00024074093656328225,\n",
       " 'MV-fog-FA-clouds': 0.00024074093656328225,\n",
       " 'MV-fog-FA-snow': 0.00024074093656328225,\n",
       " 'MV-fog-FA-fog': 0.00024074093656328225,\n",
       " 'MV-fog-EO-rain': 0.00019093246692949972,\n",
       " 'MV-fog-EO-sun': 0.00019093246692949972,\n",
       " 'MV-fog-EO-clouds': 0.00019093246692949972,\n",
       " 'MV-fog-EO-snow': 0.00019093246692949972,\n",
       " 'MV-fog-EO-fog': 0.00019093246692949972,\n",
       " 'MV-fog-SV-rain': 0.00014527470309853242,\n",
       " 'MV-fog-SV-sun': 0.00014527470309853242,\n",
       " 'MV-fog-SV-clouds': 0.00014527470309853242,\n",
       " 'MV-fog-SV-snow': 0.00014527470309853242,\n",
       " 'MV-fog-SV-fog': 0.00014527470309853242,\n",
       " 'MV-fog-LS-rain': 0.0001079183508731955,\n",
       " 'MV-fog-LS-sun': 0.0001079183508731955,\n",
       " 'MV-fog-LS-clouds': 0.0001079183508731955,\n",
       " 'MV-fog-LS-snow': 0.0001079183508731955,\n",
       " 'MV-fog-LS-fog': 0.0001079183508731955,\n",
       " 'MV-fog-YT-rain': 7.47127044506738e-05,\n",
       " 'MV-fog-YT-sun': 7.47127044506738e-05,\n",
       " 'MV-fog-YT-clouds': 7.47127044506738e-05,\n",
       " 'MV-fog-YT-snow': 7.47127044506738e-05,\n",
       " 'MV-fog-YT-fog': 7.47127044506738e-05,\n",
       " 'MV-fog-GR-rain': 6.641129284504339e-05,\n",
       " 'MV-fog-GR-sun': 6.641129284504339e-05,\n",
       " 'MV-fog-GR-clouds': 6.641129284504339e-05,\n",
       " 'MV-fog-GR-snow': 6.641129284504339e-05,\n",
       " 'MV-fog-GR-fog': 6.641129284504339e-05,\n",
       " 'MV-fog-KR-rain': 2.905494061970648e-05,\n",
       " 'MV-fog-KR-sun': 2.905494061970648e-05,\n",
       " 'MV-fog-KR-clouds': 2.905494061970648e-05,\n",
       " 'MV-fog-KR-snow': 2.905494061970648e-05,\n",
       " 'MV-fog-KR-fog': 2.905494061970648e-05,\n",
       " 'MV-fog-AG-rain': 2.490423481689127e-05,\n",
       " 'MV-fog-AG-sun': 2.490423481689127e-05,\n",
       " 'MV-fog-AG-clouds': 2.490423481689127e-05,\n",
       " 'MV-fog-AG-snow': 2.490423481689127e-05,\n",
       " 'MV-fog-AG-fog': 2.490423481689127e-05,\n",
       " 'MV-fog-MS-rain': 4.150705802815212e-06,\n",
       " 'MV-fog-MS-sun': 4.150705802815212e-06,\n",
       " 'MV-fog-MS-clouds': 4.150705802815212e-06,\n",
       " 'MV-fog-MS-snow': 4.150705802815212e-06,\n",
       " 'MV-fog-MS-fog': 4.150705802815212e-06,\n",
       " 'MV-fog-RK-rain': 0.0,\n",
       " 'MV-fog-RK-sun': 0.0,\n",
       " 'MV-fog-RK-clouds': 0.0,\n",
       " 'MV-fog-RK-snow': 0.0,\n",
       " 'MV-fog-RK-fog': 0.0,\n",
       " 'MV-fog-NM-rain': 0.0,\n",
       " 'MV-fog-NM-sun': 0.0,\n",
       " 'MV-fog-NM-clouds': 0.0,\n",
       " 'MV-fog-NM-snow': 0.0,\n",
       " 'MV-fog-NM-fog': 0.0,\n",
       " 'LH-rain-MV-rain': 0.0010646560384221019,\n",
       " 'LH-rain-MV-sun': 0.0010646560384221019,\n",
       " 'LH-rain-MV-clouds': 0.0010646560384221019,\n",
       " 'LH-rain-MV-snow': 0.0010646560384221019,\n",
       " 'LH-rain-MV-fog': 0.0010646560384221019,\n",
       " 'LH-rain-LH-rain': 0.001040321043258168,\n",
       " 'LH-rain-LH-sun': 0.001040321043258168,\n",
       " 'LH-rain-LH-clouds': 0.001040321043258168,\n",
       " 'LH-rain-LH-snow': 0.001040321043258168,\n",
       " 'LH-rain-LH-fog': 0.001040321043258168,\n",
       " 'LH-rain-VB-rain': 0.0007178823573360457,\n",
       " 'LH-rain-VB-sun': 0.0007178823573360457,\n",
       " 'LH-rain-VB-clouds': 0.0007178823573360457,\n",
       " 'LH-rain-VB-snow': 0.0007178823573360457,\n",
       " 'LH-rain-VB-fog': 0.0007178823573360457,\n",
       " 'LH-rain-LN-rain': 0.0005880957164617323,\n",
       " 'LH-rain-LN-sun': 0.0005880957164617323,\n",
       " 'LH-rain-LN-clouds': 0.0005880957164617323,\n",
       " 'LH-rain-LN-snow': 0.0005880957164617323,\n",
       " 'LH-rain-LN-fog': 0.0005880957164617323,\n",
       " 'LH-rain-SP-rain': 0.0005475373911885095,\n",
       " 'LH-rain-SP-sun': 0.0005475373911885095,\n",
       " 'LH-rain-SP-clouds': 0.0005475373911885095,\n",
       " 'LH-rain-SP-snow': 0.0005475373911885095,\n",
       " 'LH-rain-SP-fog': 0.0005475373911885095,\n",
       " 'LH-rain-CS-rain': 0.00047250448943304704,\n",
       " 'LH-rain-CS-sun': 0.00047250448943304704,\n",
       " 'LH-rain-CS-clouds': 0.00047250448943304704,\n",
       " 'LH-rain-CS-snow': 0.00047250448943304704,\n",
       " 'LH-rain-CS-fog': 0.00047250448943304704,\n",
       " 'LH-rain-CL-rain': 0.00047047657316938587,\n",
       " 'LH-rain-CL-sun': 0.00047047657316938587,\n",
       " 'LH-rain-CL-clouds': 0.00047047657316938587,\n",
       " 'LH-rain-CL-snow': 0.00047047657316938587,\n",
       " 'LH-rain-CL-fog': 0.00047047657316938587,\n",
       " 'LH-rain-DR-rain': 0.00038530409009561776,\n",
       " 'LH-rain-DR-sun': 0.00038530409009561776,\n",
       " 'LH-rain-DR-clouds': 0.00038530409009561776,\n",
       " 'LH-rain-DR-snow': 0.00038530409009561776,\n",
       " 'LH-rain-DR-fog': 0.00038530409009561776,\n",
       " 'LH-rain-PG-rain': 0.00030013160702184965,\n",
       " 'LH-rain-PG-sun': 0.00030013160702184965,\n",
       " 'LH-rain-PG-clouds': 0.00030013160702184965,\n",
       " 'LH-rain-PG-snow': 0.00030013160702184965,\n",
       " 'LH-rain-PG-fog': 0.00030013160702184965,\n",
       " 'LH-rain-FA-rain': 0.00023523828658469293,\n",
       " 'LH-rain-FA-sun': 0.00023523828658469293,\n",
       " 'LH-rain-FA-clouds': 0.00023523828658469293,\n",
       " 'LH-rain-FA-snow': 0.00023523828658469293,\n",
       " 'LH-rain-FA-fog': 0.00023523828658469293,\n",
       " 'LH-rain-EO-rain': 0.00018656829625682543,\n",
       " 'LH-rain-EO-sun': 0.00018656829625682543,\n",
       " 'LH-rain-EO-clouds': 0.00018656829625682543,\n",
       " 'LH-rain-EO-snow': 0.00018656829625682543,\n",
       " 'LH-rain-EO-fog': 0.00018656829625682543,\n",
       " 'LH-rain-SV-rain': 0.00014195413845628026,\n",
       " 'LH-rain-SV-sun': 0.00014195413845628026,\n",
       " 'LH-rain-SV-clouds': 0.00014195413845628026,\n",
       " 'LH-rain-SV-snow': 0.00014195413845628026,\n",
       " 'LH-rain-SV-fog': 0.00014195413845628026,\n",
       " 'LH-rain-LS-rain': 0.00010545164571037959,\n",
       " 'LH-rain-LS-sun': 0.00010545164571037959,\n",
       " 'LH-rain-LS-clouds': 0.00010545164571037959,\n",
       " 'LH-rain-LS-snow': 0.00010545164571037959,\n",
       " 'LH-rain-LS-fog': 0.00010545164571037959,\n",
       " 'LH-rain-YT-rain': 7.300498549180126e-05,\n",
       " 'LH-rain-YT-sun': 7.300498549180126e-05,\n",
       " 'LH-rain-YT-clouds': 7.300498549180126e-05,\n",
       " 'LH-rain-YT-snow': 7.300498549180126e-05,\n",
       " 'LH-rain-YT-fog': 7.300498549180126e-05,\n",
       " 'LH-rain-GR-rain': 6.489332043715667e-05,\n",
       " 'LH-rain-GR-sun': 6.489332043715667e-05,\n",
       " 'LH-rain-GR-clouds': 6.489332043715667e-05,\n",
       " 'LH-rain-GR-snow': 6.489332043715667e-05,\n",
       " 'LH-rain-GR-fog': 6.489332043715667e-05,\n",
       " 'LH-rain-KR-rain': 2.8390827691256046e-05,\n",
       " 'LH-rain-KR-sun': 2.8390827691256046e-05,\n",
       " 'LH-rain-KR-clouds': 2.8390827691256046e-05,\n",
       " 'LH-rain-KR-snow': 2.8390827691256046e-05,\n",
       " 'LH-rain-KR-fog': 2.8390827691256046e-05,\n",
       " 'LH-rain-AG-rain': 2.4334995163933753e-05,\n",
       " 'LH-rain-AG-sun': 2.4334995163933753e-05,\n",
       " 'LH-rain-AG-clouds': 2.4334995163933753e-05,\n",
       " 'LH-rain-AG-snow': 2.4334995163933753e-05,\n",
       " 'LH-rain-AG-fog': 2.4334995163933753e-05,\n",
       " 'LH-rain-MS-rain': 4.055832527322292e-06,\n",
       " 'LH-rain-MS-sun': 4.055832527322292e-06,\n",
       " 'LH-rain-MS-clouds': 4.055832527322292e-06,\n",
       " 'LH-rain-MS-snow': 4.055832527322292e-06,\n",
       " 'LH-rain-MS-fog': 4.055832527322292e-06,\n",
       " 'LH-rain-RK-rain': 0.0,\n",
       " 'LH-rain-RK-sun': 0.0,\n",
       " 'LH-rain-RK-clouds': 0.0,\n",
       " 'LH-rain-RK-snow': 0.0,\n",
       " 'LH-rain-RK-fog': 0.0,\n",
       " 'LH-rain-NM-rain': 0.0,\n",
       " 'LH-rain-NM-sun': 0.0,\n",
       " 'LH-rain-NM-clouds': 0.0,\n",
       " 'LH-rain-NM-snow': 0.0,\n",
       " 'LH-rain-NM-fog': 0.0,\n",
       " 'LH-sun-MV-rain': 0.0010646560384221019,\n",
       " 'LH-sun-MV-sun': 0.0010646560384221019,\n",
       " 'LH-sun-MV-clouds': 0.0010646560384221019,\n",
       " 'LH-sun-MV-snow': 0.0010646560384221019,\n",
       " 'LH-sun-MV-fog': 0.0010646560384221019,\n",
       " 'LH-sun-LH-rain': 0.001040321043258168,\n",
       " 'LH-sun-LH-sun': 0.001040321043258168,\n",
       " 'LH-sun-LH-clouds': 0.001040321043258168,\n",
       " 'LH-sun-LH-snow': 0.001040321043258168,\n",
       " 'LH-sun-LH-fog': 0.001040321043258168,\n",
       " 'LH-sun-VB-rain': 0.0007178823573360457,\n",
       " 'LH-sun-VB-sun': 0.0007178823573360457,\n",
       " 'LH-sun-VB-clouds': 0.0007178823573360457,\n",
       " 'LH-sun-VB-snow': 0.0007178823573360457,\n",
       " 'LH-sun-VB-fog': 0.0007178823573360457,\n",
       " 'LH-sun-LN-rain': 0.0005880957164617323,\n",
       " 'LH-sun-LN-sun': 0.0005880957164617323,\n",
       " 'LH-sun-LN-clouds': 0.0005880957164617323,\n",
       " 'LH-sun-LN-snow': 0.0005880957164617323,\n",
       " 'LH-sun-LN-fog': 0.0005880957164617323,\n",
       " 'LH-sun-SP-rain': 0.0005475373911885095,\n",
       " 'LH-sun-SP-sun': 0.0005475373911885095,\n",
       " 'LH-sun-SP-clouds': 0.0005475373911885095,\n",
       " 'LH-sun-SP-snow': 0.0005475373911885095,\n",
       " 'LH-sun-SP-fog': 0.0005475373911885095,\n",
       " 'LH-sun-CS-rain': 0.00047250448943304704,\n",
       " 'LH-sun-CS-sun': 0.00047250448943304704,\n",
       " 'LH-sun-CS-clouds': 0.00047250448943304704,\n",
       " 'LH-sun-CS-snow': 0.00047250448943304704,\n",
       " 'LH-sun-CS-fog': 0.00047250448943304704,\n",
       " 'LH-sun-CL-rain': 0.00047047657316938587,\n",
       " 'LH-sun-CL-sun': 0.00047047657316938587,\n",
       " 'LH-sun-CL-clouds': 0.00047047657316938587,\n",
       " 'LH-sun-CL-snow': 0.00047047657316938587,\n",
       " 'LH-sun-CL-fog': 0.00047047657316938587,\n",
       " 'LH-sun-DR-rain': 0.00038530409009561776,\n",
       " 'LH-sun-DR-sun': 0.00038530409009561776,\n",
       " 'LH-sun-DR-clouds': 0.00038530409009561776,\n",
       " 'LH-sun-DR-snow': 0.00038530409009561776,\n",
       " 'LH-sun-DR-fog': 0.00038530409009561776,\n",
       " 'LH-sun-PG-rain': 0.00030013160702184965,\n",
       " 'LH-sun-PG-sun': 0.00030013160702184965,\n",
       " 'LH-sun-PG-clouds': 0.00030013160702184965,\n",
       " 'LH-sun-PG-snow': 0.00030013160702184965,\n",
       " 'LH-sun-PG-fog': 0.00030013160702184965,\n",
       " 'LH-sun-FA-rain': 0.00023523828658469293,\n",
       " 'LH-sun-FA-sun': 0.00023523828658469293,\n",
       " 'LH-sun-FA-clouds': 0.00023523828658469293,\n",
       " 'LH-sun-FA-snow': 0.00023523828658469293,\n",
       " 'LH-sun-FA-fog': 0.00023523828658469293,\n",
       " 'LH-sun-EO-rain': 0.00018656829625682543,\n",
       " 'LH-sun-EO-sun': 0.00018656829625682543,\n",
       " 'LH-sun-EO-clouds': 0.00018656829625682543,\n",
       " 'LH-sun-EO-snow': 0.00018656829625682543,\n",
       " 'LH-sun-EO-fog': 0.00018656829625682543,\n",
       " 'LH-sun-SV-rain': 0.00014195413845628026,\n",
       " 'LH-sun-SV-sun': 0.00014195413845628026,\n",
       " 'LH-sun-SV-clouds': 0.00014195413845628026,\n",
       " 'LH-sun-SV-snow': 0.00014195413845628026,\n",
       " 'LH-sun-SV-fog': 0.00014195413845628026,\n",
       " 'LH-sun-LS-rain': 0.00010545164571037959,\n",
       " 'LH-sun-LS-sun': 0.00010545164571037959,\n",
       " 'LH-sun-LS-clouds': 0.00010545164571037959,\n",
       " 'LH-sun-LS-snow': 0.00010545164571037959,\n",
       " 'LH-sun-LS-fog': 0.00010545164571037959,\n",
       " 'LH-sun-YT-rain': 7.300498549180126e-05,\n",
       " 'LH-sun-YT-sun': 7.300498549180126e-05,\n",
       " 'LH-sun-YT-clouds': 7.300498549180126e-05,\n",
       " 'LH-sun-YT-snow': 7.300498549180126e-05,\n",
       " 'LH-sun-YT-fog': 7.300498549180126e-05,\n",
       " 'LH-sun-GR-rain': 6.489332043715667e-05,\n",
       " 'LH-sun-GR-sun': 6.489332043715667e-05,\n",
       " 'LH-sun-GR-clouds': 6.489332043715667e-05,\n",
       " 'LH-sun-GR-snow': 6.489332043715667e-05,\n",
       " 'LH-sun-GR-fog': 6.489332043715667e-05,\n",
       " 'LH-sun-KR-rain': 2.8390827691256046e-05,\n",
       " 'LH-sun-KR-sun': 2.8390827691256046e-05,\n",
       " 'LH-sun-KR-clouds': 2.8390827691256046e-05,\n",
       " 'LH-sun-KR-snow': 2.8390827691256046e-05,\n",
       " 'LH-sun-KR-fog': 2.8390827691256046e-05,\n",
       " 'LH-sun-AG-rain': 2.4334995163933753e-05,\n",
       " 'LH-sun-AG-sun': 2.4334995163933753e-05,\n",
       " 'LH-sun-AG-clouds': 2.4334995163933753e-05,\n",
       " 'LH-sun-AG-snow': 2.4334995163933753e-05,\n",
       " 'LH-sun-AG-fog': 2.4334995163933753e-05,\n",
       " 'LH-sun-MS-rain': 4.055832527322292e-06,\n",
       " 'LH-sun-MS-sun': 4.055832527322292e-06,\n",
       " 'LH-sun-MS-clouds': 4.055832527322292e-06,\n",
       " 'LH-sun-MS-snow': 4.055832527322292e-06,\n",
       " 'LH-sun-MS-fog': 4.055832527322292e-06,\n",
       " 'LH-sun-RK-rain': 0.0,\n",
       " 'LH-sun-RK-sun': 0.0,\n",
       " 'LH-sun-RK-clouds': 0.0,\n",
       " 'LH-sun-RK-snow': 0.0,\n",
       " 'LH-sun-RK-fog': 0.0,\n",
       " 'LH-sun-NM-rain': 0.0,\n",
       " 'LH-sun-NM-sun': 0.0,\n",
       " 'LH-sun-NM-clouds': 0.0,\n",
       " 'LH-sun-NM-snow': 0.0,\n",
       " 'LH-sun-NM-fog': 0.0,\n",
       " 'LH-clouds-MV-rain': 0.0010646560384221019,\n",
       " 'LH-clouds-MV-sun': 0.0010646560384221019,\n",
       " 'LH-clouds-MV-clouds': 0.0010646560384221019,\n",
       " 'LH-clouds-MV-snow': 0.0010646560384221019,\n",
       " 'LH-clouds-MV-fog': 0.0010646560384221019,\n",
       " 'LH-clouds-LH-rain': 0.001040321043258168,\n",
       " 'LH-clouds-LH-sun': 0.001040321043258168,\n",
       " 'LH-clouds-LH-clouds': 0.001040321043258168,\n",
       " 'LH-clouds-LH-snow': 0.001040321043258168,\n",
       " 'LH-clouds-LH-fog': 0.001040321043258168,\n",
       " 'LH-clouds-VB-rain': 0.0007178823573360457,\n",
       " 'LH-clouds-VB-sun': 0.0007178823573360457,\n",
       " 'LH-clouds-VB-clouds': 0.0007178823573360457,\n",
       " 'LH-clouds-VB-snow': 0.0007178823573360457,\n",
       " 'LH-clouds-VB-fog': 0.0007178823573360457,\n",
       " 'LH-clouds-LN-rain': 0.0005880957164617323,\n",
       " 'LH-clouds-LN-sun': 0.0005880957164617323,\n",
       " 'LH-clouds-LN-clouds': 0.0005880957164617323,\n",
       " 'LH-clouds-LN-snow': 0.0005880957164617323,\n",
       " 'LH-clouds-LN-fog': 0.0005880957164617323,\n",
       " 'LH-clouds-SP-rain': 0.0005475373911885095,\n",
       " 'LH-clouds-SP-sun': 0.0005475373911885095,\n",
       " 'LH-clouds-SP-clouds': 0.0005475373911885095,\n",
       " 'LH-clouds-SP-snow': 0.0005475373911885095,\n",
       " 'LH-clouds-SP-fog': 0.0005475373911885095,\n",
       " 'LH-clouds-CS-rain': 0.00047250448943304704,\n",
       " 'LH-clouds-CS-sun': 0.00047250448943304704,\n",
       " 'LH-clouds-CS-clouds': 0.00047250448943304704,\n",
       " 'LH-clouds-CS-snow': 0.00047250448943304704,\n",
       " 'LH-clouds-CS-fog': 0.00047250448943304704,\n",
       " 'LH-clouds-CL-rain': 0.00047047657316938587,\n",
       " 'LH-clouds-CL-sun': 0.00047047657316938587,\n",
       " 'LH-clouds-CL-clouds': 0.00047047657316938587,\n",
       " 'LH-clouds-CL-snow': 0.00047047657316938587,\n",
       " 'LH-clouds-CL-fog': 0.00047047657316938587,\n",
       " 'LH-clouds-DR-rain': 0.00038530409009561776,\n",
       " 'LH-clouds-DR-sun': 0.00038530409009561776,\n",
       " 'LH-clouds-DR-clouds': 0.00038530409009561776,\n",
       " 'LH-clouds-DR-snow': 0.00038530409009561776,\n",
       " 'LH-clouds-DR-fog': 0.00038530409009561776,\n",
       " 'LH-clouds-PG-rain': 0.00030013160702184965,\n",
       " 'LH-clouds-PG-sun': 0.00030013160702184965,\n",
       " 'LH-clouds-PG-clouds': 0.00030013160702184965,\n",
       " 'LH-clouds-PG-snow': 0.00030013160702184965,\n",
       " 'LH-clouds-PG-fog': 0.00030013160702184965,\n",
       " 'LH-clouds-FA-rain': 0.00023523828658469293,\n",
       " 'LH-clouds-FA-sun': 0.00023523828658469293,\n",
       " 'LH-clouds-FA-clouds': 0.00023523828658469293,\n",
       " 'LH-clouds-FA-snow': 0.00023523828658469293,\n",
       " 'LH-clouds-FA-fog': 0.00023523828658469293,\n",
       " 'LH-clouds-EO-rain': 0.00018656829625682543,\n",
       " 'LH-clouds-EO-sun': 0.00018656829625682543,\n",
       " 'LH-clouds-EO-clouds': 0.00018656829625682543,\n",
       " 'LH-clouds-EO-snow': 0.00018656829625682543,\n",
       " 'LH-clouds-EO-fog': 0.00018656829625682543,\n",
       " 'LH-clouds-SV-rain': 0.00014195413845628026,\n",
       " 'LH-clouds-SV-sun': 0.00014195413845628026,\n",
       " 'LH-clouds-SV-clouds': 0.00014195413845628026,\n",
       " 'LH-clouds-SV-snow': 0.00014195413845628026,\n",
       " 'LH-clouds-SV-fog': 0.00014195413845628026,\n",
       " 'LH-clouds-LS-rain': 0.00010545164571037959,\n",
       " 'LH-clouds-LS-sun': 0.00010545164571037959,\n",
       " 'LH-clouds-LS-clouds': 0.00010545164571037959,\n",
       " 'LH-clouds-LS-snow': 0.00010545164571037959,\n",
       " 'LH-clouds-LS-fog': 0.00010545164571037959,\n",
       " 'LH-clouds-YT-rain': 7.300498549180126e-05,\n",
       " 'LH-clouds-YT-sun': 7.300498549180126e-05,\n",
       " 'LH-clouds-YT-clouds': 7.300498549180126e-05,\n",
       " 'LH-clouds-YT-snow': 7.300498549180126e-05,\n",
       " 'LH-clouds-YT-fog': 7.300498549180126e-05,\n",
       " 'LH-clouds-GR-rain': 6.489332043715667e-05,\n",
       " 'LH-clouds-GR-sun': 6.489332043715667e-05,\n",
       " 'LH-clouds-GR-clouds': 6.489332043715667e-05,\n",
       " 'LH-clouds-GR-snow': 6.489332043715667e-05,\n",
       " 'LH-clouds-GR-fog': 6.489332043715667e-05,\n",
       " 'LH-clouds-KR-rain': 2.8390827691256046e-05,\n",
       " 'LH-clouds-KR-sun': 2.8390827691256046e-05,\n",
       " 'LH-clouds-KR-clouds': 2.8390827691256046e-05,\n",
       " 'LH-clouds-KR-snow': 2.8390827691256046e-05,\n",
       " 'LH-clouds-KR-fog': 2.8390827691256046e-05,\n",
       " 'LH-clouds-AG-rain': 2.4334995163933753e-05,\n",
       " 'LH-clouds-AG-sun': 2.4334995163933753e-05,\n",
       " 'LH-clouds-AG-clouds': 2.4334995163933753e-05,\n",
       " 'LH-clouds-AG-snow': 2.4334995163933753e-05,\n",
       " 'LH-clouds-AG-fog': 2.4334995163933753e-05,\n",
       " 'LH-clouds-MS-rain': 4.055832527322292e-06,\n",
       " 'LH-clouds-MS-sun': 4.055832527322292e-06,\n",
       " 'LH-clouds-MS-clouds': 4.055832527322292e-06,\n",
       " 'LH-clouds-MS-snow': 4.055832527322292e-06,\n",
       " 'LH-clouds-MS-fog': 4.055832527322292e-06,\n",
       " 'LH-clouds-RK-rain': 0.0,\n",
       " 'LH-clouds-RK-sun': 0.0,\n",
       " 'LH-clouds-RK-clouds': 0.0,\n",
       " 'LH-clouds-RK-snow': 0.0,\n",
       " 'LH-clouds-RK-fog': 0.0,\n",
       " 'LH-clouds-NM-rain': 0.0,\n",
       " 'LH-clouds-NM-sun': 0.0,\n",
       " 'LH-clouds-NM-clouds': 0.0,\n",
       " 'LH-clouds-NM-snow': 0.0,\n",
       " 'LH-clouds-NM-fog': 0.0,\n",
       " 'LH-snow-MV-rain': 0.0010646560384221019,\n",
       " 'LH-snow-MV-sun': 0.0010646560384221019,\n",
       " 'LH-snow-MV-clouds': 0.0010646560384221019,\n",
       " 'LH-snow-MV-snow': 0.0010646560384221019,\n",
       " 'LH-snow-MV-fog': 0.0010646560384221019,\n",
       " 'LH-snow-LH-rain': 0.001040321043258168,\n",
       " 'LH-snow-LH-sun': 0.001040321043258168,\n",
       " 'LH-snow-LH-clouds': 0.001040321043258168,\n",
       " 'LH-snow-LH-snow': 0.001040321043258168,\n",
       " 'LH-snow-LH-fog': 0.001040321043258168,\n",
       " 'LH-snow-VB-rain': 0.0007178823573360457,\n",
       " 'LH-snow-VB-sun': 0.0007178823573360457,\n",
       " 'LH-snow-VB-clouds': 0.0007178823573360457,\n",
       " 'LH-snow-VB-snow': 0.0007178823573360457,\n",
       " 'LH-snow-VB-fog': 0.0007178823573360457,\n",
       " 'LH-snow-LN-rain': 0.0005880957164617323,\n",
       " 'LH-snow-LN-sun': 0.0005880957164617323,\n",
       " 'LH-snow-LN-clouds': 0.0005880957164617323,\n",
       " 'LH-snow-LN-snow': 0.0005880957164617323,\n",
       " 'LH-snow-LN-fog': 0.0005880957164617323,\n",
       " 'LH-snow-SP-rain': 0.0005475373911885095,\n",
       " 'LH-snow-SP-sun': 0.0005475373911885095,\n",
       " 'LH-snow-SP-clouds': 0.0005475373911885095,\n",
       " 'LH-snow-SP-snow': 0.0005475373911885095,\n",
       " 'LH-snow-SP-fog': 0.0005475373911885095,\n",
       " 'LH-snow-CS-rain': 0.00047250448943304704,\n",
       " 'LH-snow-CS-sun': 0.00047250448943304704,\n",
       " 'LH-snow-CS-clouds': 0.00047250448943304704,\n",
       " 'LH-snow-CS-snow': 0.00047250448943304704,\n",
       " 'LH-snow-CS-fog': 0.00047250448943304704,\n",
       " 'LH-snow-CL-rain': 0.00047047657316938587,\n",
       " 'LH-snow-CL-sun': 0.00047047657316938587,\n",
       " 'LH-snow-CL-clouds': 0.00047047657316938587,\n",
       " 'LH-snow-CL-snow': 0.00047047657316938587,\n",
       " 'LH-snow-CL-fog': 0.00047047657316938587,\n",
       " 'LH-snow-DR-rain': 0.00038530409009561776,\n",
       " 'LH-snow-DR-sun': 0.00038530409009561776,\n",
       " 'LH-snow-DR-clouds': 0.00038530409009561776,\n",
       " 'LH-snow-DR-snow': 0.00038530409009561776,\n",
       " 'LH-snow-DR-fog': 0.00038530409009561776,\n",
       " 'LH-snow-PG-rain': 0.00030013160702184965,\n",
       " 'LH-snow-PG-sun': 0.00030013160702184965,\n",
       " 'LH-snow-PG-clouds': 0.00030013160702184965,\n",
       " 'LH-snow-PG-snow': 0.00030013160702184965,\n",
       " 'LH-snow-PG-fog': 0.00030013160702184965,\n",
       " 'LH-snow-FA-rain': 0.00023523828658469293,\n",
       " 'LH-snow-FA-sun': 0.00023523828658469293,\n",
       " 'LH-snow-FA-clouds': 0.00023523828658469293,\n",
       " 'LH-snow-FA-snow': 0.00023523828658469293,\n",
       " 'LH-snow-FA-fog': 0.00023523828658469293,\n",
       " 'LH-snow-EO-rain': 0.00018656829625682543,\n",
       " 'LH-snow-EO-sun': 0.00018656829625682543,\n",
       " 'LH-snow-EO-clouds': 0.00018656829625682543,\n",
       " 'LH-snow-EO-snow': 0.00018656829625682543,\n",
       " 'LH-snow-EO-fog': 0.00018656829625682543,\n",
       " 'LH-snow-SV-rain': 0.00014195413845628026,\n",
       " 'LH-snow-SV-sun': 0.00014195413845628026,\n",
       " 'LH-snow-SV-clouds': 0.00014195413845628026,\n",
       " 'LH-snow-SV-snow': 0.00014195413845628026,\n",
       " 'LH-snow-SV-fog': 0.00014195413845628026,\n",
       " 'LH-snow-LS-rain': 0.00010545164571037959,\n",
       " 'LH-snow-LS-sun': 0.00010545164571037959,\n",
       " 'LH-snow-LS-clouds': 0.00010545164571037959,\n",
       " 'LH-snow-LS-snow': 0.00010545164571037959,\n",
       " 'LH-snow-LS-fog': 0.00010545164571037959,\n",
       " 'LH-snow-YT-rain': 7.300498549180126e-05,\n",
       " 'LH-snow-YT-sun': 7.300498549180126e-05,\n",
       " 'LH-snow-YT-clouds': 7.300498549180126e-05,\n",
       " 'LH-snow-YT-snow': 7.300498549180126e-05,\n",
       " 'LH-snow-YT-fog': 7.300498549180126e-05,\n",
       " 'LH-snow-GR-rain': 6.489332043715667e-05,\n",
       " 'LH-snow-GR-sun': 6.489332043715667e-05,\n",
       " 'LH-snow-GR-clouds': 6.489332043715667e-05,\n",
       " 'LH-snow-GR-snow': 6.489332043715667e-05,\n",
       " 'LH-snow-GR-fog': 6.489332043715667e-05,\n",
       " 'LH-snow-KR-rain': 2.8390827691256046e-05,\n",
       " 'LH-snow-KR-sun': 2.8390827691256046e-05,\n",
       " 'LH-snow-KR-clouds': 2.8390827691256046e-05,\n",
       " 'LH-snow-KR-snow': 2.8390827691256046e-05,\n",
       " 'LH-snow-KR-fog': 2.8390827691256046e-05,\n",
       " 'LH-snow-AG-rain': 2.4334995163933753e-05,\n",
       " 'LH-snow-AG-sun': 2.4334995163933753e-05,\n",
       " 'LH-snow-AG-clouds': 2.4334995163933753e-05,\n",
       " 'LH-snow-AG-snow': 2.4334995163933753e-05,\n",
       " 'LH-snow-AG-fog': 2.4334995163933753e-05,\n",
       " 'LH-snow-MS-rain': 4.055832527322292e-06,\n",
       " 'LH-snow-MS-sun': 4.055832527322292e-06,\n",
       " 'LH-snow-MS-clouds': 4.055832527322292e-06,\n",
       " 'LH-snow-MS-snow': 4.055832527322292e-06,\n",
       " 'LH-snow-MS-fog': 4.055832527322292e-06,\n",
       " 'LH-snow-RK-rain': 0.0,\n",
       " 'LH-snow-RK-sun': 0.0,\n",
       " 'LH-snow-RK-clouds': 0.0,\n",
       " 'LH-snow-RK-snow': 0.0,\n",
       " 'LH-snow-RK-fog': 0.0,\n",
       " 'LH-snow-NM-rain': 0.0,\n",
       " 'LH-snow-NM-sun': 0.0,\n",
       " 'LH-snow-NM-clouds': 0.0,\n",
       " 'LH-snow-NM-snow': 0.0,\n",
       " 'LH-snow-NM-fog': 0.0,\n",
       " 'LH-fog-MV-rain': 0.0010646560384221019,\n",
       " 'LH-fog-MV-sun': 0.0010646560384221019,\n",
       " 'LH-fog-MV-clouds': 0.0010646560384221019,\n",
       " 'LH-fog-MV-snow': 0.0010646560384221019,\n",
       " 'LH-fog-MV-fog': 0.0010646560384221019,\n",
       " 'LH-fog-LH-rain': 0.001040321043258168,\n",
       " 'LH-fog-LH-sun': 0.001040321043258168,\n",
       " 'LH-fog-LH-clouds': 0.001040321043258168,\n",
       " 'LH-fog-LH-snow': 0.001040321043258168,\n",
       " 'LH-fog-LH-fog': 0.001040321043258168,\n",
       " 'LH-fog-VB-rain': 0.0007178823573360457,\n",
       " 'LH-fog-VB-sun': 0.0007178823573360457,\n",
       " 'LH-fog-VB-clouds': 0.0007178823573360457,\n",
       " 'LH-fog-VB-snow': 0.0007178823573360457,\n",
       " 'LH-fog-VB-fog': 0.0007178823573360457,\n",
       " 'LH-fog-LN-rain': 0.0005880957164617323,\n",
       " 'LH-fog-LN-sun': 0.0005880957164617323,\n",
       " 'LH-fog-LN-clouds': 0.0005880957164617323,\n",
       " 'LH-fog-LN-snow': 0.0005880957164617323,\n",
       " 'LH-fog-LN-fog': 0.0005880957164617323,\n",
       " 'LH-fog-SP-rain': 0.0005475373911885095,\n",
       " 'LH-fog-SP-sun': 0.0005475373911885095,\n",
       " 'LH-fog-SP-clouds': 0.0005475373911885095,\n",
       " 'LH-fog-SP-snow': 0.0005475373911885095,\n",
       " 'LH-fog-SP-fog': 0.0005475373911885095,\n",
       " 'LH-fog-CS-rain': 0.00047250448943304704,\n",
       " 'LH-fog-CS-sun': 0.00047250448943304704,\n",
       " 'LH-fog-CS-clouds': 0.00047250448943304704,\n",
       " 'LH-fog-CS-snow': 0.00047250448943304704,\n",
       " 'LH-fog-CS-fog': 0.00047250448943304704,\n",
       " 'LH-fog-CL-rain': 0.00047047657316938587,\n",
       " 'LH-fog-CL-sun': 0.00047047657316938587,\n",
       " 'LH-fog-CL-clouds': 0.00047047657316938587,\n",
       " 'LH-fog-CL-snow': 0.00047047657316938587,\n",
       " 'LH-fog-CL-fog': 0.00047047657316938587,\n",
       " 'LH-fog-DR-rain': 0.00038530409009561776,\n",
       " 'LH-fog-DR-sun': 0.00038530409009561776,\n",
       " 'LH-fog-DR-clouds': 0.00038530409009561776,\n",
       " 'LH-fog-DR-snow': 0.00038530409009561776,\n",
       " 'LH-fog-DR-fog': 0.00038530409009561776,\n",
       " 'LH-fog-PG-rain': 0.00030013160702184965,\n",
       " 'LH-fog-PG-sun': 0.00030013160702184965,\n",
       " 'LH-fog-PG-clouds': 0.00030013160702184965,\n",
       " 'LH-fog-PG-snow': 0.00030013160702184965,\n",
       " 'LH-fog-PG-fog': 0.00030013160702184965,\n",
       " 'LH-fog-FA-rain': 0.00023523828658469293,\n",
       " 'LH-fog-FA-sun': 0.00023523828658469293,\n",
       " 'LH-fog-FA-clouds': 0.00023523828658469293,\n",
       " 'LH-fog-FA-snow': 0.00023523828658469293,\n",
       " 'LH-fog-FA-fog': 0.00023523828658469293,\n",
       " 'LH-fog-EO-rain': 0.00018656829625682543,\n",
       " 'LH-fog-EO-sun': 0.00018656829625682543,\n",
       " 'LH-fog-EO-clouds': 0.00018656829625682543,\n",
       " 'LH-fog-EO-snow': 0.00018656829625682543,\n",
       " 'LH-fog-EO-fog': 0.00018656829625682543,\n",
       " 'LH-fog-SV-rain': 0.00014195413845628026,\n",
       " 'LH-fog-SV-sun': 0.00014195413845628026,\n",
       " 'LH-fog-SV-clouds': 0.00014195413845628026,\n",
       " 'LH-fog-SV-snow': 0.00014195413845628026,\n",
       " 'LH-fog-SV-fog': 0.00014195413845628026,\n",
       " 'LH-fog-LS-rain': 0.00010545164571037959,\n",
       " 'LH-fog-LS-sun': 0.00010545164571037959,\n",
       " 'LH-fog-LS-clouds': 0.00010545164571037959,\n",
       " 'LH-fog-LS-snow': 0.00010545164571037959,\n",
       " 'LH-fog-LS-fog': 0.00010545164571037959,\n",
       " 'LH-fog-YT-rain': 7.300498549180126e-05,\n",
       " 'LH-fog-YT-sun': 7.300498549180126e-05,\n",
       " 'LH-fog-YT-clouds': 7.300498549180126e-05,\n",
       " 'LH-fog-YT-snow': 7.300498549180126e-05,\n",
       " 'LH-fog-YT-fog': 7.300498549180126e-05,\n",
       " 'LH-fog-GR-rain': 6.489332043715667e-05,\n",
       " 'LH-fog-GR-sun': 6.489332043715667e-05,\n",
       " 'LH-fog-GR-clouds': 6.489332043715667e-05,\n",
       " 'LH-fog-GR-snow': 6.489332043715667e-05,\n",
       " 'LH-fog-GR-fog': 6.489332043715667e-05,\n",
       " 'LH-fog-KR-rain': 2.8390827691256046e-05,\n",
       " 'LH-fog-KR-sun': 2.8390827691256046e-05,\n",
       " 'LH-fog-KR-clouds': 2.8390827691256046e-05,\n",
       " 'LH-fog-KR-snow': 2.8390827691256046e-05,\n",
       " 'LH-fog-KR-fog': 2.8390827691256046e-05,\n",
       " 'LH-fog-AG-rain': 2.4334995163933753e-05,\n",
       " 'LH-fog-AG-sun': 2.4334995163933753e-05,\n",
       " 'LH-fog-AG-clouds': 2.4334995163933753e-05,\n",
       " 'LH-fog-AG-snow': 2.4334995163933753e-05,\n",
       " 'LH-fog-AG-fog': 2.4334995163933753e-05,\n",
       " 'LH-fog-MS-rain': 4.055832527322292e-06,\n",
       " 'LH-fog-MS-sun': 4.055832527322292e-06,\n",
       " 'LH-fog-MS-clouds': 4.055832527322292e-06,\n",
       " 'LH-fog-MS-snow': 4.055832527322292e-06,\n",
       " 'LH-fog-MS-fog': 4.055832527322292e-06,\n",
       " 'LH-fog-RK-rain': 0.0,\n",
       " 'LH-fog-RK-sun': 0.0,\n",
       " 'LH-fog-RK-clouds': 0.0,\n",
       " 'LH-fog-RK-snow': 0.0,\n",
       " 'LH-fog-RK-fog': 0.0,\n",
       " 'LH-fog-NM-rain': 0.0,\n",
       " 'LH-fog-NM-sun': 0.0,\n",
       " 'LH-fog-NM-clouds': 0.0,\n",
       " 'LH-fog-NM-snow': 0.0,\n",
       " 'LH-fog-NM-fog': 0.0,\n",
       " ...}"
      ]
     },
     "execution_count": 110,
     "metadata": {},
     "output_type": "execute_result"
    }
   ],
   "source": [
    "#Joint probability distribution \n",
    "\n",
    "MM= joint(IGP, weatherCondition, RGP, weatherCondition, '-')\n",
    "MM"
   ]
  },
  {
   "cell_type": "markdown",
   "metadata": {},
   "source": [
    "> ##### Red Bull Racing wins at least one of these two races on a ***rainy day***."
   ]
  },
  {
   "cell_type": "code",
   "execution_count": 111,
   "metadata": {},
   "outputs": [],
   "source": [
    "def redBullAtleastoneRainy(outcome):\n",
    "    return 'MV-rain' in outcome or 'SP-rain' in outcome"
   ]
  },
  {
   "cell_type": "code",
   "execution_count": 112,
   "metadata": {},
   "outputs": [
    {
     "data": {
      "text/plain": [
       "0.09747013493055175"
      ]
     },
     "execution_count": 112,
     "metadata": {},
     "output_type": "execute_result"
    }
   ],
   "source": [
    "p(redBullAtleastoneRainy,MM)"
   ]
  },
  {
   "cell_type": "markdown",
   "metadata": {},
   "source": [
    "> ##### What is the probability Red Bull Racing wins ***both*** races, assuming races can be held on either rainy, sunny, cloudy, snowy or foggy days?"
   ]
  },
  {
   "cell_type": "code",
   "execution_count": 113,
   "metadata": {},
   "outputs": [],
   "source": [
    "def redBullFirst(outcome):\n",
    "    return outcome.split('-')[0] == 'MV' or outcome.split('-')[0] == 'SP'\n",
    "\n",
    "def redBullSecond(outcome):\n",
    "    return outcome.split('-')[2] == 'MV' or outcome.split('-')[2] == 'SP'"
   ]
  },
  {
   "cell_type": "code",
   "execution_count": 114,
   "metadata": {},
   "outputs": [
    {
     "data": {
      "text/plain": [
       "0.24992140836215065"
      ]
     },
     "execution_count": 114,
     "metadata": {},
     "output_type": "execute_result"
    }
   ],
   "source": [
    "p(redBullSecond,such_that(redBullFirst,MM))"
   ]
  }
 ],
 "metadata": {
  "kernelspec": {
   "display_name": "Python 3",
   "language": "python",
   "name": "python3"
  },
  "language_info": {
   "codemirror_mode": {
    "name": "ipython",
    "version": 3
   },
   "file_extension": ".py",
   "mimetype": "text/x-python",
   "name": "python",
   "nbconvert_exporter": "python",
   "pygments_lexer": "ipython3",
   "version": "3.8.8"
  }
 },
 "nbformat": 4,
 "nbformat_minor": 4
}
