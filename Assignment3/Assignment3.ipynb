{
 "cells": [
  {
   "cell_type": "markdown",
   "metadata": {},
   "source": [
    "## Assignment 3\n",
    "\n",
    "#### Team mates: Shashank Siripragada & Sneha Swaroop, Group 4"
   ]
  },
  {
   "cell_type": "code",
   "execution_count": 56,
   "metadata": {},
   "outputs": [],
   "source": [
    "import io\n",
    "import PIL\n",
    "import glob\n",
    "import numpy as np\n",
    "import pandas as pd\n",
    "from os import listdir\n",
    "from os.path import isfile, join\n",
    "from IPython.display import Image\n",
    "from PIL import Image as pili, ImageOps as piliops\n",
    "from PIL import Image, ImageFont, ImageDraw, ImageFilter\n",
    "from PIL import Image as pili, ImageDraw as pild, ImageFont as pilf"
   ]
  },
  {
   "cell_type": "markdown",
   "metadata": {},
   "source": [
    "Let's have a look at the dialog csv file containing English and Telugu captions for or comic book."
   ]
  },
  {
   "cell_type": "code",
   "execution_count": 57,
   "metadata": {},
   "outputs": [
    {
     "data": {
      "text/html": [
       "<div>\n",
       "<style scoped>\n",
       "    .dataframe tbody tr th:only-of-type {\n",
       "        vertical-align: middle;\n",
       "    }\n",
       "\n",
       "    .dataframe tbody tr th {\n",
       "        vertical-align: top;\n",
       "    }\n",
       "\n",
       "    .dataframe thead th {\n",
       "        text-align: right;\n",
       "    }\n",
       "</style>\n",
       "<table border=\"1\" class=\"dataframe\">\n",
       "  <thead>\n",
       "    <tr style=\"text-align: right;\">\n",
       "      <th></th>\n",
       "      <th>en</th>\n",
       "      <th>te</th>\n",
       "    </tr>\n",
       "  </thead>\n",
       "  <tbody>\n",
       "    <tr>\n",
       "      <th>0</th>\n",
       "      <td>This is the beautiful place where\\nthe story o...</td>\n",
       "      <td>ప్రకాశవంతమైన యుకీ కథ \\nప్రారంభమయ్యే అందమైన ప్ర...</td>\n",
       "    </tr>\n",
       "    <tr>\n",
       "      <th>1</th>\n",
       "      <td>Yuki was an orphan.</td>\n",
       "      <td>యుకీ ఒక అనాధ.\\r</td>\n",
       "    </tr>\n",
       "    <tr>\n",
       "      <th>2</th>\n",
       "      <td>On a snowy winter night ten years ago, \\nshe w...</td>\n",
       "      <td>పదేళ్ల క్రితం మంచుతో కూడిన \\nశీతాకాలపు రాత్రి,...</td>\n",
       "    </tr>\n",
       "    <tr>\n",
       "      <th>3</th>\n",
       "      <td>Despite her unfortunate situation, \\nYuki grew...</td>\n",
       "      <td>ఆమె దురదృష్టకర పరిస్థితి \\nఉన్నప్పటికీ, యుకి ఒ...</td>\n",
       "    </tr>\n",
       "    <tr>\n",
       "      <th>4</th>\n",
       "      <td>All right! All clean!</td>\n",
       "      <td>అయితే సరే! అన్నీ శుభ్రంగా!</td>\n",
       "    </tr>\n",
       "    <tr>\n",
       "      <th>5</th>\n",
       "      <td>Hey, you!</td>\n",
       "      <td>హే, నువ్వు!</td>\n",
       "    </tr>\n",
       "    <tr>\n",
       "      <th>6</th>\n",
       "      <td>Help me! Teacher!</td>\n",
       "      <td>సహాయం! టీచర్!\\r</td>\n",
       "    </tr>\n",
       "    <tr>\n",
       "      <th>7</th>\n",
       "      <td>She often surprised \\npeople with how energeti...</td>\n",
       "      <td>ఆమె ఎంత శక్తివంతమైనది అని \\nఆమె తరచుగా ప్రజలను...</td>\n",
       "    </tr>\n",
       "    <tr>\n",
       "      <th>8</th>\n",
       "      <td>But she had strange quirks \\nas well, she'd ge...</td>\n",
       "      <td>కానీ ఆమెకి చమత్కారాలు కూడా ఉన్నాయి, \\nఆమె ప్రజ...</td>\n",
       "    </tr>\n",
       "    <tr>\n",
       "      <th>9</th>\n",
       "      <td>One day her life unexpectedly \\nchanged, she w...</td>\n",
       "      <td>ఒకరోజు ఆమె జీవితం ఊహించని \\nవిధంగా మారిపోయింది...</td>\n",
       "    </tr>\n",
       "  </tbody>\n",
       "</table>\n",
       "</div>"
      ],
      "text/plain": [
       "                                                  en  \\\n",
       "0  This is the beautiful place where\\nthe story o...   \n",
       "1                                Yuki was an orphan.   \n",
       "2  On a snowy winter night ten years ago, \\nshe w...   \n",
       "3  Despite her unfortunate situation, \\nYuki grew...   \n",
       "4                              All right! All clean!   \n",
       "5                                          Hey, you!   \n",
       "6                                  Help me! Teacher!   \n",
       "7  She often surprised \\npeople with how energeti...   \n",
       "8  But she had strange quirks \\nas well, she'd ge...   \n",
       "9  One day her life unexpectedly \\nchanged, she w...   \n",
       "\n",
       "                                                  te  \n",
       "0  ప్రకాశవంతమైన యుకీ కథ \\nప్రారంభమయ్యే అందమైన ప్ర...  \n",
       "1                                    యుకీ ఒక అనాధ.\\r  \n",
       "2  పదేళ్ల క్రితం మంచుతో కూడిన \\nశీతాకాలపు రాత్రి,...  \n",
       "3  ఆమె దురదృష్టకర పరిస్థితి \\nఉన్నప్పటికీ, యుకి ఒ...  \n",
       "4                         అయితే సరే! అన్నీ శుభ్రంగా!  \n",
       "5                                        హే, నువ్వు!  \n",
       "6                                    సహాయం! టీచర్!\\r  \n",
       "7  ఆమె ఎంత శక్తివంతమైనది అని \\nఆమె తరచుగా ప్రజలను...  \n",
       "8  కానీ ఆమెకి చమత్కారాలు కూడా ఉన్నాయి, \\nఆమె ప్రజ...  \n",
       "9  ఒకరోజు ఆమె జీవితం ఊహించని \\nవిధంగా మారిపోయింది...  "
      ]
     },
     "execution_count": 57,
     "metadata": {},
     "output_type": "execute_result"
    }
   ],
   "source": [
    "data = pd.read_csv('dialog.csv')\n",
    "en_captions = data.iloc[:,0]\n",
    "te_captions = data.iloc[:,1]\n",
    "data.head(10)"
   ]
  },
  {
   "cell_type": "markdown",
   "metadata": {},
   "source": [
    "#### Now we define some of the global variable such as font_size, border size, and the path containing the cartoon images."
   ]
  },
  {
   "cell_type": "code",
   "execution_count": 58,
   "metadata": {},
   "outputs": [],
   "source": [
    "font_size = 40\n",
    "border = (30, 30)\n",
    "border_color = 'grey'\n",
    "font_color = (209, 239, 8)\n",
    "TINT_COLOR = (0, 0, 0)  # Black\n",
    "TRANSPARENCY = .25  # Degree of transparency, 0-100%\n",
    "OPACITY = int(255 * TRANSPARENCY)\n",
    "\n",
    "mypath = 'toons/yuki'\n",
    "onlyfiles = [f for f in listdir(mypath) if isfile(join(mypath, f))]\n",
    "imlist = glob.glob(\"{}/img*.png\".format(mypath))\n",
    "\n",
    "cover = pili.open('toons/yuki/label.png')\n",
    "width, height = cover.size"
   ]
  },
  {
   "cell_type": "markdown",
   "metadata": {},
   "source": [
    "#### Here we create a function to horizontally stack given lost of images together"
   ]
  },
  {
   "cell_type": "code",
   "execution_count": 59,
   "metadata": {},
   "outputs": [],
   "source": [
    "def hstacker(input_list):\n",
    "    min_shape = sorted( [(np.sum(i.size), i.size ) for i in input_list])[0][1]\n",
    "    imgs_comb = np.hstack((np.asarray(i.resize(min_shape)) for i in input_list ) )\n",
    "    imgs_comb = pili.fromarray(imgs_comb)\n",
    "    return imgs_comb"
   ]
  },
  {
   "cell_type": "markdown",
   "metadata": {},
   "source": [
    "Similar function to stack images vertically"
   ]
  },
  {
   "cell_type": "code",
   "execution_count": 65,
   "metadata": {},
   "outputs": [],
   "source": [
    "def vstacker(input_list):\n",
    "    min_shape = sorted([(np.sum(i.size), i.size ) for i in input_list])[0][1]\n",
    "    imgs_comb = np.vstack((np.asarray( i.resize(min_shape) ) for i in input_list))\n",
    "    imgs_comb = pili.fromarray( imgs_comb)\n",
    "    return imgs_comb"
   ]
  },
  {
   "cell_type": "markdown",
   "metadata": {},
   "source": [
    "#### Through this function we add border and caption to the given an image.\n",
    "\n",
    "This function is capable of adding unicode fonts as well through the keywork argument **unicode**"
   ]
  },
  {
   "cell_type": "code",
   "execution_count": 66,
   "metadata": {},
   "outputs": [],
   "source": [
    "def add_border_captions(img, caption, unicode=False):\n",
    "    img = piliops.expand(pili.open(img), border=border,fill=border_color).convert('RGBA')\n",
    "    overlay = pili.new('RGBA', img.size, TINT_COLOR+(0,))\n",
    "    draw = pild.Draw(overlay)\n",
    "    \n",
    "    if unicode == True:\n",
    "        font = pilf.truetype(\"c:/windows/fonts/nirmalas.ttf\", font_size)\n",
    "    else:\n",
    "        font = pilf.truetype(\"arial.ttf\", font_size)\n",
    "    \n",
    "    w, h = font.getsize(caption)\n",
    "    num_lines = len(caption.split('\\n'))\n",
    "    x, y = 50, img.height - (num_lines)*1.5*h\n",
    "    \n",
    "    draw.rectangle((0, y, img.width, y + (num_lines)*1.5*h), fill=TINT_COLOR+(OPACITY,))\n",
    "    draw.text((x, y), caption, fill=font_color, font=font)\n",
    "    \n",
    "    img = pili.alpha_composite(img, overlay)\n",
    "    img = img.convert(\"RGB\")\n",
    "    return img"
   ]
  },
  {
   "cell_type": "markdown",
   "metadata": {},
   "source": [
    "#### Now we tie all the functionalities together with the fuction below, where it adds the stacked comics to generate comic book pdf with the desired images. "
   ]
  },
  {
   "cell_type": "code",
   "execution_count": 67,
   "metadata": {},
   "outputs": [
    {
     "name": "stderr",
     "output_type": "stream",
     "text": [
      "<ipython-input-59-4e6b642a4a8f>:3: FutureWarning: arrays to stack must be passed as a \"sequence\" type such as list or tuple. Support for non-sequence iterables such as generators is deprecated as of NumPy 1.16 and will raise an error in the future.\n",
      "  imgs_comb = np.hstack((np.asarray(i.resize(min_shape)) for i in input_list ) )\n"
     ]
    },
    {
     "name": "stdout",
     "output_type": "stream",
     "text": [
      "Your comicbooks are ready!\n"
     ]
    }
   ],
   "source": [
    "from fpdf import FPDF\n",
    "pdf_english = FPDF(unit = \"pt\", format = [width, height])\n",
    "pdf_telugu = FPDF(unit = \"pt\", format = [width, height])\n",
    "\n",
    "def generate_pdf(imlist, en_captions, te_captions):\n",
    "    label = 'toons/yuki/label.png'           \n",
    "    pdf_english.add_page()\n",
    "    pdf_english.image(label, 0, 0, width, height)\n",
    "    pdf_telugu.add_page()\n",
    "    pdf_telugu.image(label, 0, 0, width, height)\n",
    "    \n",
    "    while len(imlist) > 0:\n",
    "        lines, num_cols, old_num_cols = 0, 0, 0\n",
    "        cpt_begin = 1\n",
    "        while lines < 14 and len(imlist) > 0:\n",
    "            lines += 1\n",
    "            while num_cols == old_num_cols:\n",
    "                num_cols = np.random.randint(2, 4)\n",
    "            old_num_cols = num_cols\n",
    "            window = imlist[:num_cols]\n",
    "            cpt_end = cpt_begin + num_cols-1\n",
    "            \n",
    "            en_window_captions, te_window_captions = en_captions[cpt_begin-1:cpt_end+1], te_captions[cpt_begin-1:cpt_end+1]\n",
    "            \n",
    "            en_window = [add_border_captions(i, encp) for i, encp in zip(window, en_window_captions)]\n",
    "            te_window = [add_border_captions(i, tecp, unicode=True) for i, tecp in zip(window, te_window_captions)]\n",
    "            \n",
    "            en_merged = hstacker(en_window)\n",
    "            te_merged = hstacker(te_window)\n",
    "            \n",
    "            en_out_fname = 'toons/temp/en{}.png'.format(lines)\n",
    "            te_out_fname = 'toons/temp/te{}.png'.format(lines)\n",
    "            \n",
    "            en_merged.save(en_out_fname)\n",
    "            te_merged.save(te_out_fname)\n",
    "            \n",
    "            cpt_begin = cpt_end+1\n",
    "            imlist = imlist[num_cols:]\n",
    "\n",
    "    \n",
    "    for i in range(1, lines, 3):\n",
    "        en_inputs = [pili.open('toons/temp/en{}.png'.format(n)) for n in range(i, i+3)]\n",
    "        te_inputs = [pili.open('toons/temp/te{}.png'.format(n)) for n in range(i, i+3)]\n",
    "        en_stacked  = vstacker(en_inputs)\n",
    "        te_stacked  = vstacker(te_inputs)\n",
    "        en_out = 'toons/temp/env{}.png'.format(i)\n",
    "        te_out = 'toons/temp/tev{}.png'.format(i)\n",
    "            \n",
    "        en_stacked.save(en_out)\n",
    "        te_stacked.save(te_out)\n",
    "        pdf_english.add_page()\n",
    "        pdf_english.image(en_out, 0, 0, width, height)\n",
    "        pdf_telugu.add_page()\n",
    "        pdf_telugu.image(te_out, 0, 0, width, height)\n",
    "        \n",
    "generate_pdf(imlist, en_captions, te_captions)\n",
    "        \n",
    "pdf_english.output(\"Yuki_English.pdf\", \"F\")\n",
    "pdf_telugu.output(\"Yuki_Telugu.pdf\", \"F\")\n",
    "\n",
    "print(\"Your comicbooks are ready!\")\n",
    "\n",
    "\n"
   ]
  },
  {
   "cell_type": "code",
   "execution_count": null,
   "metadata": {},
   "outputs": [],
   "source": []
  },
  {
   "cell_type": "code",
   "execution_count": null,
   "metadata": {},
   "outputs": [],
   "source": []
  },
  {
   "cell_type": "code",
   "execution_count": null,
   "metadata": {},
   "outputs": [],
   "source": []
  }
 ],
 "metadata": {
  "kernelspec": {
   "display_name": "Python 3",
   "language": "python",
   "name": "python3"
  },
  "language_info": {
   "codemirror_mode": {
    "name": "ipython",
    "version": 3
   },
   "file_extension": ".py",
   "mimetype": "text/x-python",
   "name": "python",
   "nbconvert_exporter": "python",
   "pygments_lexer": "ipython3",
   "version": "3.8.8"
  }
 },
 "nbformat": 4,
 "nbformat_minor": 2
}
