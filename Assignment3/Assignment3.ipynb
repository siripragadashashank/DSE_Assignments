{
 "cells": [
  {
   "cell_type": "code",
   "execution_count": 52,
   "metadata": {},
   "outputs": [],
   "source": [
    "import PIL\n",
    "import glob\n",
    "import numpy as np\n",
    "import pandas as pd\n",
    "from os import listdir\n",
    "from os.path import isfile, join\n",
    "from IPython.display import Image\n",
    "from PIL import Image as pili, ImageOps as piliops\n",
    "from PIL import Image, ImageFont, ImageDraw, ImageFilter\n",
    "from PIL import Image as pili, ImageDraw as pild, ImageFont as pilf"
   ]
  },
  {
   "cell_type": "code",
   "execution_count": 53,
   "metadata": {},
   "outputs": [],
   "source": [
    "data = pd.read_csv('dialog.csv')\n",
    "en_captions = data.iloc[:,0]\n",
    "hi_captions = data.iloc[:,1]"
   ]
  },
  {
   "cell_type": "code",
   "execution_count": 54,
   "metadata": {},
   "outputs": [],
   "source": [
    "font_size = 20\n",
    "border = (30, 30)\n",
    "font_color = (30, 30, 90)\n",
    "TINT_COLOR = (0, 0, 0)  # Black\n",
    "TRANSPARENCY = .25  # Degree of transparency, 0-100%\n",
    "OPACITY = int(255 * TRANSPARENCY)\n",
    "\n",
    "mypath = 'toons/comics'\n",
    "onlyfiles = [f for f in listdir(mypath) if isfile(join(mypath, f))]\n",
    "imlist = glob.glob(\"{}/test*.jpg\".format(mypath))\n",
    "\n",
    "cover = pili.open('toons/comics/test1.jpg')\n",
    "width, height = cover.size"
   ]
  },
  {
   "cell_type": "code",
   "execution_count": 55,
   "metadata": {},
   "outputs": [],
   "source": [
    "def hstacker(input_list):\n",
    "    min_shape = sorted( [(np.sum(i.size), i.size ) for i in input_list])[0][1]\n",
    "    imgs_comb = np.hstack((np.asarray(i.resize(min_shape)) for i in input_list ) )\n",
    "    imgs_comb = pili.fromarray(imgs_comb)\n",
    "    return imgs_comb"
   ]
  },
  {
   "cell_type": "code",
   "execution_count": 56,
   "metadata": {},
   "outputs": [],
   "source": [
    "def vstacker(input_list):\n",
    "    min_shape = sorted([(np.sum(i.size), i.size ) for i in input_list])[0][1]\n",
    "    imgs_comb = np.vstack((np.asarray( i.resize(min_shape) ) for i in input_list))\n",
    "    imgs_comb = pili.fromarray( imgs_comb)\n",
    "    return imgs_comb"
   ]
  },
  {
   "cell_type": "code",
   "execution_count": 57,
   "metadata": {},
   "outputs": [],
   "source": [
    "def add_border_captions(img, caption, unicode=False):\n",
    "    img = piliops.expand(pili.open(img), border=border,fill='white').convert('RGBA')\n",
    "    overlay = pili.new('RGBA', img.size, TINT_COLOR+(0,))\n",
    "    draw = pild.Draw(overlay)\n",
    "    \n",
    "    if unicode == True:\n",
    "        font = pilf.truetype(\"c:/windows/fonts/nirmalas.ttf\", font_size)\n",
    "    else:\n",
    "        font = pilf.truetype(\"arial.ttf\", 30)\n",
    "    \n",
    "    w, h = font.getsize(caption)\n",
    "    num_lines = len(caption.split('\\n'))\n",
    "    x, y = 0, img.height - (num_lines)*h\n",
    "    \n",
    "    draw.rectangle((x, y, x + img.width, y + (num_lines)*2*h), fill=TINT_COLOR+(OPACITY,))\n",
    "    draw.text((x, y), caption, fill=font_color, font=font)\n",
    "    \n",
    "    img = pili.alpha_composite(img, overlay)\n",
    "    img = img.convert(\"RGB\")\n",
    "    return img"
   ]
  },
  {
   "cell_type": "code",
   "execution_count": 60,
   "metadata": {},
   "outputs": [
    {
     "name": "stdout",
     "output_type": "stream",
     "text": [
      "['toons/comics\\\\test1.jpg', 'toons/comics\\\\test2.jpg', 'toons/comics\\\\test3.jpg']\n"
     ]
    },
    {
     "name": "stderr",
     "output_type": "stream",
     "text": [
      "<ipython-input-55-4e6b642a4a8f>:3: FutureWarning: arrays to stack must be passed as a \"sequence\" type such as list or tuple. Support for non-sequence iterables such as generators is deprecated as of NumPy 1.16 and will raise an error in the future.\n",
      "  imgs_comb = np.hstack((np.asarray(i.resize(min_shape)) for i in input_list ) )\n"
     ]
    },
    {
     "name": "stdout",
     "output_type": "stream",
     "text": [
      "['toons/comics\\\\test4.jpg', 'toons/comics\\\\test5.jpg', 'toons/comics\\\\test6.jpg', 'toons/comics\\\\test7.jpg']\n",
      "['toons/comics\\\\test8.jpg', 'toons/comics\\\\test9.jpg']\n",
      "Your comicbooks is ready!\n"
     ]
    }
   ],
   "source": [
    "from fpdf import FPDF\n",
    "pdf_english = FPDF(unit = \"pt\", format = [width, height])\n",
    "pdf_hindi = FPDF(unit = \"pt\", format = [width, height])\n",
    "\n",
    "def arrange_images_to_pdfs(imlist, en_captions, hi_captions):\n",
    "    while 0 < len(imlist):\n",
    "        lines = 0\n",
    "        num_cols = old_num_cols = 0\n",
    "        while lines < 4 and 0 < len(imlist):\n",
    "            lines += 1\n",
    "            while num_cols == old_num_cols:\n",
    "                num_cols = np.random.randint(3, 5)\n",
    "            old_num_cols = num_cols\n",
    "            window = imlist[:num_cols]\n",
    "            print(window)\n",
    "            \n",
    "            en_window_captions, hi_window_captions = en_captions[:num_cols], hi_captions[:num_cols]\n",
    "            en_window = [add_border_captions(i, encp) for i, encp in zip(window, en_window_captions) ]\n",
    "            en_merged = hstacker(en_window)\n",
    "            en_out_fname = 'toons/comics/temp_en{}.png'.format(lines)\n",
    "            en_merged.save(en_out_fname)            \n",
    "            pdf_english.add_page()\n",
    "            pdf_english.image(en_out_fname, 0, 0, width, height)\n",
    "\n",
    "            hi_window = [add_border_captions(i, hicp, unicode=True) for i, hicp in zip(window, hi_window_captions)]\n",
    "            hi_merged = hstacker(hi_window)\n",
    "            hi_out_fname = 'toons/comics/temp_hi{}.png'.format(lines)\n",
    "            hi_merged.save(hi_out_fname)\n",
    "            pdf_hindi.add_page()\n",
    "            pdf_hindi.image(hi_out_fname, 0, 0, width, height)\n",
    "            \n",
    "            imlist = imlist[num_cols:]\n",
    "\n",
    "arrange_images_to_pdfs(imlist, en_captions, hi_captions)\n",
    "        \n",
    "pdf_english.output(\"toons/comics/final_en.pdf\", \"F\")\n",
    "pdf_hindi.output(\"toons/comics/final_hi.pdf\", \"F\")\n",
    "\n",
    "print(\"Your comicbooks is ready!\")"
   ]
  },
  {
   "cell_type": "code",
   "execution_count": null,
   "metadata": {},
   "outputs": [],
   "source": []
  },
  {
   "cell_type": "code",
   "execution_count": null,
   "metadata": {},
   "outputs": [],
   "source": []
  }
 ],
 "metadata": {
  "kernelspec": {
   "display_name": "Python 3",
   "language": "python",
   "name": "python3"
  },
  "language_info": {
   "codemirror_mode": {
    "name": "ipython",
    "version": 3
   },
   "file_extension": ".py",
   "mimetype": "text/x-python",
   "name": "python",
   "nbconvert_exporter": "python",
   "pygments_lexer": "ipython3",
   "version": "3.8.8"
  }
 },
 "nbformat": 4,
 "nbformat_minor": 2
}
