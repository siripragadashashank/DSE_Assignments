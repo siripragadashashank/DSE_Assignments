{
 "cells": [
  {
   "cell_type": "markdown",
   "id": "69dfb1ae",
   "metadata": {},
   "source": [
    "## Assignment 8 Group 18\n",
    "\n",
    "### Shashank Siripragada & Tengfei Wang"
   ]
  },
  {
   "cell_type": "code",
   "execution_count": 418,
   "id": "962801d4",
   "metadata": {},
   "outputs": [],
   "source": [
    "import pandas as pd\n",
    "import matplotlib.pyplot as plt\n",
    "\n",
    "%matplotlib inline\n",
    "import seaborn as sns\n",
    "import numpy as np\n",
    "from scipy.stats.distributions import norm, gamma\n",
    "\n",
    "from scipy.optimize import newton\n",
    "from scipy.special import psi, polygamma\n"
   ]
  },
  {
   "cell_type": "markdown",
   "id": "edfda45f",
   "metadata": {},
   "source": [
    "#### Let's consider a simple data set of Nutrition data on 80 Cereal products containing 4 columns. (Protien, fat, fiber, carbo)"
   ]
  },
  {
   "cell_type": "code",
   "execution_count": 419,
   "id": "e3815590",
   "metadata": {},
   "outputs": [
    {
     "data": {
      "text/html": [
       "<div>\n",
       "<style scoped>\n",
       "    .dataframe tbody tr th:only-of-type {\n",
       "        vertical-align: middle;\n",
       "    }\n",
       "\n",
       "    .dataframe tbody tr th {\n",
       "        vertical-align: top;\n",
       "    }\n",
       "\n",
       "    .dataframe thead th {\n",
       "        text-align: right;\n",
       "    }\n",
       "</style>\n",
       "<table border=\"1\" class=\"dataframe\">\n",
       "  <thead>\n",
       "    <tr style=\"text-align: right;\">\n",
       "      <th></th>\n",
       "      <th>protein</th>\n",
       "      <th>fat</th>\n",
       "      <th>fiber</th>\n",
       "      <th>carbo</th>\n",
       "    </tr>\n",
       "    <tr>\n",
       "      <th>name</th>\n",
       "      <th></th>\n",
       "      <th></th>\n",
       "      <th></th>\n",
       "      <th></th>\n",
       "    </tr>\n",
       "  </thead>\n",
       "  <tbody>\n",
       "    <tr>\n",
       "      <th>100% Bran</th>\n",
       "      <td>4</td>\n",
       "      <td>1</td>\n",
       "      <td>10.0</td>\n",
       "      <td>5.0</td>\n",
       "    </tr>\n",
       "    <tr>\n",
       "      <th>100% Natural Bran</th>\n",
       "      <td>3</td>\n",
       "      <td>5</td>\n",
       "      <td>2.0</td>\n",
       "      <td>8.0</td>\n",
       "    </tr>\n",
       "    <tr>\n",
       "      <th>All-Bran</th>\n",
       "      <td>4</td>\n",
       "      <td>1</td>\n",
       "      <td>9.0</td>\n",
       "      <td>7.0</td>\n",
       "    </tr>\n",
       "    <tr>\n",
       "      <th>All-Bran with Extra Fiber</th>\n",
       "      <td>4</td>\n",
       "      <td>0</td>\n",
       "      <td>14.0</td>\n",
       "      <td>8.0</td>\n",
       "    </tr>\n",
       "    <tr>\n",
       "      <th>Almond Delight</th>\n",
       "      <td>2</td>\n",
       "      <td>2</td>\n",
       "      <td>1.0</td>\n",
       "      <td>14.0</td>\n",
       "    </tr>\n",
       "    <tr>\n",
       "      <th>...</th>\n",
       "      <td>...</td>\n",
       "      <td>...</td>\n",
       "      <td>...</td>\n",
       "      <td>...</td>\n",
       "    </tr>\n",
       "    <tr>\n",
       "      <th>Triples</th>\n",
       "      <td>2</td>\n",
       "      <td>1</td>\n",
       "      <td>0.0</td>\n",
       "      <td>21.0</td>\n",
       "    </tr>\n",
       "    <tr>\n",
       "      <th>Trix</th>\n",
       "      <td>1</td>\n",
       "      <td>1</td>\n",
       "      <td>0.0</td>\n",
       "      <td>13.0</td>\n",
       "    </tr>\n",
       "    <tr>\n",
       "      <th>Wheat Chex</th>\n",
       "      <td>3</td>\n",
       "      <td>1</td>\n",
       "      <td>3.0</td>\n",
       "      <td>17.0</td>\n",
       "    </tr>\n",
       "    <tr>\n",
       "      <th>Wheaties</th>\n",
       "      <td>3</td>\n",
       "      <td>1</td>\n",
       "      <td>3.0</td>\n",
       "      <td>17.0</td>\n",
       "    </tr>\n",
       "    <tr>\n",
       "      <th>Wheaties Honey Gold</th>\n",
       "      <td>2</td>\n",
       "      <td>1</td>\n",
       "      <td>1.0</td>\n",
       "      <td>16.0</td>\n",
       "    </tr>\n",
       "  </tbody>\n",
       "</table>\n",
       "<p>77 rows × 4 columns</p>\n",
       "</div>"
      ],
      "text/plain": [
       "                           protein  fat  fiber  carbo\n",
       "name                                                 \n",
       "100% Bran                        4    1   10.0    5.0\n",
       "100% Natural Bran                3    5    2.0    8.0\n",
       "All-Bran                         4    1    9.0    7.0\n",
       "All-Bran with Extra Fiber        4    0   14.0    8.0\n",
       "Almond Delight                   2    2    1.0   14.0\n",
       "...                            ...  ...    ...    ...\n",
       "Triples                          2    1    0.0   21.0\n",
       "Trix                             1    1    0.0   13.0\n",
       "Wheat Chex                       3    1    3.0   17.0\n",
       "Wheaties                         3    1    3.0   17.0\n",
       "Wheaties Honey Gold              2    1    1.0   16.0\n",
       "\n",
       "[77 rows x 4 columns]"
      ]
     },
     "execution_count": 419,
     "metadata": {},
     "output_type": "execute_result"
    }
   ],
   "source": [
    "df= pd.read_csv('cereal.csv')\n",
    "df.set_index('name', inplace=True)\n",
    "df\n"
   ]
  },
  {
   "cell_type": "code",
   "execution_count": 420,
   "id": "ec72f999",
   "metadata": {},
   "outputs": [
    {
     "data": {
      "text/html": [
       "<div>\n",
       "<style scoped>\n",
       "    .dataframe tbody tr th:only-of-type {\n",
       "        vertical-align: middle;\n",
       "    }\n",
       "\n",
       "    .dataframe tbody tr th {\n",
       "        vertical-align: top;\n",
       "    }\n",
       "\n",
       "    .dataframe thead th {\n",
       "        text-align: right;\n",
       "    }\n",
       "</style>\n",
       "<table border=\"1\" class=\"dataframe\">\n",
       "  <thead>\n",
       "    <tr style=\"text-align: right;\">\n",
       "      <th></th>\n",
       "      <th>protein</th>\n",
       "      <th>fat</th>\n",
       "      <th>fiber</th>\n",
       "      <th>carbo</th>\n",
       "    </tr>\n",
       "  </thead>\n",
       "  <tbody>\n",
       "    <tr>\n",
       "      <th>count</th>\n",
       "      <td>77.000000</td>\n",
       "      <td>77.000000</td>\n",
       "      <td>77.000000</td>\n",
       "      <td>77.000000</td>\n",
       "    </tr>\n",
       "    <tr>\n",
       "      <th>mean</th>\n",
       "      <td>2.545455</td>\n",
       "      <td>1.012987</td>\n",
       "      <td>2.151948</td>\n",
       "      <td>14.597403</td>\n",
       "    </tr>\n",
       "    <tr>\n",
       "      <th>std</th>\n",
       "      <td>1.094790</td>\n",
       "      <td>1.006473</td>\n",
       "      <td>2.383364</td>\n",
       "      <td>4.278956</td>\n",
       "    </tr>\n",
       "    <tr>\n",
       "      <th>min</th>\n",
       "      <td>1.000000</td>\n",
       "      <td>0.000000</td>\n",
       "      <td>0.000000</td>\n",
       "      <td>-1.000000</td>\n",
       "    </tr>\n",
       "    <tr>\n",
       "      <th>25%</th>\n",
       "      <td>2.000000</td>\n",
       "      <td>0.000000</td>\n",
       "      <td>1.000000</td>\n",
       "      <td>12.000000</td>\n",
       "    </tr>\n",
       "    <tr>\n",
       "      <th>50%</th>\n",
       "      <td>3.000000</td>\n",
       "      <td>1.000000</td>\n",
       "      <td>2.000000</td>\n",
       "      <td>14.000000</td>\n",
       "    </tr>\n",
       "    <tr>\n",
       "      <th>75%</th>\n",
       "      <td>3.000000</td>\n",
       "      <td>2.000000</td>\n",
       "      <td>3.000000</td>\n",
       "      <td>17.000000</td>\n",
       "    </tr>\n",
       "    <tr>\n",
       "      <th>max</th>\n",
       "      <td>6.000000</td>\n",
       "      <td>5.000000</td>\n",
       "      <td>14.000000</td>\n",
       "      <td>23.000000</td>\n",
       "    </tr>\n",
       "  </tbody>\n",
       "</table>\n",
       "</div>"
      ],
      "text/plain": [
       "         protein        fat      fiber      carbo\n",
       "count  77.000000  77.000000  77.000000  77.000000\n",
       "mean    2.545455   1.012987   2.151948  14.597403\n",
       "std     1.094790   1.006473   2.383364   4.278956\n",
       "min     1.000000   0.000000   0.000000  -1.000000\n",
       "25%     2.000000   0.000000   1.000000  12.000000\n",
       "50%     3.000000   1.000000   2.000000  14.000000\n",
       "75%     3.000000   2.000000   3.000000  17.000000\n",
       "max     6.000000   5.000000  14.000000  23.000000"
      ]
     },
     "execution_count": 420,
     "metadata": {},
     "output_type": "execute_result"
    }
   ],
   "source": [
    "df.describe()"
   ]
  },
  {
   "cell_type": "code",
   "execution_count": 421,
   "id": "ab56e441",
   "metadata": {},
   "outputs": [
    {
     "data": {
      "text/plain": [
       "protein    False\n",
       "fat        False\n",
       "fiber      False\n",
       "carbo      False\n",
       "dtype: bool"
      ]
     },
     "execution_count": 421,
     "metadata": {},
     "output_type": "execute_result"
    }
   ],
   "source": [
    "df.isna().any()"
   ]
  },
  {
   "cell_type": "markdown",
   "id": "57e08aa7",
   "metadata": {},
   "source": [
    "#### We don't have any missing values in the columns."
   ]
  },
  {
   "cell_type": "code",
   "execution_count": 422,
   "id": "ff503017",
   "metadata": {},
   "outputs": [
    {
     "data": {
      "image/png": "[encoded data removed]",
      "text/plain": [
       "<Figure size 432x288 with 4 Axes>"
      ]
     },
     "metadata": {
      "needs_background": "light"
     },
     "output_type": "display_data"
    }
   ],
   "source": [
    "_= df.hist(sharex=True, sharey=True, grid=False)\n",
    "plt.tight_layout()"
   ]
  },
  {
   "cell_type": "markdown",
   "id": "1a93c304",
   "metadata": {},
   "source": [
    "#### Lets clean the data\n"
   ]
  },
  {
   "cell_type": "code",
   "execution_count": 423,
   "id": "aee95c8b",
   "metadata": {},
   "outputs": [],
   "source": [
    "# removing zeros from fat and fiber\n",
    "# removing negative values in carbo\n",
    "\n",
    "df.loc[(df.carbo < 0), 'carbo'] = df.carbo.median()\n",
    "\n",
    "df.loc[(df.fat == 0), 'fat'] = df.fat.median()\n",
    "\n",
    "df.loc[(df.fiber == 0), 'fiber'] = df.fiber.median()\n",
    "\n",
    "# # df = df[(df['carbo'] >= 0) & (df['fat'] > 0) & (df['fiber'] > 0)] \n",
    "# df"
   ]
  },
  {
   "cell_type": "code",
   "execution_count": 424,
   "id": "68777536",
   "metadata": {},
   "outputs": [
    {
     "data": {
      "text/plain": [
       "protein     2.545455\n",
       "fat         1.363636\n",
       "fiber       2.645455\n",
       "carbo      14.792208\n",
       "dtype: float64"
      ]
     },
     "execution_count": 424,
     "metadata": {},
     "output_type": "execute_result"
    }
   ],
   "source": [
    "df_mean = df.mean()\n",
    "df_mean"
   ]
  },
  {
   "cell_type": "code",
   "execution_count": 425,
   "id": "ff8f780c",
   "metadata": {},
   "outputs": [
    {
     "data": {
      "text/plain": [
       "protein     3.0\n",
       "fat         1.0\n",
       "fiber       2.0\n",
       "carbo      14.0\n",
       "dtype: float64"
      ]
     },
     "execution_count": 425,
     "metadata": {},
     "output_type": "execute_result"
    }
   ],
   "source": [
    "df_median = df.median()\n",
    "df_median"
   ]
  },
  {
   "cell_type": "code",
   "execution_count": 426,
   "id": "e53f67a0",
   "metadata": {},
   "outputs": [
    {
     "data": {
      "text/plain": [
       "protein     1.198565\n",
       "fat         0.523923\n",
       "fiber       4.281722\n",
       "carbo      15.074675\n",
       "dtype: float64"
      ]
     },
     "execution_count": 426,
     "metadata": {},
     "output_type": "execute_result"
    }
   ],
   "source": [
    "df_var = df.var()\n",
    "df_var"
   ]
  },
  {
   "cell_type": "code",
   "execution_count": 427,
   "id": "680e10fe",
   "metadata": {},
   "outputs": [
    {
     "data": {
      "text/plain": [
       "(protein     5.405915\n",
       " fat         3.549191\n",
       " fiber       1.634489\n",
       " carbo      14.515033\n",
       " dtype: float64,\n",
       " protein    0.470865\n",
       " fat        0.384211\n",
       " fiber      1.618521\n",
       " carbo      1.019096\n",
       " dtype: float64)"
      ]
     },
     "execution_count": 427,
     "metadata": {},
     "output_type": "execute_result"
    }
   ],
   "source": [
    "alpha_mom = df_mean ** 2 / df_var\n",
    "beta_mom = df_var / df_mean\n",
    "alpha_mom, beta_mom"
   ]
  },
  {
   "cell_type": "markdown",
   "id": "20d99e0e",
   "metadata": {},
   "source": [
    "#### Then, use the gamma pdf function to plot the distributions implied by the calculated alphas and betas."
   ]
  },
  {
   "cell_type": "code",
   "execution_count": 428,
   "id": "f5f0cd4e",
   "metadata": {},
   "outputs": [
    {
     "data": {
      "image/png": "[encoded data removed]",
      "text/plain": [
       "<Figure size 432x288 with 1 Axes>"
      ]
     },
     "metadata": {
      "needs_background": "light"
     },
     "output_type": "display_data"
    }
   ],
   "source": [
    "df.fat.hist(density=True, bins=5)\n",
    "plt.plot(np.linspace(0, 100), gamma.pdf(np.linspace(0,100), alpha_mom[1], beta_mom[1]))\n",
    "\n",
    "plt.xlabel('fat',  fontsize = 12)\n",
    "\n",
    "plt.show()"
   ]
  },
  {
   "cell_type": "code",
   "execution_count": 429,
   "id": "1bc0f540",
   "metadata": {},
   "outputs": [
    {
     "data": {
      "image/png": "[encoded data removed]",
      "text/plain": [
       "<Figure size 432x288 with 1 Axes>"
      ]
     },
     "metadata": {
      "needs_background": "light"
     },
     "output_type": "display_data"
    }
   ],
   "source": [
    "from scipy.stats import poisson\n",
    "\n",
    "df.carbo.hist(density=True, bins=10)\n",
    "plt.plot(np.linspace(0, 100), gamma.pdf(np.linspace(0,100), alpha_mom[3], beta_mom[3]))\n",
    "\n",
    "plt.xlabel('carbo',  fontsize = 12)\n",
    "plt.show()"
   ]
  },
  {
   "cell_type": "code",
   "execution_count": 430,
   "id": "2b2b833e",
   "metadata": {},
   "outputs": [
    {
     "data": {
      "image/png": "[encoded data removed]",
      "text/plain": [
       "<Figure size 432x288 with 1 Axes>"
      ]
     },
     "metadata": {
      "needs_background": "light"
     },
     "output_type": "display_data"
    }
   ],
   "source": [
    "df.fiber.hist(density=True, bins=10)\n",
    "plt.plot(np.linspace(0, 70), gamma.pdf(np.linspace(0,170), alpha_mom[2], beta_mom[2]))\n",
    "\n",
    "plt.xlabel('Fiber',  fontsize = 12)\n",
    "plt.show()"
   ]
  },
  {
   "cell_type": "code",
   "execution_count": 431,
   "id": "10e9e7c0",
   "metadata": {},
   "outputs": [
    {
     "data": {
      "image/png": "[encoded data removed]",
      "text/plain": [
       "<Figure size 432x288 with 1 Axes>"
      ]
     },
     "metadata": {
      "needs_background": "light"
     },
     "output_type": "display_data"
    }
   ],
   "source": [
    "df.protein.hist(density=True, bins=5)\n",
    "plt.plot(np.linspace(0, 50), gamma.pdf(np.linspace(0,100), alpha_mom[0], beta_mom[0]))\n",
    "\n",
    "plt.xlabel('Protien',  fontsize = 12)\n",
    "plt.show()"
   ]
  },
  {
   "cell_type": "code",
   "execution_count": 432,
   "id": "fd337db3",
   "metadata": {},
   "outputs": [
    {
     "data": {
      "image/png": "[encoded data removed]",
      "text/plain": [
       "<Figure size 864x576 with 4 Axes>"
      ]
     },
     "metadata": {
      "needs_background": "light"
     },
     "output_type": "display_data"
    }
   ],
   "source": [
    "axs = df.hist(density=True, figsize=(12, 8), sharex=True, sharey=True, bins=10, grid=True)\n",
    "\n",
    "for ax in axs.ravel():\n",
    "    m = ax.get_title()\n",
    "    # Plot fitted distribution\n",
    "    x = np.linspace(*ax.get_xlim())\n",
    "    ax.plot(x, gamma.pdf(x, alpha_mom[m], beta_mom[m]))\n",
    "    \n",
    "    # Annotate with parameter estimates\n",
    "    label = 'alpha = {0:.2f}\\nbeta = {1:.2f}'.format(alpha_mom[m], beta_mom[m])\n",
    "    ax.annotate(label, xy=(18, 0.04))\n",
    "    \n",
    "#plt.tight_layout()\n"
   ]
  },
  {
   "cell_type": "markdown",
   "id": "98a85c50",
   "metadata": {},
   "source": [
    "### Let's now try with the mle approach"
   ]
  },
  {
   "cell_type": "code",
   "execution_count": 433,
   "id": "494d473c",
   "metadata": {},
   "outputs": [],
   "source": [
    "\n",
    "dlgamma = lambda m, log_mean, mean_log: np.log(m) - psi(m) - log_mean + mean_log\n",
    "dl2gamma = lambda m, *args: 1./m - polygamma(1, m)"
   ]
  },
  {
   "cell_type": "code",
   "execution_count": 434,
   "id": "d2061839",
   "metadata": {},
   "outputs": [
    {
     "name": "stdout",
     "output_type": "stream",
     "text": [
      "protein    0.934309\n",
      "fat        0.310155\n",
      "fiber      0.972843\n",
      "carbo      2.694101\n",
      "dtype: float64 \n",
      " protein    0.836015\n",
      "fat        0.218267\n",
      "fiber      0.787272\n",
      "carbo      2.656936\n",
      "dtype: float64\n"
     ]
    }
   ],
   "source": [
    "log_mean = np.log(df.mean())\n",
    "mean_log = df.apply(np.log).mean()\n",
    "\n",
    "\n",
    "# mean_log = np.log(df.replace(0, np.nan)).mean()\n",
    "print(log_mean, '\\n', mean_log)"
   ]
  },
  {
   "cell_type": "code",
   "execution_count": 435,
   "id": "3ff2cd98",
   "metadata": {},
   "outputs": [],
   "source": [
    "from scipy import optimize\n",
    "\n",
    "mean,var = df.mean(),df.var()\n",
    "\n",
    "alpha_mom = mean ** 2 / var\n",
    "beta_mom = var / mean\n",
    "\n",
    "alpha_mle, beta_mle = [0]*len(df.columns), [0]*len(df.columns)\n",
    "\n",
    "for i in range(len(df.columns)):\n",
    "    alpha_mle[i] = newton(dlgamma, 2, dl2gamma, args=(log_mean[i], mean_log[i])) # Calculation parameter alpha\n",
    "    beta_mle[i] = alpha_mle[i]/mean[i]\n",
    "\n",
    "\n"
   ]
  },
  {
   "cell_type": "code",
   "execution_count": 441,
   "id": "a4480d10",
   "metadata": {},
   "outputs": [
    {
     "data": {
      "image/png": "[encoded data removed]",
      "text/plain": [
       "<Figure size 864x576 with 4 Axes>"
      ]
     },
     "metadata": {
      "needs_background": "light"
     },
     "output_type": "display_data"
    }
   ],
   "source": [
    "axs = df.hist(density=True, figsize=(12, 8), sharex=True, sharey=True, bins=10, grid=True)\n",
    "i = 0\n",
    "for ax in axs.ravel():\n",
    "    m = ax.get_title()\n",
    "    \n",
    "    # Plot fitted distribution\n",
    "    x = np.linspace(*ax.get_xlim())\n",
    "    ax.plot(x, gamma.pdf(x, alpha_mom[m], beta_mom[m]), 'b-')\n",
    "    ax.plot(x, gamma.pdf(x, alpha_mle[i], beta_mle[i]), 'r-')\n",
    "    i +=1\n",
    "#     # Annotate with parameter estimates\n",
    "#     label = 'alpha = {0:.2f}\\nbeta = {1:.2f}'.format(alpha_mom[m], beta_mom[m])\n",
    "#     ax.annotate(label, xy=(18, 0.04))\n",
    "    \n",
    "#plt.tight_layout()\n",
    "\n",
    "\n",
    "# df.protein.hist(density=True, bins=5)\n",
    "# plt.plot(np.linspace(0,10), gamma.pdf(np.linspace(0,10), alpha_mom[0], beta_mom[0]), 'b-')\n",
    "# plt.plot(np.linspace(0,10), gamma.pdf(np.linspace(0,10), alpha_mle[0], beta_mle[0]), 'r-')\n",
    "\n",
    "# plt.xlabel('Protien',  fontsize = 12)\n",
    "# plt.show()"
   ]
  },
  {
   "cell_type": "code",
   "execution_count": 437,
   "id": "32637947",
   "metadata": {},
   "outputs": [
    {
     "data": {
      "image/png": "[encoded data removed]",
      "text/plain": [
       "<Figure size 432x288 with 1 Axes>"
      ]
     },
     "metadata": {
      "needs_background": "light"
     },
     "output_type": "display_data"
    }
   ],
   "source": [
    "df.fat.hist(density=True, bins=5)\n",
    "plt.plot(np.linspace(0,10), gamma.pdf(np.linspace(0,10), alpha_mom[1], beta_mom[1]), 'b-')\n",
    "plt.plot(np.linspace(0,10), gamma.pdf(np.linspace(0,10), alpha_mle[1], beta_mle[1]), 'r-')\n",
    "\n",
    "plt.xlabel('Fat',  fontsize = 12)\n",
    "plt.show()"
   ]
  },
  {
   "cell_type": "code",
   "execution_count": 438,
   "id": "d3042bfd",
   "metadata": {},
   "outputs": [
    {
     "data": {
      "image/png": "[encoded data removed]",
      "text/plain": [
       "<Figure size 432x288 with 1 Axes>"
      ]
     },
     "metadata": {
      "needs_background": "light"
     },
     "output_type": "display_data"
    }
   ],
   "source": [
    "df.fiber.hist(density=True, bins=10)\n",
    "plt.plot(np.linspace(0,20), gamma.pdf(np.linspace(0,20), alpha_mom[2], beta_mom[2]), 'b-')\n",
    "plt.plot(np.linspace(0,20), gamma.pdf(np.linspace(0,20), alpha_mle[2], beta_mle[2]), 'r-')\n",
    "\n",
    "plt.xlabel('Fiber',  fontsize = 12)\n",
    "plt.show()"
   ]
  },
  {
   "cell_type": "code",
   "execution_count": 439,
   "id": "27d65fb2",
   "metadata": {},
   "outputs": [
    {
     "data": {
      "image/png": "[encoded data removed]",
      "text/plain": [
       "<Figure size 432x288 with 1 Axes>"
      ]
     },
     "metadata": {
      "needs_background": "light"
     },
     "output_type": "display_data"
    }
   ],
   "source": [
    "df.carbo.hist(density=True, bins=10)\n",
    "plt.plot(np.linspace(0,20), gamma.pdf(np.linspace(0,20), alpha_mom[3], beta_mom[3]), 'b-')\n",
    "plt.plot(np.linspace(0,20), gamma.pdf(np.linspace(0,20), alpha_mle[3], beta_mle[3]), 'r-')\n",
    "\n",
    "plt.xlabel('Fiber',  fontsize = 12)\n",
    "plt.show()"
   ]
  },
  {
   "cell_type": "code",
   "execution_count": 295,
   "id": "6bbc6f42",
   "metadata": {},
   "outputs": [
    {
     "ename": "AttributeError",
     "evalue": "module 'arviz' has no attribute 'geweke'",
     "output_type": "error",
     "traceback": [
      "\u001b[1;31m---------------------------------------------------------------------------\u001b[0m",
      "\u001b[1;31mAttributeError\u001b[0m                            Traceback (most recent call last)",
      "\u001b[1;32m<ipython-input-295-2e5c536b7c65>\u001b[0m in \u001b[0;36m<module>\u001b[1;34m\u001b[0m\n\u001b[1;32m----> 1\u001b[1;33m \u001b[1;32mimport\u001b[0m \u001b[0mpymc3\u001b[0m \u001b[1;32mas\u001b[0m \u001b[0mpm\u001b[0m\u001b[1;33m\u001b[0m\u001b[1;33m\u001b[0m\u001b[0m\n\u001b[0m",
      "\u001b[1;32mC:\\ProgramData\\Anaconda3\\lib\\site-packages\\pymc3\\__init__.py\u001b[0m in \u001b[0;36m<module>\u001b[1;34m\u001b[0m\n\u001b[0;32m     11\u001b[0m \u001b[1;32mfrom\u001b[0m \u001b[1;33m.\u001b[0m\u001b[0mmodel_graph\u001b[0m \u001b[1;32mimport\u001b[0m \u001b[0mmodel_to_graphviz\u001b[0m\u001b[1;33m\u001b[0m\u001b[1;33m\u001b[0m\u001b[0m\n\u001b[0;32m     12\u001b[0m \u001b[1;32mfrom\u001b[0m \u001b[1;33m.\u001b[0m \u001b[1;32mimport\u001b[0m \u001b[0mode\u001b[0m\u001b[1;33m\u001b[0m\u001b[1;33m\u001b[0m\u001b[0m\n\u001b[1;32m---> 13\u001b[1;33m \u001b[1;32mfrom\u001b[0m \u001b[1;33m.\u001b[0m\u001b[0mstats\u001b[0m \u001b[1;32mimport\u001b[0m \u001b[1;33m*\u001b[0m\u001b[1;33m\u001b[0m\u001b[1;33m\u001b[0m\u001b[0m\n\u001b[0m\u001b[0;32m     14\u001b[0m \u001b[1;32mfrom\u001b[0m \u001b[1;33m.\u001b[0m\u001b[0msampling\u001b[0m \u001b[1;32mimport\u001b[0m \u001b[1;33m*\u001b[0m\u001b[1;33m\u001b[0m\u001b[1;33m\u001b[0m\u001b[0m\n\u001b[0;32m     15\u001b[0m \u001b[1;32mfrom\u001b[0m \u001b[1;33m.\u001b[0m\u001b[0mstep_methods\u001b[0m \u001b[1;32mimport\u001b[0m \u001b[1;33m*\u001b[0m\u001b[1;33m\u001b[0m\u001b[1;33m\u001b[0m\u001b[0m\n",
      "\u001b[1;32mC:\\ProgramData\\Anaconda3\\lib\\site-packages\\pymc3\\stats\\__init__.py\u001b[0m in \u001b[0;36m<module>\u001b[1;34m\u001b[0m\n\u001b[0;32m     30\u001b[0m \u001b[0mcompare\u001b[0m \u001b[1;33m=\u001b[0m \u001b[0mmap_args\u001b[0m\u001b[1;33m(\u001b[0m\u001b[0maz\u001b[0m\u001b[1;33m.\u001b[0m\u001b[0mcompare\u001b[0m\u001b[1;33m)\u001b[0m\u001b[1;33m\u001b[0m\u001b[1;33m\u001b[0m\u001b[0m\n\u001b[0;32m     31\u001b[0m \u001b[0mess\u001b[0m \u001b[1;33m=\u001b[0m \u001b[0mmap_args\u001b[0m\u001b[1;33m(\u001b[0m\u001b[0maz\u001b[0m\u001b[1;33m.\u001b[0m\u001b[0mess\u001b[0m\u001b[1;33m)\u001b[0m\u001b[1;33m\u001b[0m\u001b[1;33m\u001b[0m\u001b[0m\n\u001b[1;32m---> 32\u001b[1;33m \u001b[0mgeweke\u001b[0m \u001b[1;33m=\u001b[0m \u001b[0mmap_args\u001b[0m\u001b[1;33m(\u001b[0m\u001b[0maz\u001b[0m\u001b[1;33m.\u001b[0m\u001b[0mgeweke\u001b[0m\u001b[1;33m)\u001b[0m\u001b[1;33m\u001b[0m\u001b[1;33m\u001b[0m\u001b[0m\n\u001b[0m\u001b[0;32m     33\u001b[0m \u001b[0mhpd\u001b[0m \u001b[1;33m=\u001b[0m \u001b[0mmap_args\u001b[0m\u001b[1;33m(\u001b[0m\u001b[0maz\u001b[0m\u001b[1;33m.\u001b[0m\u001b[0mhpd\u001b[0m\u001b[1;33m)\u001b[0m\u001b[1;33m\u001b[0m\u001b[1;33m\u001b[0m\u001b[0m\n\u001b[0;32m     34\u001b[0m \u001b[0mloo\u001b[0m \u001b[1;33m=\u001b[0m \u001b[0mmap_args\u001b[0m\u001b[1;33m(\u001b[0m\u001b[0maz\u001b[0m\u001b[1;33m.\u001b[0m\u001b[0mloo\u001b[0m\u001b[1;33m)\u001b[0m\u001b[1;33m\u001b[0m\u001b[1;33m\u001b[0m\u001b[0m\n",
      "\u001b[1;31mAttributeError\u001b[0m: module 'arviz' has no attribute 'geweke'"
     ]
    }
   ],
   "source": [
    "import pymc3 as pm"
   ]
  },
  {
   "cell_type": "code",
   "execution_count": null,
   "id": "1edf7f1c",
   "metadata": {},
   "outputs": [],
   "source": []
  }
 ],
 "metadata": {
  "kernelspec": {
   "display_name": "Python 3",
   "language": "python",
   "name": "python3"
  },
  "language_info": {
   "codemirror_mode": {
    "name": "ipython",
    "version": 3
   },
   "file_extension": ".py",
   "mimetype": "text/x-python",
   "name": "python",
   "nbconvert_exporter": "python",
   "pygments_lexer": "ipython3",
   "version": "3.8.8"
  }
 },
 "nbformat": 4,
 "nbformat_minor": 5
}
